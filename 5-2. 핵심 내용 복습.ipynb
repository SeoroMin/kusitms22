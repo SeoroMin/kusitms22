{
 "cells": [
  {
   "cell_type": "markdown",
   "metadata": {},
   "source": [
    "# 코딩 공부법\n",
    "### 데이터분석에 코딩만 있는 것은 아니지만, 데이터를 자유자재로 다룰 줄 모르면 통계적인 개념을 적용시킬 수 없고, 인사이트를 도출할 수 없기 때문에 코딩은 중요!\n",
    "- 100번 보는 것보다 한 번 외우는 것이 좋다.\n",
    "- 100번 외우는 것보다 한 번 이해(코드 구조)하는 것이 좋다.\n",
    "- 100번 이해하는 것보다 한 번 따라쳐보는 것이 좋다.\n",
    "- 100번 따라치는 것보다 한 번 본인이 새롭게 코드를 짜 보는 것이 좋다.<br>\n",
    "<br>\n",
    "- 중요도 : 암기 < 이해 < 타이핑 < 응용\n",
    "- 단계 : 한 번 코드 구조를 보고, 코드를 따라치면서 이해한다. 그 후 비슷한 구조의 코드를 새롭게 작성해본다.\n",
    "- 결론 : 본인이 문제에 맞는 코드를 백지 상태(아무것도 없는 코드 창)에서 새롭게 짜 보는 것이 가장 좋다.<br>\n",
    "<br>\n",
    "- 100번은 너무 심했나?? 암튼 그만큼 아래로 갈수록 중요합니다 ㅎㅎ\n",
    "- 참고 : 여러분의 공부 방법이 있다면 여러분의 방법대로 하셔도 됩니다 :)"
   ]
  },
  {
   "cell_type": "markdown",
   "metadata": {},
   "source": [
    "# 함수 구현"
   ]
  },
  {
   "cell_type": "markdown",
   "metadata": {},
   "source": [
    "```python\n",
    "def 함수이름(인자1, 인자2, 인자3, ...):\n",
    "    함수body\n",
    "    return 반환값\n",
    "```"
   ]
  },
  {
   "cell_type": "code",
   "execution_count": 1,
   "metadata": {},
   "outputs": [],
   "source": [
    "# 예시\n",
    "def average(a, b, c):\n",
    "    average = (a + b + c) / 3 # a,b,c의 평균\n",
    "    return average"
   ]
  },
  {
   "cell_type": "code",
   "execution_count": 2,
   "metadata": {},
   "outputs": [
    {
     "data": {
      "text/plain": [
       "4.0"
      ]
     },
     "execution_count": 2,
     "metadata": {},
     "output_type": "execute_result"
    }
   ],
   "source": [
    "average(3, 4, 5)"
   ]
  },
  {
   "cell_type": "markdown",
   "metadata": {},
   "source": [
    "#### Q1) 아래 예시처럼 본인만의 함수를 자유롭게 2개 만들어주세요.\n",
    "#### 아래 예시에 있는 함수를 구현해주셔도 되고, 새롭게 만들어주셔도 됩니다.\n",
    "\n",
    "예시)<br>\n",
    "화씨온도 -> 섭씨온도로 변환하는 함수<br>\n",
    "최대값을 반환해주는 함수<br>\n",
    "삼각형의 세 변의 길이를 인자로 받아서 넓이를 반환해주는 함수"
   ]
  },
  {
   "cell_type": "code",
   "execution_count": 3,
   "metadata": {},
   "outputs": [],
   "source": [
    "# 이 셀에 코드를 작성해주세요.\n"
   ]
  },
  {
   "cell_type": "code",
   "execution_count": 4,
   "metadata": {},
   "outputs": [],
   "source": [
    "# 이 셀에 코드를 작성해주세요.\n"
   ]
  },
  {
   "cell_type": "markdown",
   "metadata": {},
   "source": [
    "# 반복문"
   ]
  },
  {
   "cell_type": "markdown",
   "metadata": {},
   "source": [
    "```python\n",
    "for 임의변수 in 범위:\n",
    "    반복문body\n",
    "```"
   ]
  },
  {
   "cell_type": "code",
   "execution_count": 5,
   "metadata": {},
   "outputs": [
    {
     "name": "stdout",
     "output_type": "stream",
     "text": [
      "0\n",
      "1\n",
      "2\n",
      "3\n",
      "4\n",
      "5\n",
      "6\n",
      "7\n",
      "8\n",
      "9\n"
     ]
    }
   ],
   "source": [
    "# 예시\n",
    "for i in range(10):\n",
    "    print(i)"
   ]
  },
  {
   "cell_type": "markdown",
   "metadata": {},
   "source": [
    "#### Q2) 아래 예시처럼 본인만의 반복문을 자유롭게 2개 만들어주세요.\n",
    "#### 아래 예시에 있는 반복문을 구현해주셔도 되고, 새롭게 만들어주셔도 됩니다.\n",
    "\n",
    "예시)<br>\n",
    "소수(1보다 크고, 1과 자기 자신으로만 나누어지는 수)만 출력하는 반복문<br>\n",
    "Hello라는 단어 10번 출력하는 반복문<br>\n",
    "1,3,5 ~~~ 2씩 증가하는 반복문<br>"
   ]
  },
  {
   "cell_type": "code",
   "execution_count": 6,
   "metadata": {},
   "outputs": [],
   "source": [
    "# 이 셀에 코드를 작성해주세요.\n"
   ]
  },
  {
   "cell_type": "code",
   "execution_count": 7,
   "metadata": {},
   "outputs": [],
   "source": [
    "# 이 셀에 코드를 작성해주세요.\n"
   ]
  },
  {
   "cell_type": "markdown",
   "metadata": {},
   "source": [
    "# 데이터 생성"
   ]
  },
  {
   "cell_type": "code",
   "execution_count": 8,
   "metadata": {},
   "outputs": [],
   "source": [
    "import pandas as pd\n",
    "import numpy as np"
   ]
  },
  {
   "cell_type": "code",
   "execution_count": 9,
   "metadata": {},
   "outputs": [],
   "source": [
    "# 예시\n",
    "df1 = pd.DataFrame({'A' : [1, 1, 2],\n",
    "                   'B' : [3, 2, 5]})\n",
    "\n",
    "df2 = pd.DataFrame({'A' : [1, 2, 3],\n",
    "                   'C' : ['Big', 'Data', 'analytics']})"
   ]
  },
  {
   "cell_type": "code",
   "execution_count": 10,
   "metadata": {},
   "outputs": [],
   "source": [
    "# 예시2\n",
    "information = pd.DataFrame(data=[ [1, 'kim', 26], [2, 'lee', 27] ],\n",
    "                     index=['A','B'],\n",
    "                     columns=['order','name','age'])"
   ]
  },
  {
   "cell_type": "code",
   "execution_count": 13,
   "metadata": {},
   "outputs": [
    {
     "data": {
      "text/plain": [
       "array(['kim', 'lee'], dtype=object)"
      ]
     },
     "execution_count": 13,
     "metadata": {},
     "output_type": "execute_result"
    }
   ],
   "source": [
    "information['name'].values"
   ]
  },
  {
   "cell_type": "code",
   "execution_count": 16,
   "metadata": {},
   "outputs": [],
   "source": [
    "# 예시3\n",
    "population_dic = {'서울':[1053.5, 1023, 987],\n",
    "                  '경기':[1023, 1067, 1123],\n",
    "                  '충청':[512, 489, 487],\n",
    "                  '경상':[897, 872, 811],\n",
    "                  '전라':[451, 421, 399] }"
   ]
  },
  {
   "cell_type": "markdown",
   "metadata": {},
   "source": [
    "#### Q3) 지금까지 배운 데이터 생성법을 활용하여 본인만의 데이터를 자유롭게 만들어주세요.\n",
    "#### 조건 - 행 최소 3개, 열 최소 2개 "
   ]
  },
  {
   "cell_type": "code",
   "execution_count": 17,
   "metadata": {},
   "outputs": [],
   "source": [
    "# 이 셀에 코드를 작성해주세요.\n"
   ]
  },
  {
   "cell_type": "markdown",
   "metadata": {},
   "source": [
    "# 데이터 조회"
   ]
  },
  {
   "cell_type": "markdown",
   "metadata": {},
   "source": [
    "#### []를 이용해 그냥 조회, loc를 이용한 조회, iloc를 이용한 조회 등 여러 방법이 있습니다.\n",
    "#### Q4) 본인이 만든 데이터의 2행 2열 데이터를 조회해주세요"
   ]
  },
  {
   "cell_type": "code",
   "execution_count": 18,
   "metadata": {},
   "outputs": [],
   "source": [
    "# 이 셀에 코드를 작성해주세요.\n"
   ]
  },
  {
   "cell_type": "markdown",
   "metadata": {},
   "source": [
    "# 데이터 정렬, 통계"
   ]
  },
  {
   "cell_type": "markdown",
   "metadata": {},
   "source": [
    "#### Q5) 본인이 만든 데이터를 오름차순, 내림차순 등 자유롭게 정렬해보세요."
   ]
  },
  {
   "cell_type": "code",
   "execution_count": 19,
   "metadata": {},
   "outputs": [],
   "source": [
    "# 이 셀에 코드를 작성해주세요.\n"
   ]
  },
  {
   "cell_type": "markdown",
   "metadata": {},
   "source": [
    "#### Q6) 본인이 만든 데이터를 count(), sum(), mean()등 다양한 통계 함수를 활용해 통계치를 구해보세요."
   ]
  },
  {
   "cell_type": "code",
   "execution_count": 20,
   "metadata": {},
   "outputs": [],
   "source": [
    "# 이 셀에 코드를 작성해주세요.\n"
   ]
  },
  {
   "cell_type": "markdown",
   "metadata": {},
   "source": [
    "# 데이터 시각화\n"
   ]
  },
  {
   "cell_type": "markdown",
   "metadata": {},
   "source": [
    "#### Q7) 본인이 만든 데이터를 시각화 해보세요. (막대, 선, 산점도 등 원하는 차트의 유형을 활용해보세요)"
   ]
  },
  {
   "cell_type": "code",
   "execution_count": 21,
   "metadata": {},
   "outputs": [],
   "source": [
    "# 이 셀에 코드를 작성해주세요.\n"
   ]
  }
 ],
 "metadata": {
  "kernelspec": {
   "display_name": "Python 3",
   "language": "python",
   "name": "python3"
  },
  "language_info": {
   "codemirror_mode": {
    "name": "ipython",
    "version": 3
   },
   "file_extension": ".py",
   "mimetype": "text/x-python",
   "name": "python",
   "nbconvert_exporter": "python",
   "pygments_lexer": "ipython3",
   "version": "3.6.9"
  }
 },
 "nbformat": 4,
 "nbformat_minor": 2
}
