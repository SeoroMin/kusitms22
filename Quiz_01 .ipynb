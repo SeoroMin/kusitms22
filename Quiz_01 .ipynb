{
 "cells": [
  {
   "cell_type": "markdown",
   "metadata": {},
   "source": [
    "# Q1. 피라미드 만들기\n",
    "ex)<br>\n",
    "   1<br>\n",
    "  111<br>\n",
    " 11111<br>\n",
    "1111111<br>"
   ]
  },
  {
   "cell_type": "code",
   "execution_count": 1,
   "metadata": {},
   "outputs": [
    {
     "name": "stdout",
     "output_type": "stream",
     "text": [
      "1\n",
      "111\n",
      "11111\n",
      "1111111\n"
     ]
    }
   ],
   "source": [
    "# 위 예시와 같은 피라미드를 출력해주세요.\n",
    "for i in range(1, 9, 2):\n",
    "    print(i*\"1\")"
   ]
  },
  {
   "cell_type": "markdown",
   "metadata": {},
   "source": [
    "# Q2. 구구단(2단) 만들기\n",
    "ex) <br>\n",
    "2 * 1 = 2<br>\n",
    "2 * 2 = 4<br>\n",
    "2 * 3 = 6<br>\n",
    "2 * 4 = 8<br>\n",
    "2 * 5 = 10<br>\n",
    "2 * 6 = 12<br>\n",
    "2 * 7 = 14<br>\n",
    "2 * 8 = 16<br>\n",
    "2 * 9 = 18<br>"
   ]
  },
  {
   "cell_type": "code",
   "execution_count": 2,
   "metadata": {},
   "outputs": [
    {
     "name": "stdout",
     "output_type": "stream",
     "text": [
      "2 * 1 = 2\n",
      "2 * 2 = 4\n",
      "2 * 3 = 6\n",
      "2 * 4 = 8\n",
      "2 * 5 = 10\n",
      "2 * 6 = 12\n",
      "2 * 7 = 14\n",
      "2 * 8 = 16\n",
      "2 * 9 = 18\n"
     ]
    }
   ],
   "source": [
    "# 구구단 2단을 출력해주세요.\n",
    "for i in range(1, 10):\n",
    "    print(\"2 *\",i,\"=\",2*i)"
   ]
  },
  {
   "cell_type": "markdown",
   "metadata": {},
   "source": [
    "# Q3. list에 익숙해지기"
   ]
  },
  {
   "cell_type": "markdown",
   "metadata": {},
   "source": [
    "Q3-1 : [\"연어초밥\", \"신라면\", \"어몽어스\", \"파스타\"] list를 food라는 변수에 담아주세요"
   ]
  },
  {
   "cell_type": "code",
   "execution_count": 12,
   "metadata": {},
   "outputs": [
    {
     "data": {
      "text/plain": [
       "['연어초밥', '신라면', '어몽어스', '파스타']"
      ]
     },
     "execution_count": 12,
     "metadata": {},
     "output_type": "execute_result"
    }
   ],
   "source": [
    "# 이 셀은 예시입니다. 셀 작성은 아래 셀에서 진행해주세요"
   ]
  },
  {
   "cell_type": "code",
   "execution_count": 3,
   "metadata": {},
   "outputs": [],
   "source": [
    "food = ['연어초밥', '신라면', '어몽어스', '파스타']"
   ]
  },
  {
   "cell_type": "markdown",
   "metadata": {},
   "source": [
    "Q3-2 : \"연어초밥\",\"신라면\" 두 개의 값만 추출해주세요"
   ]
  },
  {
   "cell_type": "code",
   "execution_count": 9,
   "metadata": {},
   "outputs": [
    {
     "data": {
      "text/plain": [
       "['연어초밥', '신라면']"
      ]
     },
     "execution_count": 9,
     "metadata": {},
     "output_type": "execute_result"
    }
   ],
   "source": [
    "# 이 셀은 예시입니다. 셀 작성은 아래 셀에서 진행해주세요"
   ]
  },
  {
   "cell_type": "code",
   "execution_count": 5,
   "metadata": {},
   "outputs": [
    {
     "data": {
      "text/plain": [
       "['연어초밥', '신라면']"
      ]
     },
     "execution_count": 5,
     "metadata": {},
     "output_type": "execute_result"
    }
   ],
   "source": [
    "food[:2]"
   ]
  },
  {
   "cell_type": "markdown",
   "metadata": {},
   "source": [
    "Q3-3 : \"어몽어스\"를 list에서 삭제해주세요"
   ]
  },
  {
   "cell_type": "code",
   "execution_count": 13,
   "metadata": {},
   "outputs": [
    {
     "data": {
      "text/plain": [
       "['연어초밥', '신라면', '파스타']"
      ]
     },
     "execution_count": 13,
     "metadata": {},
     "output_type": "execute_result"
    }
   ],
   "source": [
    "# 이 셀은 예시입니다. 셀 작성은 아래 셀에서 진행해주세요"
   ]
  },
  {
   "cell_type": "code",
   "execution_count": 6,
   "metadata": {},
   "outputs": [],
   "source": [
    "del food[2]"
   ]
  },
  {
   "cell_type": "code",
   "execution_count": 7,
   "metadata": {},
   "outputs": [
    {
     "data": {
      "text/plain": [
       "['연어초밥', '신라면', '파스타']"
      ]
     },
     "execution_count": 7,
     "metadata": {},
     "output_type": "execute_result"
    }
   ],
   "source": [
    "food"
   ]
  },
  {
   "cell_type": "markdown",
   "metadata": {},
   "source": [
    "# Q4. 1~50 사이의 홀수 출력\n",
    "- 힌트 : range사용"
   ]
  },
  {
   "cell_type": "code",
   "execution_count": 10,
   "metadata": {},
   "outputs": [
    {
     "name": "stdout",
     "output_type": "stream",
     "text": [
      "1\n",
      "3\n",
      "5\n",
      "7\n",
      "9\n",
      "11\n",
      "13\n",
      "15\n",
      "17\n",
      "19\n",
      "21\n",
      "23\n",
      "25\n",
      "27\n",
      "29\n",
      "31\n",
      "33\n",
      "35\n",
      "37\n",
      "39\n",
      "41\n",
      "43\n",
      "45\n",
      "47\n",
      "49\n"
     ]
    }
   ],
   "source": [
    "# 1~50 사이 홀수를 출력해주세요.\n",
    "for i in range(1, 51, 2):\n",
    "    print(i)"
   ]
  },
  {
   "cell_type": "markdown",
   "metadata": {},
   "source": [
    "# Q5. 1~200 사이의 짝수 출력\n",
    "- 조건 : If문 최소 한 번 사용"
   ]
  },
  {
   "cell_type": "code",
   "execution_count": 11,
   "metadata": {},
   "outputs": [
    {
     "name": "stdout",
     "output_type": "stream",
     "text": [
      "1\n",
      "4\n",
      "5\n",
      "8\n",
      "9\n",
      "12\n",
      "13\n",
      "16\n",
      "17\n",
      "20\n",
      "21\n",
      "24\n",
      "25\n",
      "28\n",
      "29\n",
      "32\n",
      "33\n",
      "36\n",
      "37\n",
      "40\n",
      "41\n",
      "44\n",
      "45\n",
      "48\n",
      "49\n",
      "52\n",
      "53\n",
      "56\n",
      "57\n",
      "60\n",
      "61\n",
      "64\n",
      "65\n",
      "68\n",
      "69\n",
      "72\n",
      "73\n",
      "76\n",
      "77\n",
      "80\n",
      "81\n",
      "84\n",
      "85\n",
      "88\n",
      "89\n",
      "92\n",
      "93\n",
      "96\n",
      "97\n",
      "100\n",
      "101\n",
      "104\n",
      "105\n",
      "108\n",
      "109\n",
      "112\n",
      "113\n",
      "116\n",
      "117\n",
      "120\n",
      "121\n",
      "124\n",
      "125\n",
      "128\n",
      "129\n",
      "132\n",
      "133\n",
      "136\n",
      "137\n",
      "140\n",
      "141\n",
      "144\n",
      "145\n",
      "148\n",
      "149\n",
      "152\n",
      "153\n",
      "156\n",
      "157\n",
      "160\n",
      "161\n",
      "164\n",
      "165\n",
      "168\n",
      "169\n",
      "172\n",
      "173\n",
      "176\n",
      "177\n",
      "180\n",
      "181\n",
      "184\n",
      "185\n",
      "188\n",
      "189\n",
      "192\n",
      "193\n",
      "196\n",
      "197\n",
      "200\n"
     ]
    }
   ],
   "source": [
    "# 1~200 사이 짝수를 출력해주세요. (if문 최소 한 번 사용)\n",
    "for i in range(1, 201):\n",
    "    if (i & 2 == 0):\n",
    "        print(i)"
   ]
  },
  {
   "cell_type": "code",
   "execution_count": null,
   "metadata": {},
   "outputs": [],
   "source": []
  }
 ],
 "metadata": {
  "kernelspec": {
   "display_name": "Python 3",
   "language": "python",
   "name": "python3"
  },
  "language_info": {
   "codemirror_mode": {
    "name": "ipython",
    "version": 3
   },
   "file_extension": ".py",
   "mimetype": "text/x-python",
   "name": "python",
   "nbconvert_exporter": "python",
   "pygments_lexer": "ipython3",
   "version": "3.6.9"
  }
 },
 "nbformat": 4,
 "nbformat_minor": 2
}
