{
 "cells": [
  {
   "cell_type": "markdown",
   "metadata": {},
   "source": [
    "# 1주차 스터디"
   ]
  },
  {
   "cell_type": "markdown",
   "metadata": {},
   "source": [
    "1주차 수업에서는 데이터 분석을 하기 앞서, 데이터 분석을 하기 위한 언어인 python에 대해 간단히 알아보고, python을 효과적으로 활용할 수 있게 도와주는 도구인 jupyter notebook에 대해 알아보겠습니다.<br>\n",
    "\n",
    "python을 해보신 분들은 1주차는 매우 쉬울 것입니다.\n",
    "\n",
    "#### 1주차 스터디의 목차\n",
    "- 입출력과 변수\n",
    "- jupyter notebook 활용법\n",
    "- 사칙연산과 데이터타입\n",
    "- 주석처리와 함수구현\n",
    "- list와 dictionary\n",
    "- boolean과 조건문\n",
    "- range()와 반복문"
   ]
  },
  {
   "cell_type": "markdown",
   "metadata": {},
   "source": [
    "# 입출력과 변수"
   ]
  },
  {
   "cell_type": "markdown",
   "metadata": {},
   "source": [
    "가장 기초적인 \"Hello World 프로그램\"을 입력하고 실행해 봅니다.<br>\n",
    "간단하게 ``Hello World``라는 문장을 화면에 출력하는 프로그램입니다.<br>\n",
    "아래의 코드를 입력하고 실행해 봅니다.<br>\n",
    "\n",
    "```python\n",
    "print(\"Hello World\")\n",
    "```\n",
    "\n",
    "- **입력**은 아래의 ``In [ ]``으로 표현된 입력창(박스)안에 (위의) Python 프로그램을 타이핑하는 것을 의미하며,<br>\n",
    "- **실행**은 Python 프로그램을 입력한 ``In [ ]``박스안에서, 상단 메뉴의 ``Run`` 단추를 누르거나 ``Control + Enter`` 버튼을 입력합니다. <br>\n",
    "* Shift + Enter 버튼을 누르면 실행과 동시에 다음 셀로 넘어갑니다.\n",
    "\n",
    "``print()`` 문법은 Python에서 괄호안의 내용을 화면에 출력합니다.<br>\n",
    "위의 예제와 같이 ``\"`` ``\"`` 기호로 앞뒤를 감싼 문자열을 주면, 해당 문자열을 그대로 출력합니다.<br>"
   ]
  },
  {
   "cell_type": "code",
   "execution_count": 100,
   "metadata": {},
   "outputs": [
    {
     "name": "stdout",
     "output_type": "stream",
     "text": [
      "Hello World\n"
     ]
    }
   ],
   "source": [
    "# Hello World를 출력해주세요\n",
    "print(\"Hello World\")"
   ]
  },
  {
   "cell_type": "markdown",
   "metadata": {},
   "source": [
    "jupyter notebook은 대화형 창으로 print를 하지 않고도 출력할 수 있습니다. <br> print를 쓰지 않고 본인의 이름을 출력해볼까요?"
   ]
  },
  {
   "cell_type": "code",
   "execution_count": 101,
   "metadata": {},
   "outputs": [
    {
     "data": {
      "text/plain": [
       "'이상민'"
      ]
     },
     "execution_count": 101,
     "metadata": {},
     "output_type": "execute_result"
    }
   ],
   "source": [
    "# 본인의 이름을 출력해주세요\n",
    "\"이상민\""
   ]
  },
  {
   "cell_type": "markdown",
   "metadata": {},
   "source": [
    "변수란 매번 변하는 수로, 내가 지정한 이름을 어떠한 공간에 담아 매번 활용하게끔 해줍니다. 내 이름을 a라는 공간에 담아볼까요?"
   ]
  },
  {
   "cell_type": "code",
   "execution_count": 103,
   "metadata": {},
   "outputs": [
    {
     "data": {
      "text/plain": [
       "'이상민'"
      ]
     },
     "execution_count": 103,
     "metadata": {},
     "output_type": "execute_result"
    }
   ],
   "source": [
    "# a = \"본인의 이름\"\n",
    "a = \"이상민\"\n",
    "a"
   ]
  },
  {
   "cell_type": "markdown",
   "metadata": {},
   "source": [
    "# jupyter notebook 단축키"
   ]
  },
  {
   "cell_type": "markdown",
   "metadata": {},
   "source": [
    "- A : 위쪽에 셀 삽입\n",
    "- B : 아래쪽에 셀 삽입\n",
    "- X : 해당 셀 삭제\n",
    "- Z : 삭제할 셀 복구\n",
    "- ctrl + D : 해당 커서 라인 삭제\n",
    "- ctrl + A : 해당 셀 전체 선택\n",
    "- ctrl + Z : 셀 내용 복구\n",
    "- ctrl + Enter : 셀 실행\n",
    "- shift + Enter : 셀 실행 후 커서 아래쪽으로 이동"
   ]
  },
  {
   "cell_type": "markdown",
   "metadata": {},
   "source": [
    "# 사칙연산과 데이터 타입"
   ]
  },
  {
   "cell_type": "markdown",
   "metadata": {},
   "source": [
    "### 사칙연산\n",
    "python의 연산자는 수학의 연산과 비슷합니다.<br>\n",
    "하지만 곱하기는 * 를 사용하고, 나누기는 / 를 사용한다는 것만 유의하면 됩니다. <br>\n",
    "\n",
    "한 단계 더 나아가자면 //는 몫을 출력하고, %는 나머지를 출력합니다.\n",
    "```python\n",
    "4 + 13\n",
    "15 - 3\n",
    "11 / 2\n",
    "11 // 2\n",
    "8.5 % 3.5\n",
    "```"
   ]
  },
  {
   "cell_type": "code",
   "execution_count": 104,
   "metadata": {},
   "outputs": [
    {
     "data": {
      "text/plain": [
       "8"
      ]
     },
     "execution_count": 104,
     "metadata": {},
     "output_type": "execute_result"
    }
   ],
   "source": [
    "# 5 + 3\n",
    "5 + 3"
   ]
  },
  {
   "cell_type": "code",
   "execution_count": 105,
   "metadata": {},
   "outputs": [
    {
     "data": {
      "text/plain": [
       "5"
      ]
     },
     "execution_count": 105,
     "metadata": {},
     "output_type": "execute_result"
    }
   ],
   "source": [
    "# 11 // 2\n",
    "11 // 2"
   ]
  },
  {
   "cell_type": "code",
   "execution_count": 106,
   "metadata": {},
   "outputs": [
    {
     "data": {
      "text/plain": [
       "1"
      ]
     },
     "execution_count": 106,
     "metadata": {},
     "output_type": "execute_result"
    }
   ],
   "source": [
    "# 10 % 3\n",
    "10 % 3"
   ]
  },
  {
   "cell_type": "markdown",
   "metadata": {},
   "source": [
    "### 데이터 타입 이해하기"
   ]
  },
  {
   "cell_type": "markdown",
   "metadata": {},
   "source": [
    "프로그래밍 언어는 다양한 데이터 타입을 제공합니다. <br> 중요한 데이터 타입은 정수(integer), 실수(float), 문자(str)이므로 이 세개는 꼭 외워주세요!"
   ]
  },
  {
   "cell_type": "code",
   "execution_count": 107,
   "metadata": {},
   "outputs": [
    {
     "data": {
      "text/plain": [
       "int"
      ]
     },
     "execution_count": 107,
     "metadata": {},
     "output_type": "execute_result"
    }
   ],
   "source": [
    "# type(17)\n",
    "type(17)"
   ]
  },
  {
   "cell_type": "code",
   "execution_count": 108,
   "metadata": {},
   "outputs": [
    {
     "data": {
      "text/plain": [
       "float"
      ]
     },
     "execution_count": 108,
     "metadata": {},
     "output_type": "execute_result"
    }
   ],
   "source": [
    "# type(17.0)\n",
    "type(17.0)"
   ]
  },
  {
   "cell_type": "code",
   "execution_count": 109,
   "metadata": {},
   "outputs": [
    {
     "data": {
      "text/plain": [
       "str"
      ]
     },
     "execution_count": 109,
     "metadata": {},
     "output_type": "execute_result"
    }
   ],
   "source": [
    "# type(\"파이썬\")\n",
    "type(\"파이썬\")"
   ]
  },
  {
   "cell_type": "code",
   "execution_count": 110,
   "metadata": {},
   "outputs": [
    {
     "data": {
      "text/plain": [
       "str"
      ]
     },
     "execution_count": 110,
     "metadata": {},
     "output_type": "execute_result"
    }
   ],
   "source": [
    "# type(\"17\")\n",
    "type(\"17\")"
   ]
  },
  {
   "cell_type": "markdown",
   "metadata": {},
   "source": [
    "!주의 : 문자와 숫자는 연산할 수 없다."
   ]
  },
  {
   "cell_type": "code",
   "execution_count": 111,
   "metadata": {},
   "outputs": [
    {
     "ename": "TypeError",
     "evalue": "unsupported operand type(s) for +: 'int' and 'str'",
     "output_type": "error",
     "traceback": [
      "\u001b[1;31m---------------------------------------------------------------------------\u001b[0m",
      "\u001b[1;31mTypeError\u001b[0m                                 Traceback (most recent call last)",
      "\u001b[1;32m<ipython-input-111-bd127be8ba24>\u001b[0m in \u001b[0;36m<module>\u001b[1;34m\u001b[0m\n\u001b[0;32m      1\u001b[0m \u001b[1;31m# 17 + \"이상민\"\u001b[0m\u001b[1;33m\u001b[0m\u001b[1;33m\u001b[0m\u001b[1;33m\u001b[0m\u001b[0m\n\u001b[1;32m----> 2\u001b[1;33m \u001b[1;36m17\u001b[0m\u001b[1;33m+\u001b[0m\u001b[1;34m\"이상민\"\u001b[0m\u001b[1;33m\u001b[0m\u001b[1;33m\u001b[0m\u001b[0m\n\u001b[0m",
      "\u001b[1;31mTypeError\u001b[0m: unsupported operand type(s) for +: 'int' and 'str'"
     ]
    }
   ],
   "source": [
    "# 17 + \"이상민\"\n",
    "17+\"이상민\""
   ]
  },
  {
   "cell_type": "code",
   "execution_count": 112,
   "metadata": {},
   "outputs": [
    {
     "ename": "TypeError",
     "evalue": "unsupported operand type(s) for +: 'int' and 'str'",
     "output_type": "error",
     "traceback": [
      "\u001b[1;31m---------------------------------------------------------------------------\u001b[0m",
      "\u001b[1;31mTypeError\u001b[0m                                 Traceback (most recent call last)",
      "\u001b[1;32m<ipython-input-112-607b5bd33ebd>\u001b[0m in \u001b[0;36m<module>\u001b[1;34m\u001b[0m\n\u001b[0;32m      1\u001b[0m \u001b[1;31m# 17 + \"17\"\u001b[0m\u001b[1;33m\u001b[0m\u001b[1;33m\u001b[0m\u001b[1;33m\u001b[0m\u001b[0m\n\u001b[1;32m----> 2\u001b[1;33m \u001b[1;36m17\u001b[0m \u001b[1;33m+\u001b[0m \u001b[1;34m\"17\"\u001b[0m\u001b[1;33m\u001b[0m\u001b[1;33m\u001b[0m\u001b[0m\n\u001b[0m",
      "\u001b[1;31mTypeError\u001b[0m: unsupported operand type(s) for +: 'int' and 'str'"
     ]
    }
   ],
   "source": [
    "# 17 + \"17\"\n",
    "17 + \"17\""
   ]
  },
  {
   "cell_type": "markdown",
   "metadata": {},
   "source": [
    "# 주석 처리와 함수 구현"
   ]
  },
  {
   "cell_type": "markdown",
   "metadata": {},
   "source": [
    "### 주석 처리"
   ]
  },
  {
   "cell_type": "markdown",
   "metadata": {},
   "source": [
    "코드를 남들과 공유할 때, 이 코드가 어떤 의미를 담고 있는지 알려주기 위해 '주석'이란 것 활용합니다. 주석은 '#'의 형태를 나타내고 있고, 주석을 적어놓으면 본인의 코드를 나중에 다시 볼 때도 좋겠죠?"
   ]
  },
  {
   "cell_type": "code",
   "execution_count": null,
   "metadata": {},
   "outputs": [],
   "source": [
    "print(\"Hello World\") # hello world를 출력"
   ]
  },
  {
   "cell_type": "code",
   "execution_count": 113,
   "metadata": {},
   "outputs": [
    {
     "name": "stdout",
     "output_type": "stream",
     "text": [
      "Hello World\n"
     ]
    }
   ],
   "source": [
    "# 위의 코드를 따라쳐주세요\n",
    "print(\"Hello World\") # hello world를 출력"
   ]
  },
  {
   "cell_type": "markdown",
   "metadata": {},
   "source": [
    "### 함수 구현"
   ]
  },
  {
   "cell_type": "markdown",
   "metadata": {},
   "source": [
    "수학에서 y = ax + b와 같이 파이썬에서도 함수라는 것이 있습니다. <br>\n",
    "외장함수와 내장함수, 사용자 지정함수가 있는데 사용자 지정 함수는 아래와 같은 형태로 만들 수 있습니다."
   ]
  },
  {
   "cell_type": "code",
   "execution_count": 14,
   "metadata": {},
   "outputs": [],
   "source": [
    "def average(a, b, c):\n",
    "    average = (a + b + c) / 3 # a,b,c의 평균\n",
    "    return average"
   ]
  },
  {
   "cell_type": "code",
   "execution_count": 114,
   "metadata": {},
   "outputs": [],
   "source": [
    "# 위에 코드를 따라 쳐 주세요\n",
    "def average(a, b, c):\n",
    "    average = (a + b + c) / 3 # a, b, c,의 평균\n",
    "    return average"
   ]
  },
  {
   "cell_type": "code",
   "execution_count": 115,
   "metadata": {},
   "outputs": [
    {
     "data": {
      "text/plain": [
       "3.3333333333333335"
      ]
     },
     "execution_count": 115,
     "metadata": {},
     "output_type": "execute_result"
    }
   ],
   "source": [
    "# average(2, 3, 5)\n",
    "average(2, 3, 5)"
   ]
  },
  {
   "cell_type": "code",
   "execution_count": 116,
   "metadata": {},
   "outputs": [
    {
     "data": {
      "text/plain": [
       "2.0"
      ]
     },
     "execution_count": 116,
     "metadata": {},
     "output_type": "execute_result"
    }
   ],
   "source": [
    "# average(1, 2, 3)\n",
    "average(1, 2, 3)"
   ]
  },
  {
   "cell_type": "markdown",
   "metadata": {},
   "source": [
    "# List와 dictinoary"
   ]
  },
  {
   "cell_type": "markdown",
   "metadata": {},
   "source": [
    "값이 여러개 일 때 한 공간에 담을 수 있으면 정말 좋겠죠? <br>\n",
    "python에서는 list와 dictionary, set이라는 자료구조가 있는데 list와 dictionary를 함께 알아보겠습니다."
   ]
  },
  {
   "cell_type": "markdown",
   "metadata": {},
   "source": [
    "### list 자료 구조\n",
    "- 주의 : 첫 번째 값의 위치는 0번째\n",
    "- ex) [1, 2, 3, 4, 5]"
   ]
  },
  {
   "cell_type": "markdown",
   "metadata": {},
   "source": [
    "리스트 생성하기"
   ]
  },
  {
   "cell_type": "code",
   "execution_count": 121,
   "metadata": {},
   "outputs": [],
   "source": [
    "# a = [1, 2, 3, 4, 5, 6, 7, 8, 9]\n",
    "a = [1, 2, 3, 4, 5, 6, 7, 8, 9]"
   ]
  },
  {
   "cell_type": "code",
   "execution_count": 118,
   "metadata": {},
   "outputs": [
    {
     "data": {
      "text/plain": [
       "9"
      ]
     },
     "execution_count": 118,
     "metadata": {},
     "output_type": "execute_result"
    }
   ],
   "source": [
    "# len(a)\n",
    "len(a)"
   ]
  },
  {
   "cell_type": "markdown",
   "metadata": {},
   "source": [
    "리스트 값 추가 및 삭제"
   ]
  },
  {
   "cell_type": "code",
   "execution_count": 122,
   "metadata": {},
   "outputs": [
    {
     "data": {
      "text/plain": [
       "[1, 2, 3, 4, 5, 6, 7, 8, 9, 10]"
      ]
     },
     "execution_count": 122,
     "metadata": {},
     "output_type": "execute_result"
    }
   ],
   "source": [
    "# a.append(10)\n",
    "a.append(10)\n",
    "a"
   ]
  },
  {
   "cell_type": "code",
   "execution_count": 123,
   "metadata": {},
   "outputs": [],
   "source": [
    "# del a[9]\n",
    "del a[9]"
   ]
  },
  {
   "cell_type": "code",
   "execution_count": 124,
   "metadata": {},
   "outputs": [
    {
     "data": {
      "text/plain": [
       "[1, 2, 3, 4, 5, 6, 7, 8, 9]"
      ]
     },
     "execution_count": 124,
     "metadata": {},
     "output_type": "execute_result"
    }
   ],
   "source": [
    "a"
   ]
  },
  {
   "cell_type": "markdown",
   "metadata": {},
   "source": [
    "list slicing"
   ]
  },
  {
   "cell_type": "code",
   "execution_count": 128,
   "metadata": {},
   "outputs": [
    {
     "data": {
      "text/plain": [
       "[9, 8, 7, 6, 5, 4, 3, 2, 1]"
      ]
     },
     "execution_count": 128,
     "metadata": {},
     "output_type": "execute_result"
    }
   ],
   "source": [
    "# a[:7]\n",
    "# a[-1]\n",
    "# a[0]\n",
    "# a[::-1]\n",
    "a[:7] # 0~6번째 값 출력, 1~7\n",
    "a[-1] # 마지막값 출력\n",
    "a[0] # 첫번째 값 출력\n",
    "a[::-1] # 거꾸로 출력"
   ]
  },
  {
   "cell_type": "markdown",
   "metadata": {},
   "source": [
    "### dictionary 자료 구조\n",
    "- key : value의 형태\n",
    "- ex) {\"name\" : \"이상민\", \"school\" : \"경희대\", \"age\" : 24}"
   ]
  },
  {
   "cell_type": "code",
   "execution_count": 32,
   "metadata": {},
   "outputs": [],
   "source": [
    "# dic = {\"name\":\"이상민\", \"school\":\"경희대\", \"age\":24}"
   ]
  },
  {
   "cell_type": "code",
   "execution_count": 130,
   "metadata": {},
   "outputs": [
    {
     "data": {
      "text/plain": [
       "{'name': '이상민', 'school': '경희대', 'age': 24}"
      ]
     },
     "execution_count": 130,
     "metadata": {},
     "output_type": "execute_result"
    }
   ],
   "source": [
    "dic = {\"name\":\"이상민\", \"school\":\"경희대\", \"age\":24}\n",
    "dic"
   ]
  },
  {
   "cell_type": "markdown",
   "metadata": {},
   "source": [
    "key를 통하여 value 접근하기"
   ]
  },
  {
   "cell_type": "code",
   "execution_count": 133,
   "metadata": {},
   "outputs": [
    {
     "data": {
      "text/plain": [
       "24"
      ]
     },
     "execution_count": 133,
     "metadata": {},
     "output_type": "execute_result"
    }
   ],
   "source": [
    "# dic[\"name\"]\n",
    "# dic[\"school\"]\n",
    "# dic[\"age\"]\n",
    "dic[\"name\"]\n",
    "dic[\"age\"]"
   ]
  },
  {
   "cell_type": "markdown",
   "metadata": {},
   "source": [
    "dictionary에 key, value 추가"
   ]
  },
  {
   "cell_type": "code",
   "execution_count": 134,
   "metadata": {},
   "outputs": [],
   "source": [
    "# dic[\"region\"] = \"인천\"\n",
    "dic[\"region\"] = \"인천\""
   ]
  },
  {
   "cell_type": "code",
   "execution_count": 135,
   "metadata": {},
   "outputs": [
    {
     "data": {
      "text/plain": [
       "{'name': '이상민', 'school': '경희대', 'age': 24, 'region': '인천'}"
      ]
     },
     "execution_count": 135,
     "metadata": {},
     "output_type": "execute_result"
    }
   ],
   "source": [
    "# dic\n",
    "dic"
   ]
  },
  {
   "cell_type": "markdown",
   "metadata": {},
   "source": [
    "값(value) 변경하기"
   ]
  },
  {
   "cell_type": "code",
   "execution_count": 136,
   "metadata": {},
   "outputs": [],
   "source": [
    "# dic[\"region\"] = \"서울\"\n",
    "dic[\"region\"] = \"서울\""
   ]
  },
  {
   "cell_type": "code",
   "execution_count": 137,
   "metadata": {},
   "outputs": [
    {
     "data": {
      "text/plain": [
       "{'name': '이상민', 'school': '경희대', 'age': 24, 'region': '서울'}"
      ]
     },
     "execution_count": 137,
     "metadata": {},
     "output_type": "execute_result"
    }
   ],
   "source": [
    "# dic\n",
    "dic"
   ]
  },
  {
   "cell_type": "markdown",
   "metadata": {},
   "source": [
    "# boolean과 조건문"
   ]
  },
  {
   "cell_type": "markdown",
   "metadata": {},
   "source": [
    "boolean이란 참과 거짓을 의미하는 데이터 타입을 말합니다.<br>\n",
    "형태는 True, False 두 가지의 값을 가지고 있습니다."
   ]
  },
  {
   "cell_type": "code",
   "execution_count": 140,
   "metadata": {},
   "outputs": [
    {
     "data": {
      "text/plain": [
       "False"
      ]
     },
     "execution_count": 140,
     "metadata": {},
     "output_type": "execute_result"
    }
   ],
   "source": [
    "# 1 == 1\n",
    "# 1 == 2\n",
    "1 == 1\n",
    "1 == 2\n",
    "1 != 1"
   ]
  },
  {
   "cell_type": "markdown",
   "metadata": {},
   "source": [
    "조건문은 말 그대로, 조건을 적은 후 참과 거짓을 판단합니다.<br>\n",
    "형태는 if, elif(else if), else의 형태를 가지고 있습니다."
   ]
  },
  {
   "cell_type": "code",
   "execution_count": 141,
   "metadata": {},
   "outputs": [
    {
     "name": "stdout",
     "output_type": "stream",
     "text": [
      "같다\n"
     ]
    }
   ],
   "source": [
    "# if 1 == 1 :\n",
    "    # print(\"같다\")\n",
    "if 1 == 1:\n",
    "    print(\"같다\")"
   ]
  },
  {
   "cell_type": "code",
   "execution_count": 142,
   "metadata": {},
   "outputs": [
    {
     "name": "stdout",
     "output_type": "stream",
     "text": [
      "같지 않다\n"
     ]
    }
   ],
   "source": [
    "# if 1 == 2 :\n",
    "     # print(\"같다\")\n",
    "# else:\n",
    "    # print(\"같지 않다\") \n",
    "if 1 == 2:\n",
    "    print(\"같다\")\n",
    "else:\n",
    "    print(\"같지 않다\")"
   ]
  },
  {
   "cell_type": "code",
   "execution_count": 143,
   "metadata": {},
   "outputs": [
    {
     "name": "stdout",
     "output_type": "stream",
     "text": [
      "a는 2이다\n"
     ]
    }
   ],
   "source": [
    "# a = 2\n",
    "# if a == 1:\n",
    "    # print(\"a는 1이다\")\n",
    "# elif a == 2:\n",
    "    # print(\"a는 2이다\")\n",
    "# else:\n",
    "    # print(\"a는 1도 2도 아니다\")  \n",
    "a = 2\n",
    "if a == 1:\n",
    "    print(\"a는 1이다\")\n",
    "elif a == 2:\n",
    "    print(\"a는 2이다\")\n",
    "else:\n",
    "    print(\"a는 1도 2도 아니다\")"
   ]
  },
  {
   "cell_type": "markdown",
   "metadata": {},
   "source": [
    "# range(start, stop, step)와 for 반복문"
   ]
  },
  {
   "cell_type": "markdown",
   "metadata": {},
   "source": [
    "range()는 범위를 나타냅니다.<br> \n",
    "range(10)과 같이 적을 시에는 start와 step이 생략되어 10이라는 숫자 전인 0~9까지 출력됩니다."
   ]
  },
  {
   "cell_type": "code",
   "execution_count": 144,
   "metadata": {},
   "outputs": [
    {
     "name": "stdout",
     "output_type": "stream",
     "text": [
      "0\n",
      "1\n",
      "2\n",
      "3\n",
      "4\n",
      "5\n",
      "6\n",
      "7\n",
      "8\n",
      "9\n"
     ]
    }
   ],
   "source": [
    "# for i in range(10):\n",
    "    # print(i)\n",
    "for i in range(10):\n",
    "    print(i)"
   ]
  },
  {
   "cell_type": "markdown",
   "metadata": {},
   "source": [
    "range(1, 100, 2)과 같이 적을 시 1부터 99까지 2칸씩 움직인다.<br>\n",
    "라고 생각해주시면 됩니다."
   ]
  },
  {
   "cell_type": "code",
   "execution_count": 145,
   "metadata": {},
   "outputs": [
    {
     "name": "stdout",
     "output_type": "stream",
     "text": [
      "1\n",
      "3\n",
      "5\n",
      "7\n",
      "9\n",
      "11\n",
      "13\n",
      "15\n",
      "17\n",
      "19\n",
      "21\n",
      "23\n",
      "25\n",
      "27\n",
      "29\n",
      "31\n",
      "33\n",
      "35\n",
      "37\n",
      "39\n",
      "41\n",
      "43\n",
      "45\n",
      "47\n",
      "49\n",
      "51\n",
      "53\n",
      "55\n",
      "57\n",
      "59\n",
      "61\n",
      "63\n",
      "65\n",
      "67\n",
      "69\n",
      "71\n",
      "73\n",
      "75\n",
      "77\n",
      "79\n",
      "81\n",
      "83\n",
      "85\n",
      "87\n",
      "89\n",
      "91\n",
      "93\n",
      "95\n",
      "97\n",
      "99\n"
     ]
    }
   ],
   "source": [
    "# for i in range(1, 100, 2):\n",
    "    # print(i)\n",
    "for i in range(1, 100, 2):\n",
    "    print(i)"
   ]
  },
  {
   "cell_type": "code",
   "execution_count": null,
   "metadata": {},
   "outputs": [],
   "source": []
  }
 ],
 "metadata": {
  "kernelspec": {
   "display_name": "Python 3",
   "language": "python",
   "name": "python3"
  },
  "language_info": {
   "codemirror_mode": {
    "name": "ipython",
    "version": 3
   },
   "file_extension": ".py",
   "mimetype": "text/x-python",
   "name": "python",
   "nbconvert_exporter": "python",
   "pygments_lexer": "ipython3",
   "version": "3.6.9"
  }
 },
 "nbformat": 4,
 "nbformat_minor": 2
}
