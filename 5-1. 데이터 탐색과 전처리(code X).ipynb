{
 "cells": [
  {
   "cell_type": "markdown",
   "metadata": {},
   "source": [
    "## 모듈 불러오기"
   ]
  },
  {
   "cell_type": "code",
   "execution_count": null,
   "metadata": {},
   "outputs": [],
   "source": []
  },
  {
   "cell_type": "code",
   "execution_count": 1,
   "metadata": {},
   "outputs": [],
   "source": [
    "# 데이터 불러오기\n"
   ]
  },
  {
   "cell_type": "markdown",
   "metadata": {},
   "source": [
    "<img src=\"img/데이터 설명.PNG\" style=\"width:600px;\"/>"
   ]
  },
  {
   "cell_type": "markdown",
   "metadata": {},
   "source": [
    "# EDA(탐색적 데이터 분석)와 전처리"
   ]
  },
  {
   "cell_type": "code",
   "execution_count": 2,
   "metadata": {},
   "outputs": [],
   "source": [
    "# data 값 확인\n"
   ]
  },
  {
   "cell_type": "code",
   "execution_count": 3,
   "metadata": {
    "scrolled": true
   },
   "outputs": [],
   "source": [
    "# 데이터의 행과 열의 개수 확인\n"
   ]
  },
  {
   "cell_type": "markdown",
   "metadata": {},
   "source": [
    "-> 506개의 행과 20개의 열이 있구나라는 걸 확인"
   ]
  },
  {
   "cell_type": "code",
   "execution_count": 4,
   "metadata": {},
   "outputs": [],
   "source": [
    "# column마다 정보를 확인\n"
   ]
  },
  {
   "cell_type": "markdown",
   "metadata": {},
   "source": [
    "-> 숫자형, 문자형 column확인 <br>\n",
    "-> null값이 있는지 확인"
   ]
  },
  {
   "cell_type": "markdown",
   "metadata": {},
   "source": [
    "## 요약통계량 확인\n",
    "- describe() 함수를 사용\n",
    "- 수치형 변수에 관해서만 결과를 보여준다(명목형 변수는 자동적으로 제외)\n",
    "- 결측치는 제거하고 계산해준다\n",
    "- 컬럼에 대한 통계치 확인\n",
    "- 표준편차(std)는 널리 분포되어있냐 아니면 모여있냐의 척도"
   ]
  },
  {
   "cell_type": "code",
   "execution_count": null,
   "metadata": {},
   "outputs": [],
   "source": []
  },
  {
   "cell_type": "markdown",
   "metadata": {},
   "source": [
    "## 상관분석\n",
    "- 수치형 변수중에서 각각 2개의 column씩 상관관계를 보여준다\n",
    "- 값은 -1 ~ 1사이에서 존재한다\n",
    "- 절대값이 0.7이상이면 둘 사이의 관계가 밀접하게 관련이 되어있다고 볼 수 있다\n",
    "- 둘 사이의 관계가 높다고 인과관계(원인 -> 결과)로 잘못 해석하면 안 된다"
   ]
  },
  {
   "cell_type": "code",
   "execution_count": null,
   "metadata": {},
   "outputs": [],
   "source": []
  },
  {
   "cell_type": "markdown",
   "metadata": {},
   "source": [
    "## 상관관계 시각화\n",
    "- seaborn모듈 안 heatmap함수를 통해서 구현 가능\n",
    "- data : corr()함수를 통해 나온 결과\n",
    "- annot : default는 False이고, True로 설정하면 해당 필드에 값을 보여줌\n",
    "- fmt : 값 소숫점 표현\n",
    "- cmap : 그라데이션 색깔 설정\n",
    "- Greys', 'Purples', 'Blues', 'Greens', 'Oranges', 'Reds', 'YlOrBr', 'YlOrRd', 'OrRd', 'PuRd', 'RdPu', 'BuPu','GnBu', 'PuBu', 'YlGnBu', 'PuBuGn', 'BuGn', 'YlGn', 'PiYG', 'PRGn', 'BrBG', 'PuOr', 'RdGy', 'RdBu', 'RdYlBu', 'RdYlGn', 'Spectral', 'coolwarm', 'bwr', 'seismic'"
   ]
  },
  {
   "cell_type": "code",
   "execution_count": null,
   "metadata": {},
   "outputs": [],
   "source": []
  },
  {
   "cell_type": "markdown",
   "metadata": {},
   "source": [
    "# Null값 확인"
   ]
  },
  {
   "cell_type": "code",
   "execution_count": null,
   "metadata": {},
   "outputs": [],
   "source": []
  },
  {
   "cell_type": "code",
   "execution_count": 5,
   "metadata": {},
   "outputs": [],
   "source": [
    "# null값의 비율을 알아보는 코드 -> null값의 합*100/행의 개수\n"
   ]
  },
  {
   "cell_type": "code",
   "execution_count": 6,
   "metadata": {},
   "outputs": [],
   "source": [
    "# Null값을 구체적으로 알아보기 위해 dataframe로 변환\n"
   ]
  },
  {
   "cell_type": "markdown",
   "metadata": {},
   "source": [
    "- null값이 너무 많은 column은 제거한다. <br>\n",
    "-> CMEDV column은 null값이 너무 많기 때문에 제거"
   ]
  },
  {
   "cell_type": "code",
   "execution_count": 7,
   "metadata": {},
   "outputs": [],
   "source": [
    "# CMEDV column은 제거\n"
   ]
  },
  {
   "cell_type": "code",
   "execution_count": null,
   "metadata": {},
   "outputs": [],
   "source": []
  },
  {
   "cell_type": "markdown",
   "metadata": {},
   "source": [
    "## null값 대체 (null값이 아예 없게 처리한 후, 분석을 진행해야 한다)"
   ]
  },
  {
   "cell_type": "markdown",
   "metadata": {},
   "source": [
    "평균값 vs 중위값\n",
    "- 평균값 : 데이터가 정규분포와 유사한 형태를 따르고 있을 때 사용한다.\n",
    "- 중위값 : 이상치가 많고 분포가 불규칙할 때 사용한다."
   ]
  },
  {
   "cell_type": "code",
   "execution_count": 8,
   "metadata": {},
   "outputs": [],
   "source": [
    "# MEDV는 중위 값으로 대체\n"
   ]
  },
  {
   "cell_type": "code",
   "execution_count": null,
   "metadata": {},
   "outputs": [],
   "source": []
  },
  {
   "cell_type": "code",
   "execution_count": 9,
   "metadata": {},
   "outputs": [],
   "source": [
    "# notnull()을 사용해서 null값이 아닌 데이터만 가져올 수 있다.\n"
   ]
  },
  {
   "cell_type": "code",
   "execution_count": 10,
   "metadata": {},
   "outputs": [],
   "source": [
    "# CHAS 6개 값을 제거\n"
   ]
  },
  {
   "cell_type": "code",
   "execution_count": 11,
   "metadata": {},
   "outputs": [],
   "source": [
    "# NA 재확인\n"
   ]
  },
  {
   "cell_type": "markdown",
   "metadata": {},
   "source": [
    "## 이상치 처리\n",
    "- 이상치란 기존 데이터들로부터 동떨어진 데이터\n",
    "- 측정오류나 잘못된 입력으로 인해 이상치가 포함될 수 있음\n",
    "- 이상치가 포함된 데이터로 만든 모델은 정확한 결과를 낼 수 없으며 신뢰도가 떨어짐\n",
    "- 주로 boxplot을 통해서 판단"
   ]
  },
  {
   "cell_type": "markdown",
   "metadata": {},
   "source": [
    "<img src=\"img/boxplot.PNG\" style=\"width:600px;\"/>"
   ]
  },
  {
   "cell_type": "code",
   "execution_count": 12,
   "metadata": {},
   "outputs": [],
   "source": [
    "# boxplot 시각화\n"
   ]
  },
  {
   "cell_type": "markdown",
   "metadata": {},
   "source": [
    "-> 시각화 : 왼쪽 파란 boxplot에서 위에 동글뱅이들이 여러 있다. <br>\n",
    "-> 해석 : CHAS열의 T은 MEDV값에서 이상치를 여러 갖는다."
   ]
  },
  {
   "cell_type": "code",
   "execution_count": 13,
   "metadata": {},
   "outputs": [],
   "source": [
    "# 이상치 제거\n"
   ]
  },
  {
   "cell_type": "markdown",
   "metadata": {},
   "source": [
    "## 데이터 표준화/정규화"
   ]
  },
  {
   "cell_type": "markdown",
   "metadata": {},
   "source": [
    "column 값들마다 스케일(중요도)이 심하게 차이가 나는 경우<br>\n",
    "모든 데이터 포인트가 동일한 정도의 스케일(중요도)로 반영되도록 해주는 게 정규화의 목표다.<br>\n",
    "\n",
    "데이터를 정규화하는 두 가지 방법\n",
    "- Min-Max Normalization(최소-최대 정규화)\n",
    "- Z-Score Normalization(Z-점수 정규화)\n",
    "\n"
   ]
  },
  {
   "cell_type": "markdown",
   "metadata": {},
   "source": [
    "- scale을 어떻게 하느냐에 따라서 값이 많이 바뀐다."
   ]
  },
  {
   "cell_type": "markdown",
   "metadata": {},
   "source": [
    "<img src=\"img/표준화.정규화.PNG\" style=\"width:600px;\"/>"
   ]
  },
  {
   "cell_type": "code",
   "execution_count": null,
   "metadata": {},
   "outputs": [],
   "source": []
  },
  {
   "cell_type": "code",
   "execution_count": 14,
   "metadata": {},
   "outputs": [],
   "source": [
    "# NOX, AGE column 불러오기 \n"
   ]
  },
  {
   "cell_type": "code",
   "execution_count": 15,
   "metadata": {},
   "outputs": [],
   "source": [
    "# Standard Scaler 불러오기\n",
    "\n",
    "\n",
    "# scaler 생성\n",
    "\n",
    "# 빈껍데기 생성\n",
    "\n",
    "# scaler 학습\n",
    "\n",
    "# boston2로 학습을 시킨다.\n",
    "\n",
    "# scaler 적용\n",
    "\n",
    "\n",
    "\n",
    "# 최종 데이터프레임 만들기\n"
   ]
  },
  {
   "cell_type": "code",
   "execution_count": 16,
   "metadata": {},
   "outputs": [],
   "source": [
    "# Min Max Scaler 불러오기\n",
    "\n",
    "\n",
    "# scaler 생성\n",
    "\n",
    "#빈껍데기 생성\n",
    "\n",
    "# scaler 학습\n",
    "\n",
    "#boston2로 학습을 시킨다.\n",
    "\n",
    "# scaler 적용\n",
    "\n",
    "\n",
    "\n",
    "# 최종 데이터프레임 만들기\n"
   ]
  },
  {
   "cell_type": "code",
   "execution_count": null,
   "metadata": {},
   "outputs": [],
   "source": []
  }
 ],
 "metadata": {
  "kernelspec": {
   "display_name": "Python 3",
   "language": "python",
   "name": "python3"
  },
  "language_info": {
   "codemirror_mode": {
    "name": "ipython",
    "version": 3
   },
   "file_extension": ".py",
   "mimetype": "text/x-python",
   "name": "python",
   "nbconvert_exporter": "python",
   "pygments_lexer": "ipython3",
   "version": "3.6.9"
  }
 },
 "nbformat": 4,
 "nbformat_minor": 2
}
