{
 "cells": [
  {
   "cell_type": "markdown",
   "metadata": {},
   "source": [
    "# Q0. list comprehension"
   ]
  },
  {
   "cell_type": "code",
   "execution_count": 1,
   "metadata": {},
   "outputs": [],
   "source": [
    "num = [1, 2, 3, 4, 5, 6, 7, 8, 9, 10]"
   ]
  },
  {
   "cell_type": "code",
   "execution_count": 17,
   "metadata": {},
   "outputs": [
    {
     "data": {
      "text/plain": [
       "[200, 400, 600, 800, 1000]"
      ]
     },
     "execution_count": 17,
     "metadata": {},
     "output_type": "execute_result"
    }
   ],
   "source": [
    "# 이 셀은 출력 예시입니다. 아래 셀에 입력해주세요"
   ]
  },
  {
   "cell_type": "markdown",
   "metadata": {},
   "source": [
    "조건 : list comprehension 꼭 사용하기"
   ]
  },
  {
   "cell_type": "code",
   "execution_count": 5,
   "metadata": {},
   "outputs": [
    {
     "data": {
      "text/plain": [
       "[200, 400, 600, 800, 1000]"
      ]
     },
     "execution_count": 5,
     "metadata": {},
     "output_type": "execute_result"
    }
   ],
   "source": [
    "# 위 리스트에서 짝수값만 X100하여 출력해주세요\n",
    "double_num = [i*100 for i in num if (i%2 == 0)]\n",
    "double_num"
   ]
  },
  {
   "cell_type": "markdown",
   "metadata": {},
   "source": [
    "# Q1. Pandas 패키지(라이브러리) 불러오기"
   ]
  },
  {
   "cell_type": "code",
   "execution_count": 6,
   "metadata": {},
   "outputs": [],
   "source": [
    "# pandas를 불러와 pd로 축약해 지정해주세요.\n",
    "import pandas as pd"
   ]
  },
  {
   "cell_type": "markdown",
   "metadata": {},
   "source": [
    "# Q2. 100부터 시작해서 1000까지 3씩 증가하는 값을 Series에 담아주세요"
   ]
  },
  {
   "cell_type": "code",
   "execution_count": 4,
   "metadata": {},
   "outputs": [
    {
     "data": {
      "text/plain": [
       "0       100\n",
       "1       103\n",
       "2       106\n",
       "3       109\n",
       "4       112\n",
       "       ... \n",
       "296     988\n",
       "297     991\n",
       "298     994\n",
       "299     997\n",
       "300    1000\n",
       "Length: 301, dtype: int64"
      ]
     },
     "execution_count": 4,
     "metadata": {},
     "output_type": "execute_result"
    }
   ],
   "source": [
    "# 이 셀은 출력결과의 예시입니다. 아래 셀에 입력해주세요"
   ]
  },
  {
   "cell_type": "code",
   "execution_count": 9,
   "metadata": {},
   "outputs": [
    {
     "data": {
      "text/plain": [
       "0       100\n",
       "1       103\n",
       "2       106\n",
       "3       109\n",
       "4       112\n",
       "       ... \n",
       "296     988\n",
       "297     991\n",
       "298     994\n",
       "299     997\n",
       "300    1000\n",
       "Length: 301, dtype: int64"
      ]
     },
     "execution_count": 9,
     "metadata": {},
     "output_type": "execute_result"
    }
   ],
   "source": [
    "# 이 셀에 입력해주세요.\n",
    "data = pd.Series([i for i in range(100, 1001, 3)])\n",
    "data"
   ]
  },
  {
   "cell_type": "markdown",
   "metadata": {},
   "source": [
    "# Q3. 2번의 Series에서 평균보다 큰 값만 추출해주세요"
   ]
  },
  {
   "cell_type": "code",
   "execution_count": 6,
   "metadata": {},
   "outputs": [
    {
     "data": {
      "text/plain": [
       "151     553\n",
       "152     556\n",
       "153     559\n",
       "154     562\n",
       "155     565\n",
       "       ... \n",
       "296     988\n",
       "297     991\n",
       "298     994\n",
       "299     997\n",
       "300    1000\n",
       "Length: 150, dtype: int64"
      ]
     },
     "execution_count": 6,
     "metadata": {},
     "output_type": "execute_result"
    }
   ],
   "source": [
    "# 이 셀은 출력결과의 예시입니다. 아래 셀에 입력해주세요"
   ]
  },
  {
   "cell_type": "code",
   "execution_count": 12,
   "metadata": {},
   "outputs": [
    {
     "data": {
      "text/plain": [
       "151     553\n",
       "152     556\n",
       "153     559\n",
       "154     562\n",
       "155     565\n",
       "       ... \n",
       "296     988\n",
       "297     991\n",
       "298     994\n",
       "299     997\n",
       "300    1000\n",
       "Length: 150, dtype: int64"
      ]
     },
     "execution_count": 12,
     "metadata": {},
     "output_type": "execute_result"
    }
   ],
   "source": [
    "# 이 셀에 입력해주세요.\n",
    "data[data > data.mean()]"
   ]
  },
  {
   "cell_type": "markdown",
   "metadata": {},
   "source": [
    "# Q4. 아래 두 셀을 실행시켜주세요"
   ]
  },
  {
   "cell_type": "code",
   "execution_count": 13,
   "metadata": {},
   "outputs": [],
   "source": [
    "# 이 셀을 실행시켜주세요\n",
    "baseball_dic = {'order':[x for x in range(1, 20)],\n",
    "                'name':['김현수', '양의지', '이정후', '박병호', '안치홍', '전준우', '김주찬', '최형우',\n",
    "                        '유한준', '김재환', '최주환', '이대호', '구자욱', '채은성', '러프', '이재원', '손아섭', \n",
    "                        '박건우', '허경민'],\n",
    "                'team':['LG', '두산', '넥센', '넥센', 'KIA', '롯데', 'KIA', 'KIA',\n",
    "                        'KT', '두산', '두산', '롯데', '삼성', 'LG', '삼성', 'SK', '롯데', \n",
    "                        '두산', '두산']}"
   ]
  },
  {
   "cell_type": "code",
   "execution_count": 14,
   "metadata": {},
   "outputs": [],
   "source": [
    "# 이 셀을 실행시켜 주세요.\n",
    "\n",
    "# 타율\n",
    "baseball_dic['avg'] = [0.362,0.358,0.355,0.345,0.342,0.342,0.34,0.339,0.339,0.334,0.333,0.333,0.333,0.331,0.33,0.329,0.329,0.326,0.324]\n",
    "# 안타\n",
    "164,157,163,138,169,190,146,179,145,176,173,181,159,175,167,134,182,159,167\n",
    "baseball_dic['hit'] = [164,157,163,138,169,190,146,179,145,176,173,181,159,175,167,134,182,159,167]\n",
    "# 홈런\n",
    "20,23,6,43,23,33,18,25,20,44,26,37,20,25,33,17,26,12,10\n",
    "baseball_dic['homerun'] = [20,23,6,43,23,33,18,25,20,44,26,37,20,25,33,17,26,12,10]\n",
    "# 타점\n",
    "101,77,57,112,118,90,93,103,83,133,108,125,84,119,125,57,93,84,79\n",
    "baseball_dic['rbi'] = [101,77,57,112,118,90,93,103,83,133,108,125,84,119,125,57,93,84,79]"
   ]
  },
  {
   "cell_type": "markdown",
   "metadata": {},
   "source": [
    "# Q5. 위에 baseball_dic을 dataframe의 형태로 만들어주세요"
   ]
  },
  {
   "cell_type": "code",
   "execution_count": 12,
   "metadata": {},
   "outputs": [
    {
     "data": {
      "text/html": [
       "<div>\n",
       "<style scoped>\n",
       "    .dataframe tbody tr th:only-of-type {\n",
       "        vertical-align: middle;\n",
       "    }\n",
       "\n",
       "    .dataframe tbody tr th {\n",
       "        vertical-align: top;\n",
       "    }\n",
       "\n",
       "    .dataframe thead th {\n",
       "        text-align: right;\n",
       "    }\n",
       "</style>\n",
       "<table border=\"1\" class=\"dataframe\">\n",
       "  <thead>\n",
       "    <tr style=\"text-align: right;\">\n",
       "      <th></th>\n",
       "      <th>order</th>\n",
       "      <th>name</th>\n",
       "      <th>team</th>\n",
       "      <th>avg</th>\n",
       "      <th>hit</th>\n",
       "      <th>homerun</th>\n",
       "      <th>rbi</th>\n",
       "    </tr>\n",
       "  </thead>\n",
       "  <tbody>\n",
       "    <tr>\n",
       "      <td>0</td>\n",
       "      <td>1</td>\n",
       "      <td>김현수</td>\n",
       "      <td>LG</td>\n",
       "      <td>0.362</td>\n",
       "      <td>164</td>\n",
       "      <td>20</td>\n",
       "      <td>101</td>\n",
       "    </tr>\n",
       "    <tr>\n",
       "      <td>1</td>\n",
       "      <td>2</td>\n",
       "      <td>양의지</td>\n",
       "      <td>두산</td>\n",
       "      <td>0.358</td>\n",
       "      <td>157</td>\n",
       "      <td>23</td>\n",
       "      <td>77</td>\n",
       "    </tr>\n",
       "    <tr>\n",
       "      <td>2</td>\n",
       "      <td>3</td>\n",
       "      <td>이정후</td>\n",
       "      <td>넥센</td>\n",
       "      <td>0.355</td>\n",
       "      <td>163</td>\n",
       "      <td>6</td>\n",
       "      <td>57</td>\n",
       "    </tr>\n",
       "    <tr>\n",
       "      <td>3</td>\n",
       "      <td>4</td>\n",
       "      <td>박병호</td>\n",
       "      <td>넥센</td>\n",
       "      <td>0.345</td>\n",
       "      <td>138</td>\n",
       "      <td>43</td>\n",
       "      <td>112</td>\n",
       "    </tr>\n",
       "    <tr>\n",
       "      <td>4</td>\n",
       "      <td>5</td>\n",
       "      <td>안치홍</td>\n",
       "      <td>KIA</td>\n",
       "      <td>0.342</td>\n",
       "      <td>169</td>\n",
       "      <td>23</td>\n",
       "      <td>118</td>\n",
       "    </tr>\n",
       "    <tr>\n",
       "      <td>5</td>\n",
       "      <td>6</td>\n",
       "      <td>전준우</td>\n",
       "      <td>롯데</td>\n",
       "      <td>0.342</td>\n",
       "      <td>190</td>\n",
       "      <td>33</td>\n",
       "      <td>90</td>\n",
       "    </tr>\n",
       "    <tr>\n",
       "      <td>6</td>\n",
       "      <td>7</td>\n",
       "      <td>김주찬</td>\n",
       "      <td>KIA</td>\n",
       "      <td>0.340</td>\n",
       "      <td>146</td>\n",
       "      <td>18</td>\n",
       "      <td>93</td>\n",
       "    </tr>\n",
       "    <tr>\n",
       "      <td>7</td>\n",
       "      <td>8</td>\n",
       "      <td>최형우</td>\n",
       "      <td>KIA</td>\n",
       "      <td>0.339</td>\n",
       "      <td>179</td>\n",
       "      <td>25</td>\n",
       "      <td>103</td>\n",
       "    </tr>\n",
       "    <tr>\n",
       "      <td>8</td>\n",
       "      <td>9</td>\n",
       "      <td>유한준</td>\n",
       "      <td>KT</td>\n",
       "      <td>0.339</td>\n",
       "      <td>145</td>\n",
       "      <td>20</td>\n",
       "      <td>83</td>\n",
       "    </tr>\n",
       "    <tr>\n",
       "      <td>9</td>\n",
       "      <td>10</td>\n",
       "      <td>김재환</td>\n",
       "      <td>두산</td>\n",
       "      <td>0.334</td>\n",
       "      <td>176</td>\n",
       "      <td>44</td>\n",
       "      <td>133</td>\n",
       "    </tr>\n",
       "    <tr>\n",
       "      <td>10</td>\n",
       "      <td>11</td>\n",
       "      <td>최주환</td>\n",
       "      <td>두산</td>\n",
       "      <td>0.333</td>\n",
       "      <td>173</td>\n",
       "      <td>26</td>\n",
       "      <td>108</td>\n",
       "    </tr>\n",
       "    <tr>\n",
       "      <td>11</td>\n",
       "      <td>12</td>\n",
       "      <td>이대호</td>\n",
       "      <td>롯데</td>\n",
       "      <td>0.333</td>\n",
       "      <td>181</td>\n",
       "      <td>37</td>\n",
       "      <td>125</td>\n",
       "    </tr>\n",
       "    <tr>\n",
       "      <td>12</td>\n",
       "      <td>13</td>\n",
       "      <td>구자욱</td>\n",
       "      <td>삼성</td>\n",
       "      <td>0.333</td>\n",
       "      <td>159</td>\n",
       "      <td>20</td>\n",
       "      <td>84</td>\n",
       "    </tr>\n",
       "    <tr>\n",
       "      <td>13</td>\n",
       "      <td>14</td>\n",
       "      <td>채은성</td>\n",
       "      <td>LG</td>\n",
       "      <td>0.331</td>\n",
       "      <td>175</td>\n",
       "      <td>25</td>\n",
       "      <td>119</td>\n",
       "    </tr>\n",
       "    <tr>\n",
       "      <td>14</td>\n",
       "      <td>15</td>\n",
       "      <td>러프</td>\n",
       "      <td>삼성</td>\n",
       "      <td>0.330</td>\n",
       "      <td>167</td>\n",
       "      <td>33</td>\n",
       "      <td>125</td>\n",
       "    </tr>\n",
       "    <tr>\n",
       "      <td>15</td>\n",
       "      <td>16</td>\n",
       "      <td>이재원</td>\n",
       "      <td>SK</td>\n",
       "      <td>0.329</td>\n",
       "      <td>134</td>\n",
       "      <td>17</td>\n",
       "      <td>57</td>\n",
       "    </tr>\n",
       "    <tr>\n",
       "      <td>16</td>\n",
       "      <td>17</td>\n",
       "      <td>손아섭</td>\n",
       "      <td>롯데</td>\n",
       "      <td>0.329</td>\n",
       "      <td>182</td>\n",
       "      <td>26</td>\n",
       "      <td>93</td>\n",
       "    </tr>\n",
       "    <tr>\n",
       "      <td>17</td>\n",
       "      <td>18</td>\n",
       "      <td>박건우</td>\n",
       "      <td>두산</td>\n",
       "      <td>0.326</td>\n",
       "      <td>159</td>\n",
       "      <td>12</td>\n",
       "      <td>84</td>\n",
       "    </tr>\n",
       "    <tr>\n",
       "      <td>18</td>\n",
       "      <td>19</td>\n",
       "      <td>허경민</td>\n",
       "      <td>두산</td>\n",
       "      <td>0.324</td>\n",
       "      <td>167</td>\n",
       "      <td>10</td>\n",
       "      <td>79</td>\n",
       "    </tr>\n",
       "  </tbody>\n",
       "</table>\n",
       "</div>"
      ],
      "text/plain": [
       "    order name team    avg  hit  homerun  rbi\n",
       "0       1  김현수   LG  0.362  164       20  101\n",
       "1       2  양의지   두산  0.358  157       23   77\n",
       "2       3  이정후   넥센  0.355  163        6   57\n",
       "3       4  박병호   넥센  0.345  138       43  112\n",
       "4       5  안치홍  KIA  0.342  169       23  118\n",
       "5       6  전준우   롯데  0.342  190       33   90\n",
       "6       7  김주찬  KIA  0.340  146       18   93\n",
       "7       8  최형우  KIA  0.339  179       25  103\n",
       "8       9  유한준   KT  0.339  145       20   83\n",
       "9      10  김재환   두산  0.334  176       44  133\n",
       "10     11  최주환   두산  0.333  173       26  108\n",
       "11     12  이대호   롯데  0.333  181       37  125\n",
       "12     13  구자욱   삼성  0.333  159       20   84\n",
       "13     14  채은성   LG  0.331  175       25  119\n",
       "14     15   러프   삼성  0.330  167       33  125\n",
       "15     16  이재원   SK  0.329  134       17   57\n",
       "16     17  손아섭   롯데  0.329  182       26   93\n",
       "17     18  박건우   두산  0.326  159       12   84\n",
       "18     19  허경민   두산  0.324  167       10   79"
      ]
     },
     "execution_count": 12,
     "metadata": {},
     "output_type": "execute_result"
    }
   ],
   "source": [
    "# 이 셀은 출력 예시입니다. 아래 셀에 입력해주세요."
   ]
  },
  {
   "cell_type": "code",
   "execution_count": 17,
   "metadata": {},
   "outputs": [
    {
     "data": {
      "text/html": [
       "<div>\n",
       "<style scoped>\n",
       "    .dataframe tbody tr th:only-of-type {\n",
       "        vertical-align: middle;\n",
       "    }\n",
       "\n",
       "    .dataframe tbody tr th {\n",
       "        vertical-align: top;\n",
       "    }\n",
       "\n",
       "    .dataframe thead th {\n",
       "        text-align: right;\n",
       "    }\n",
       "</style>\n",
       "<table border=\"1\" class=\"dataframe\">\n",
       "  <thead>\n",
       "    <tr style=\"text-align: right;\">\n",
       "      <th></th>\n",
       "      <th>order</th>\n",
       "      <th>name</th>\n",
       "      <th>team</th>\n",
       "      <th>avg</th>\n",
       "      <th>hit</th>\n",
       "      <th>homerun</th>\n",
       "      <th>rbi</th>\n",
       "    </tr>\n",
       "  </thead>\n",
       "  <tbody>\n",
       "    <tr>\n",
       "      <td>0</td>\n",
       "      <td>1</td>\n",
       "      <td>김현수</td>\n",
       "      <td>LG</td>\n",
       "      <td>0.362</td>\n",
       "      <td>164</td>\n",
       "      <td>20</td>\n",
       "      <td>101</td>\n",
       "    </tr>\n",
       "    <tr>\n",
       "      <td>1</td>\n",
       "      <td>2</td>\n",
       "      <td>양의지</td>\n",
       "      <td>두산</td>\n",
       "      <td>0.358</td>\n",
       "      <td>157</td>\n",
       "      <td>23</td>\n",
       "      <td>77</td>\n",
       "    </tr>\n",
       "    <tr>\n",
       "      <td>2</td>\n",
       "      <td>3</td>\n",
       "      <td>이정후</td>\n",
       "      <td>넥센</td>\n",
       "      <td>0.355</td>\n",
       "      <td>163</td>\n",
       "      <td>6</td>\n",
       "      <td>57</td>\n",
       "    </tr>\n",
       "    <tr>\n",
       "      <td>3</td>\n",
       "      <td>4</td>\n",
       "      <td>박병호</td>\n",
       "      <td>넥센</td>\n",
       "      <td>0.345</td>\n",
       "      <td>138</td>\n",
       "      <td>43</td>\n",
       "      <td>112</td>\n",
       "    </tr>\n",
       "    <tr>\n",
       "      <td>4</td>\n",
       "      <td>5</td>\n",
       "      <td>안치홍</td>\n",
       "      <td>KIA</td>\n",
       "      <td>0.342</td>\n",
       "      <td>169</td>\n",
       "      <td>23</td>\n",
       "      <td>118</td>\n",
       "    </tr>\n",
       "    <tr>\n",
       "      <td>5</td>\n",
       "      <td>6</td>\n",
       "      <td>전준우</td>\n",
       "      <td>롯데</td>\n",
       "      <td>0.342</td>\n",
       "      <td>190</td>\n",
       "      <td>33</td>\n",
       "      <td>90</td>\n",
       "    </tr>\n",
       "    <tr>\n",
       "      <td>6</td>\n",
       "      <td>7</td>\n",
       "      <td>김주찬</td>\n",
       "      <td>KIA</td>\n",
       "      <td>0.340</td>\n",
       "      <td>146</td>\n",
       "      <td>18</td>\n",
       "      <td>93</td>\n",
       "    </tr>\n",
       "    <tr>\n",
       "      <td>7</td>\n",
       "      <td>8</td>\n",
       "      <td>최형우</td>\n",
       "      <td>KIA</td>\n",
       "      <td>0.339</td>\n",
       "      <td>179</td>\n",
       "      <td>25</td>\n",
       "      <td>103</td>\n",
       "    </tr>\n",
       "    <tr>\n",
       "      <td>8</td>\n",
       "      <td>9</td>\n",
       "      <td>유한준</td>\n",
       "      <td>KT</td>\n",
       "      <td>0.339</td>\n",
       "      <td>145</td>\n",
       "      <td>20</td>\n",
       "      <td>83</td>\n",
       "    </tr>\n",
       "    <tr>\n",
       "      <td>9</td>\n",
       "      <td>10</td>\n",
       "      <td>김재환</td>\n",
       "      <td>두산</td>\n",
       "      <td>0.334</td>\n",
       "      <td>176</td>\n",
       "      <td>44</td>\n",
       "      <td>133</td>\n",
       "    </tr>\n",
       "    <tr>\n",
       "      <td>10</td>\n",
       "      <td>11</td>\n",
       "      <td>최주환</td>\n",
       "      <td>두산</td>\n",
       "      <td>0.333</td>\n",
       "      <td>173</td>\n",
       "      <td>26</td>\n",
       "      <td>108</td>\n",
       "    </tr>\n",
       "    <tr>\n",
       "      <td>11</td>\n",
       "      <td>12</td>\n",
       "      <td>이대호</td>\n",
       "      <td>롯데</td>\n",
       "      <td>0.333</td>\n",
       "      <td>181</td>\n",
       "      <td>37</td>\n",
       "      <td>125</td>\n",
       "    </tr>\n",
       "    <tr>\n",
       "      <td>12</td>\n",
       "      <td>13</td>\n",
       "      <td>구자욱</td>\n",
       "      <td>삼성</td>\n",
       "      <td>0.333</td>\n",
       "      <td>159</td>\n",
       "      <td>20</td>\n",
       "      <td>84</td>\n",
       "    </tr>\n",
       "    <tr>\n",
       "      <td>13</td>\n",
       "      <td>14</td>\n",
       "      <td>채은성</td>\n",
       "      <td>LG</td>\n",
       "      <td>0.331</td>\n",
       "      <td>175</td>\n",
       "      <td>25</td>\n",
       "      <td>119</td>\n",
       "    </tr>\n",
       "    <tr>\n",
       "      <td>14</td>\n",
       "      <td>15</td>\n",
       "      <td>러프</td>\n",
       "      <td>삼성</td>\n",
       "      <td>0.330</td>\n",
       "      <td>167</td>\n",
       "      <td>33</td>\n",
       "      <td>125</td>\n",
       "    </tr>\n",
       "    <tr>\n",
       "      <td>15</td>\n",
       "      <td>16</td>\n",
       "      <td>이재원</td>\n",
       "      <td>SK</td>\n",
       "      <td>0.329</td>\n",
       "      <td>134</td>\n",
       "      <td>17</td>\n",
       "      <td>57</td>\n",
       "    </tr>\n",
       "    <tr>\n",
       "      <td>16</td>\n",
       "      <td>17</td>\n",
       "      <td>손아섭</td>\n",
       "      <td>롯데</td>\n",
       "      <td>0.329</td>\n",
       "      <td>182</td>\n",
       "      <td>26</td>\n",
       "      <td>93</td>\n",
       "    </tr>\n",
       "    <tr>\n",
       "      <td>17</td>\n",
       "      <td>18</td>\n",
       "      <td>박건우</td>\n",
       "      <td>두산</td>\n",
       "      <td>0.326</td>\n",
       "      <td>159</td>\n",
       "      <td>12</td>\n",
       "      <td>84</td>\n",
       "    </tr>\n",
       "    <tr>\n",
       "      <td>18</td>\n",
       "      <td>19</td>\n",
       "      <td>허경민</td>\n",
       "      <td>두산</td>\n",
       "      <td>0.324</td>\n",
       "      <td>167</td>\n",
       "      <td>10</td>\n",
       "      <td>79</td>\n",
       "    </tr>\n",
       "  </tbody>\n",
       "</table>\n",
       "</div>"
      ],
      "text/plain": [
       "    order name team    avg  hit  homerun  rbi\n",
       "0       1  김현수   LG  0.362  164       20  101\n",
       "1       2  양의지   두산  0.358  157       23   77\n",
       "2       3  이정후   넥센  0.355  163        6   57\n",
       "3       4  박병호   넥센  0.345  138       43  112\n",
       "4       5  안치홍  KIA  0.342  169       23  118\n",
       "5       6  전준우   롯데  0.342  190       33   90\n",
       "6       7  김주찬  KIA  0.340  146       18   93\n",
       "7       8  최형우  KIA  0.339  179       25  103\n",
       "8       9  유한준   KT  0.339  145       20   83\n",
       "9      10  김재환   두산  0.334  176       44  133\n",
       "10     11  최주환   두산  0.333  173       26  108\n",
       "11     12  이대호   롯데  0.333  181       37  125\n",
       "12     13  구자욱   삼성  0.333  159       20   84\n",
       "13     14  채은성   LG  0.331  175       25  119\n",
       "14     15   러프   삼성  0.330  167       33  125\n",
       "15     16  이재원   SK  0.329  134       17   57\n",
       "16     17  손아섭   롯데  0.329  182       26   93\n",
       "17     18  박건우   두산  0.326  159       12   84\n",
       "18     19  허경민   두산  0.324  167       10   79"
      ]
     },
     "execution_count": 17,
     "metadata": {},
     "output_type": "execute_result"
    }
   ],
   "source": [
    "# 이 셀에 입력해주세요\n",
    "baseball = pd.DataFrame(baseball_dic)\n",
    "baseball"
   ]
  },
  {
   "cell_type": "markdown",
   "metadata": {},
   "source": [
    "# Q6. 1~10번째의 name과 homerun column만 불러와주세요"
   ]
  },
  {
   "cell_type": "code",
   "execution_count": 14,
   "metadata": {},
   "outputs": [
    {
     "data": {
      "text/html": [
       "<div>\n",
       "<style scoped>\n",
       "    .dataframe tbody tr th:only-of-type {\n",
       "        vertical-align: middle;\n",
       "    }\n",
       "\n",
       "    .dataframe tbody tr th {\n",
       "        vertical-align: top;\n",
       "    }\n",
       "\n",
       "    .dataframe thead th {\n",
       "        text-align: right;\n",
       "    }\n",
       "</style>\n",
       "<table border=\"1\" class=\"dataframe\">\n",
       "  <thead>\n",
       "    <tr style=\"text-align: right;\">\n",
       "      <th></th>\n",
       "      <th>name</th>\n",
       "      <th>homerun</th>\n",
       "    </tr>\n",
       "  </thead>\n",
       "  <tbody>\n",
       "    <tr>\n",
       "      <td>0</td>\n",
       "      <td>김현수</td>\n",
       "      <td>20</td>\n",
       "    </tr>\n",
       "    <tr>\n",
       "      <td>1</td>\n",
       "      <td>양의지</td>\n",
       "      <td>23</td>\n",
       "    </tr>\n",
       "    <tr>\n",
       "      <td>2</td>\n",
       "      <td>이정후</td>\n",
       "      <td>6</td>\n",
       "    </tr>\n",
       "    <tr>\n",
       "      <td>3</td>\n",
       "      <td>박병호</td>\n",
       "      <td>43</td>\n",
       "    </tr>\n",
       "    <tr>\n",
       "      <td>4</td>\n",
       "      <td>안치홍</td>\n",
       "      <td>23</td>\n",
       "    </tr>\n",
       "    <tr>\n",
       "      <td>5</td>\n",
       "      <td>전준우</td>\n",
       "      <td>33</td>\n",
       "    </tr>\n",
       "    <tr>\n",
       "      <td>6</td>\n",
       "      <td>김주찬</td>\n",
       "      <td>18</td>\n",
       "    </tr>\n",
       "    <tr>\n",
       "      <td>7</td>\n",
       "      <td>최형우</td>\n",
       "      <td>25</td>\n",
       "    </tr>\n",
       "    <tr>\n",
       "      <td>8</td>\n",
       "      <td>유한준</td>\n",
       "      <td>20</td>\n",
       "    </tr>\n",
       "    <tr>\n",
       "      <td>9</td>\n",
       "      <td>김재환</td>\n",
       "      <td>44</td>\n",
       "    </tr>\n",
       "  </tbody>\n",
       "</table>\n",
       "</div>"
      ],
      "text/plain": [
       "  name  homerun\n",
       "0  김현수       20\n",
       "1  양의지       23\n",
       "2  이정후        6\n",
       "3  박병호       43\n",
       "4  안치홍       23\n",
       "5  전준우       33\n",
       "6  김주찬       18\n",
       "7  최형우       25\n",
       "8  유한준       20\n",
       "9  김재환       44"
      ]
     },
     "execution_count": 14,
     "metadata": {},
     "output_type": "execute_result"
    }
   ],
   "source": [
    "# 이 셀은 출력 예시입니다. 아래 셀에 입력해주세요"
   ]
  },
  {
   "cell_type": "code",
   "execution_count": 20,
   "metadata": {},
   "outputs": [
    {
     "data": {
      "text/html": [
       "<div>\n",
       "<style scoped>\n",
       "    .dataframe tbody tr th:only-of-type {\n",
       "        vertical-align: middle;\n",
       "    }\n",
       "\n",
       "    .dataframe tbody tr th {\n",
       "        vertical-align: top;\n",
       "    }\n",
       "\n",
       "    .dataframe thead th {\n",
       "        text-align: right;\n",
       "    }\n",
       "</style>\n",
       "<table border=\"1\" class=\"dataframe\">\n",
       "  <thead>\n",
       "    <tr style=\"text-align: right;\">\n",
       "      <th></th>\n",
       "      <th>name</th>\n",
       "      <th>homerun</th>\n",
       "    </tr>\n",
       "  </thead>\n",
       "  <tbody>\n",
       "    <tr>\n",
       "      <td>0</td>\n",
       "      <td>김현수</td>\n",
       "      <td>20</td>\n",
       "    </tr>\n",
       "    <tr>\n",
       "      <td>1</td>\n",
       "      <td>양의지</td>\n",
       "      <td>23</td>\n",
       "    </tr>\n",
       "    <tr>\n",
       "      <td>2</td>\n",
       "      <td>이정후</td>\n",
       "      <td>6</td>\n",
       "    </tr>\n",
       "    <tr>\n",
       "      <td>3</td>\n",
       "      <td>박병호</td>\n",
       "      <td>43</td>\n",
       "    </tr>\n",
       "    <tr>\n",
       "      <td>4</td>\n",
       "      <td>안치홍</td>\n",
       "      <td>23</td>\n",
       "    </tr>\n",
       "    <tr>\n",
       "      <td>5</td>\n",
       "      <td>전준우</td>\n",
       "      <td>33</td>\n",
       "    </tr>\n",
       "    <tr>\n",
       "      <td>6</td>\n",
       "      <td>김주찬</td>\n",
       "      <td>18</td>\n",
       "    </tr>\n",
       "    <tr>\n",
       "      <td>7</td>\n",
       "      <td>최형우</td>\n",
       "      <td>25</td>\n",
       "    </tr>\n",
       "    <tr>\n",
       "      <td>8</td>\n",
       "      <td>유한준</td>\n",
       "      <td>20</td>\n",
       "    </tr>\n",
       "    <tr>\n",
       "      <td>9</td>\n",
       "      <td>김재환</td>\n",
       "      <td>44</td>\n",
       "    </tr>\n",
       "  </tbody>\n",
       "</table>\n",
       "</div>"
      ],
      "text/plain": [
       "  name  homerun\n",
       "0  김현수       20\n",
       "1  양의지       23\n",
       "2  이정후        6\n",
       "3  박병호       43\n",
       "4  안치홍       23\n",
       "5  전준우       33\n",
       "6  김주찬       18\n",
       "7  최형우       25\n",
       "8  유한준       20\n",
       "9  김재환       44"
      ]
     },
     "execution_count": 20,
     "metadata": {},
     "output_type": "execute_result"
    }
   ],
   "source": [
    "# 이 셀에 입력해주세요\n",
    "baseball.loc[:9, ['name','homerun'] ]"
   ]
  },
  {
   "cell_type": "markdown",
   "metadata": {},
   "source": [
    "# Q7(심화). for문을 사용해서 타점(rbi)이 100이상인 사람이 몇명인지 출력해주세요"
   ]
  },
  {
   "cell_type": "code",
   "execution_count": 21,
   "metadata": {},
   "outputs": [],
   "source": [
    "# 이 셀에 입력해주세요\n",
    "count = 0\n",
    "for i in baseball['rbi']:\n",
    "    if i >= 100:\n",
    "        count += 1"
   ]
  },
  {
   "cell_type": "code",
   "execution_count": 22,
   "metadata": {},
   "outputs": [
    {
     "data": {
      "text/plain": [
       "9"
      ]
     },
     "execution_count": 22,
     "metadata": {},
     "output_type": "execute_result"
    }
   ],
   "source": [
    "count"
   ]
  },
  {
   "cell_type": "code",
   "execution_count": 28,
   "metadata": {},
   "outputs": [
    {
     "data": {
      "text/plain": [
       "9"
      ]
     },
     "execution_count": 28,
     "metadata": {},
     "output_type": "execute_result"
    }
   ],
   "source": [
    "len(baseball[baseball['rbi'] >= 100])"
   ]
  },
  {
   "cell_type": "code",
   "execution_count": 31,
   "metadata": {},
   "outputs": [
    {
     "data": {
      "text/plain": [
       "9"
      ]
     },
     "execution_count": 31,
     "metadata": {},
     "output_type": "execute_result"
    }
   ],
   "source": [
    "baseball[baseball['rbi'] >= 100].shape[0]"
   ]
  },
  {
   "cell_type": "code",
   "execution_count": null,
   "metadata": {},
   "outputs": [],
   "source": []
  }
 ],
 "metadata": {
  "kernelspec": {
   "display_name": "Python 3",
   "language": "python",
   "name": "python3"
  },
  "language_info": {
   "codemirror_mode": {
    "name": "ipython",
    "version": 3
   },
   "file_extension": ".py",
   "mimetype": "text/x-python",
   "name": "python",
   "nbconvert_exporter": "python",
   "pygments_lexer": "ipython3",
   "version": "3.6.9"
  }
 },
 "nbformat": 4,
 "nbformat_minor": 2
}
