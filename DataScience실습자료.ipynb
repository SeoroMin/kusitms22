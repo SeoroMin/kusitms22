{
 "cells": [
  {
   "cell_type": "markdown",
   "metadata": {},
   "source": [
    "# 큐시즘 21기 데이터를 활용해, 22기 연애유무를 맞춰보자"
   ]
  },
  {
   "cell_type": "markdown",
   "metadata": {},
   "source": [
    "- 흥미를 위해 임의로 만든 데이터입니다.\n",
    "- 주의 : 실제 데이터 및 결과가 아니기 때문에 흥미 목적으로 봐주세요.\n",
    "- (실제일수도 ㅎ.ㅎ)"
   ]
  },
  {
   "cell_type": "code",
   "execution_count": 12,
   "metadata": {},
   "outputs": [
    {
     "name": "stdout",
     "output_type": "stream",
     "text": [
      "Hello DataScience World\n"
     ]
    }
   ],
   "source": [
    "# print(\"Hello DataScience World\")\n",
    "print(\"Hello DataScience World\")"
   ]
  },
  {
   "cell_type": "code",
   "execution_count": 15,
   "metadata": {},
   "outputs": [
    {
     "data": {
      "text/plain": [
       "'상민'"
      ]
     },
     "execution_count": 15,
     "metadata": {},
     "output_type": "execute_result"
    }
   ],
   "source": [
    "# a = \"본인이름\"\n",
    "# a\n",
    "a = \"상민\"\n",
    "a"
   ]
  },
  {
   "cell_type": "code",
   "execution_count": 16,
   "metadata": {},
   "outputs": [
    {
     "name": "stdout",
     "output_type": "stream",
     "text": [
      "내 이름은 상민\n"
     ]
    }
   ],
   "source": [
    "# print(\"내 이름은\", a)\n",
    "print(\"내 이름은\", a)"
   ]
  },
  {
   "cell_type": "code",
   "execution_count": 17,
   "metadata": {},
   "outputs": [
    {
     "data": {
      "text/plain": [
       "2"
      ]
     },
     "execution_count": 17,
     "metadata": {},
     "output_type": "execute_result"
    }
   ],
   "source": [
    "# len(a)\n",
    "len(a)"
   ]
  },
  {
   "cell_type": "code",
   "execution_count": 18,
   "metadata": {},
   "outputs": [
    {
     "data": {
      "text/plain": [
       "range(0, 10)"
      ]
     },
     "execution_count": 18,
     "metadata": {},
     "output_type": "execute_result"
    }
   ],
   "source": [
    "# range(10)\n",
    "range(10)"
   ]
  },
  {
   "cell_type": "code",
   "execution_count": 20,
   "metadata": {},
   "outputs": [
    {
     "name": "stdout",
     "output_type": "stream",
     "text": [
      "0\n",
      "1\n",
      "2\n",
      "3\n",
      "4\n",
      "5\n",
      "6\n",
      "7\n",
      "8\n",
      "9\n"
     ]
    }
   ],
   "source": [
    "# for i in range(10):\n",
    "#    print(i)\n",
    "for i in range(10):\n",
    "    print(i)"
   ]
  },
  {
   "cell_type": "markdown",
   "metadata": {},
   "source": [
    "## - 실습 목차\n",
    "### 패키지 불러오기\n",
    "### 데이터 살펴보기\n",
    "### EDA(탐색적 데이터 분석)\n",
    "### 데이터 전처리\n",
    "### 변수 선택 및 모델링\n",
    "### 학습 및 검증"
   ]
  },
  {
   "cell_type": "markdown",
   "metadata": {},
   "source": [
    "# 패키지 불러오기\n",
    "- import 패키지이름 as 이름요약"
   ]
  },
  {
   "cell_type": "code",
   "execution_count": 21,
   "metadata": {},
   "outputs": [],
   "source": [
    "# import pandas as pd\n",
    "# import numpy as np\n",
    "# import matplotlib.pyplot as plt\n",
    "# import seaborn as sns\n",
    "\n",
    "import pandas as pd\n",
    "import numpy as np\n",
    "import matplotlib.pyplot as plt\n",
    "import seaborn as sns"
   ]
  },
  {
   "cell_type": "code",
   "execution_count": 78,
   "metadata": {},
   "outputs": [],
   "source": [
    "# 그래프 작성 라이브러리 및 한글 폰트 지정을 위한 코드를 실행합니다. \n",
    "# 아래 코드 추가\n",
    "import matplotlib\n",
    "from matplotlib import font_manager, rc\n",
    "import platform\n",
    "\n",
    "\n",
    "\n",
    "%matplotlib inline\n",
    "\n",
    "# 이미지 한글 표시 설정\n",
    "if platform.system() == 'Windows':  # 윈도우인 경우 맑은고딕\n",
    "    font_name = font_manager.FontProperties(fname=\"c:/Windows/Fonts/malgun.ttf\").get_name()\n",
    "    rc('font', family=font_name)\n",
    "else:    # Mac 인 경우 애플고딕\n",
    "    rc('font', family='AppleGothic')\n",
    "\n",
    "# 위에 안 될 시 아래 코드로 실행해주세요    \n",
    "# matplotlib.rcParams['font.family'].insert(0, 'Malgun Gothic')\n",
    "\n",
    "#그래프에서 마이너스 기호가 표시되도록 하는 설정입니다.\n",
    "matplotlib.rcParams['axes.unicode_minus'] = False"
   ]
  },
  {
   "cell_type": "markdown",
   "metadata": {},
   "source": [
    "# 데이터 살펴보기"
   ]
  },
  {
   "cell_type": "markdown",
   "metadata": {},
   "source": [
    "### pd.read_csv()\n",
    "- data = ? -> data라는 변수에 오른쪽 ?를 담겠다\n",
    "- pd.read_csv(\"경로/파일이름.확장자\")\n",
    "- pandas라는 패키지에서 read_csv라는 함수를 불러온다\n",
    "- 함수는 보통 ( ) 소가로로 입력값을 받고, 안에 \"경로/파일이름.확장자\" 순으로 작성\n",
    "- data/kusitms21_love.csv 라는 것은 data라는 폴더 안에 kusitms21_love.csv라는 파일을 불러오겠다"
   ]
  },
  {
   "cell_type": "code",
   "execution_count": 24,
   "metadata": {},
   "outputs": [],
   "source": [
    "# pd.read_csv(\"경로/파일이름.확장자\")\n",
    "data = pd.read_csv(\"data/kusitms21_love.csv\")"
   ]
  },
  {
   "cell_type": "markdown",
   "metadata": {},
   "source": [
    "### data.head()\n",
    "- 앞에 데이터 몇 개를 확인하겠다\n",
    "- ()안에 안 넣으면 5개, (3)을 지정하면 3개 즉 (n)=n개 데이터를 확인하겠다\n",
    "\n",
    "\n",
    "### data.tail()\n",
    "- tail도 위와 같은 형식이나 뒤에 데이터를 확인함"
   ]
  },
  {
   "cell_type": "code",
   "execution_count": 28,
   "metadata": {},
   "outputs": [
    {
     "data": {
      "text/html": [
       "<div>\n",
       "<style scoped>\n",
       "    .dataframe tbody tr th:only-of-type {\n",
       "        vertical-align: middle;\n",
       "    }\n",
       "\n",
       "    .dataframe tbody tr th {\n",
       "        vertical-align: top;\n",
       "    }\n",
       "\n",
       "    .dataframe thead th {\n",
       "        text-align: right;\n",
       "    }\n",
       "</style>\n",
       "<table border=\"1\" class=\"dataframe\">\n",
       "  <thead>\n",
       "    <tr style=\"text-align: right;\">\n",
       "      <th></th>\n",
       "      <th>ID</th>\n",
       "      <th>학술제파트</th>\n",
       "      <th>직책</th>\n",
       "      <th>성별</th>\n",
       "      <th>나이</th>\n",
       "      <th>연애</th>\n",
       "      <th>스터디</th>\n",
       "      <th>카톡방</th>\n",
       "      <th>지역</th>\n",
       "    </tr>\n",
       "  </thead>\n",
       "  <tbody>\n",
       "    <tr>\n",
       "      <td>77</td>\n",
       "      <td>78</td>\n",
       "      <td>개발</td>\n",
       "      <td>운영진</td>\n",
       "      <td>여</td>\n",
       "      <td>23</td>\n",
       "      <td>0</td>\n",
       "      <td>1</td>\n",
       "      <td>29</td>\n",
       "      <td>NaN</td>\n",
       "    </tr>\n",
       "    <tr>\n",
       "      <td>78</td>\n",
       "      <td>79</td>\n",
       "      <td>기획</td>\n",
       "      <td>운영진</td>\n",
       "      <td>여</td>\n",
       "      <td>23</td>\n",
       "      <td>1</td>\n",
       "      <td>2</td>\n",
       "      <td>723</td>\n",
       "      <td>강북</td>\n",
       "    </tr>\n",
       "    <tr>\n",
       "      <td>79</td>\n",
       "      <td>80</td>\n",
       "      <td>디자인</td>\n",
       "      <td>운영진</td>\n",
       "      <td>여</td>\n",
       "      <td>24</td>\n",
       "      <td>1</td>\n",
       "      <td>3</td>\n",
       "      <td>78</td>\n",
       "      <td>NaN</td>\n",
       "    </tr>\n",
       "  </tbody>\n",
       "</table>\n",
       "</div>"
      ],
      "text/plain": [
       "    ID 학술제파트   직책 성별  나이  연애  스터디  카톡방   지역\n",
       "77  78    개발  운영진  여  23   0    1   29  NaN\n",
       "78  79    기획  운영진  여  23   1    2  723   강북\n",
       "79  80   디자인  운영진  여  24   1    3   78  NaN"
      ]
     },
     "execution_count": 28,
     "metadata": {},
     "output_type": "execute_result"
    }
   ],
   "source": [
    "# data.head()\n",
    "data.tail(3)\n",
    "# data.head(3)\n",
    "\n",
    "# data.tail()\n"
   ]
  },
  {
   "cell_type": "markdown",
   "metadata": {},
   "source": [
    "- ID: 임의의 번호\n",
    "- 학술제파트 : 학술제에서 맡은 파트(기획/개발/디자인)\n",
    "- 직책 : 운영진/회원\n",
    "- 성별 : 남/여\n",
    "- 나이 : 현재나이(만x)\n",
    "- 연애 : 0 -> 큐시즘내에서 연애X , 1 -> 큐시즘내에서 연애O\n",
    "- 스터디 : 들어가 있는 스터디방 개수\n",
    "- 카톡방 : 단톡방(수다방)에서 말한 횟수\n",
    "- 지역 : 현재 사는 지역(인천/경기/강남/강북)"
   ]
  },
  {
   "cell_type": "markdown",
   "metadata": {},
   "source": [
    "### data.shape : data의 행과 열의 개수를 알려주는 함수\n",
    "- (행, 열)"
   ]
  },
  {
   "cell_type": "code",
   "execution_count": 29,
   "metadata": {},
   "outputs": [
    {
     "data": {
      "text/plain": [
       "(80, 9)"
      ]
     },
     "execution_count": 29,
     "metadata": {},
     "output_type": "execute_result"
    }
   ],
   "source": [
    "# data.shape\n",
    "data.shape"
   ]
  },
  {
   "cell_type": "markdown",
   "metadata": {},
   "source": [
    "### data.info() : data의 정보를 알려주는 함수\n",
    "- 데이터셋의 column별 정보를 알려주는 함수\n",
    "- 총 개수, 비어있지 않은 값(non-null), 자료형을 알려줌\n",
    "- int(정수형숫자), float(실수), object(문자열) 등등"
   ]
  },
  {
   "cell_type": "code",
   "execution_count": 30,
   "metadata": {},
   "outputs": [
    {
     "name": "stdout",
     "output_type": "stream",
     "text": [
      "<class 'pandas.core.frame.DataFrame'>\n",
      "RangeIndex: 80 entries, 0 to 79\n",
      "Data columns (total 9 columns):\n",
      "ID       80 non-null int64\n",
      "학술제파트    80 non-null object\n",
      "직책       80 non-null object\n",
      "성별       80 non-null object\n",
      "나이       80 non-null int64\n",
      "연애       80 non-null int64\n",
      "스터디      80 non-null int64\n",
      "카톡방      80 non-null int64\n",
      "지역       7 non-null object\n",
      "dtypes: int64(5), object(4)\n",
      "memory usage: 5.8+ KB\n"
     ]
    }
   ],
   "source": [
    "# data.info()\n",
    "data.info()"
   ]
  },
  {
   "cell_type": "markdown",
   "metadata": {},
   "source": [
    "### data.decribe()\n",
    "- data의 통계값을 알려주는 함수\n",
    "- count : 개수 / mean : 평균 / std : 표준편차 / min : 최소값(이상치 포함)\n",
    "- 25% : 1분위수 / 50% : 2분위수 / 75% : 3분위수 / max : 최대값(이상치 포함)"
   ]
  },
  {
   "cell_type": "code",
   "execution_count": 31,
   "metadata": {},
   "outputs": [
    {
     "data": {
      "text/html": [
       "<div>\n",
       "<style scoped>\n",
       "    .dataframe tbody tr th:only-of-type {\n",
       "        vertical-align: middle;\n",
       "    }\n",
       "\n",
       "    .dataframe tbody tr th {\n",
       "        vertical-align: top;\n",
       "    }\n",
       "\n",
       "    .dataframe thead th {\n",
       "        text-align: right;\n",
       "    }\n",
       "</style>\n",
       "<table border=\"1\" class=\"dataframe\">\n",
       "  <thead>\n",
       "    <tr style=\"text-align: right;\">\n",
       "      <th></th>\n",
       "      <th>ID</th>\n",
       "      <th>나이</th>\n",
       "      <th>연애</th>\n",
       "      <th>스터디</th>\n",
       "      <th>카톡방</th>\n",
       "    </tr>\n",
       "  </thead>\n",
       "  <tbody>\n",
       "    <tr>\n",
       "      <td>count</td>\n",
       "      <td>80.0000</td>\n",
       "      <td>80.000000</td>\n",
       "      <td>80.000000</td>\n",
       "      <td>80.000000</td>\n",
       "      <td>80.000000</td>\n",
       "    </tr>\n",
       "    <tr>\n",
       "      <td>mean</td>\n",
       "      <td>40.5000</td>\n",
       "      <td>23.212500</td>\n",
       "      <td>0.212500</td>\n",
       "      <td>1.537500</td>\n",
       "      <td>65.625000</td>\n",
       "    </tr>\n",
       "    <tr>\n",
       "      <td>std</td>\n",
       "      <td>23.2379</td>\n",
       "      <td>1.429293</td>\n",
       "      <td>0.411658</td>\n",
       "      <td>1.211169</td>\n",
       "      <td>124.844954</td>\n",
       "    </tr>\n",
       "    <tr>\n",
       "      <td>min</td>\n",
       "      <td>1.0000</td>\n",
       "      <td>20.000000</td>\n",
       "      <td>0.000000</td>\n",
       "      <td>0.000000</td>\n",
       "      <td>0.000000</td>\n",
       "    </tr>\n",
       "    <tr>\n",
       "      <td>25%</td>\n",
       "      <td>20.7500</td>\n",
       "      <td>22.000000</td>\n",
       "      <td>0.000000</td>\n",
       "      <td>1.000000</td>\n",
       "      <td>6.750000</td>\n",
       "    </tr>\n",
       "    <tr>\n",
       "      <td>50%</td>\n",
       "      <td>40.5000</td>\n",
       "      <td>23.000000</td>\n",
       "      <td>0.000000</td>\n",
       "      <td>1.000000</td>\n",
       "      <td>17.000000</td>\n",
       "    </tr>\n",
       "    <tr>\n",
       "      <td>75%</td>\n",
       "      <td>60.2500</td>\n",
       "      <td>24.000000</td>\n",
       "      <td>0.000000</td>\n",
       "      <td>2.000000</td>\n",
       "      <td>29.500000</td>\n",
       "    </tr>\n",
       "    <tr>\n",
       "      <td>max</td>\n",
       "      <td>80.0000</td>\n",
       "      <td>27.000000</td>\n",
       "      <td>1.000000</td>\n",
       "      <td>5.000000</td>\n",
       "      <td>723.000000</td>\n",
       "    </tr>\n",
       "  </tbody>\n",
       "</table>\n",
       "</div>"
      ],
      "text/plain": [
       "            ID         나이         연애        스터디         카톡방\n",
       "count  80.0000  80.000000  80.000000  80.000000   80.000000\n",
       "mean   40.5000  23.212500   0.212500   1.537500   65.625000\n",
       "std    23.2379   1.429293   0.411658   1.211169  124.844954\n",
       "min     1.0000  20.000000   0.000000   0.000000    0.000000\n",
       "25%    20.7500  22.000000   0.000000   1.000000    6.750000\n",
       "50%    40.5000  23.000000   0.000000   1.000000   17.000000\n",
       "75%    60.2500  24.000000   0.000000   2.000000   29.500000\n",
       "max    80.0000  27.000000   1.000000   5.000000  723.000000"
      ]
     },
     "execution_count": 31,
     "metadata": {},
     "output_type": "execute_result"
    }
   ],
   "source": [
    "# data.describe()\n",
    "data.describe()"
   ]
  },
  {
   "cell_type": "markdown",
   "metadata": {},
   "source": [
    "# EDA(탐색적 데이터 분석)"
   ]
  },
  {
   "cell_type": "markdown",
   "metadata": {},
   "source": [
    "### data.set_index()\n",
    "- index를 column으로 바꾸겠다\n",
    "- ID를 넣으면 ID를 index로 설정"
   ]
  },
  {
   "cell_type": "code",
   "execution_count": 33,
   "metadata": {},
   "outputs": [
    {
     "data": {
      "text/html": [
       "<div>\n",
       "<style scoped>\n",
       "    .dataframe tbody tr th:only-of-type {\n",
       "        vertical-align: middle;\n",
       "    }\n",
       "\n",
       "    .dataframe tbody tr th {\n",
       "        vertical-align: top;\n",
       "    }\n",
       "\n",
       "    .dataframe thead th {\n",
       "        text-align: right;\n",
       "    }\n",
       "</style>\n",
       "<table border=\"1\" class=\"dataframe\">\n",
       "  <thead>\n",
       "    <tr style=\"text-align: right;\">\n",
       "      <th></th>\n",
       "      <th>학술제파트</th>\n",
       "      <th>직책</th>\n",
       "      <th>성별</th>\n",
       "      <th>나이</th>\n",
       "      <th>연애</th>\n",
       "      <th>스터디</th>\n",
       "      <th>카톡방</th>\n",
       "      <th>지역</th>\n",
       "    </tr>\n",
       "    <tr>\n",
       "      <th>ID</th>\n",
       "      <th></th>\n",
       "      <th></th>\n",
       "      <th></th>\n",
       "      <th></th>\n",
       "      <th></th>\n",
       "      <th></th>\n",
       "      <th></th>\n",
       "      <th></th>\n",
       "    </tr>\n",
       "  </thead>\n",
       "  <tbody>\n",
       "    <tr>\n",
       "      <td>1</td>\n",
       "      <td>개발</td>\n",
       "      <td>운영진</td>\n",
       "      <td>남</td>\n",
       "      <td>25</td>\n",
       "      <td>0</td>\n",
       "      <td>1</td>\n",
       "      <td>420</td>\n",
       "      <td>강북</td>\n",
       "    </tr>\n",
       "    <tr>\n",
       "      <td>2</td>\n",
       "      <td>개발</td>\n",
       "      <td>회원</td>\n",
       "      <td>여</td>\n",
       "      <td>23</td>\n",
       "      <td>0</td>\n",
       "      <td>0</td>\n",
       "      <td>10</td>\n",
       "      <td>강남</td>\n",
       "    </tr>\n",
       "    <tr>\n",
       "      <td>3</td>\n",
       "      <td>디자인</td>\n",
       "      <td>회원</td>\n",
       "      <td>여</td>\n",
       "      <td>21</td>\n",
       "      <td>0</td>\n",
       "      <td>2</td>\n",
       "      <td>22</td>\n",
       "      <td>강북</td>\n",
       "    </tr>\n",
       "    <tr>\n",
       "      <td>4</td>\n",
       "      <td>개발</td>\n",
       "      <td>회원</td>\n",
       "      <td>남</td>\n",
       "      <td>24</td>\n",
       "      <td>0</td>\n",
       "      <td>1</td>\n",
       "      <td>31</td>\n",
       "      <td>NaN</td>\n",
       "    </tr>\n",
       "    <tr>\n",
       "      <td>5</td>\n",
       "      <td>기획</td>\n",
       "      <td>회원</td>\n",
       "      <td>여</td>\n",
       "      <td>23</td>\n",
       "      <td>1</td>\n",
       "      <td>4</td>\n",
       "      <td>17</td>\n",
       "      <td>NaN</td>\n",
       "    </tr>\n",
       "    <tr>\n",
       "      <td>...</td>\n",
       "      <td>...</td>\n",
       "      <td>...</td>\n",
       "      <td>...</td>\n",
       "      <td>...</td>\n",
       "      <td>...</td>\n",
       "      <td>...</td>\n",
       "      <td>...</td>\n",
       "      <td>...</td>\n",
       "    </tr>\n",
       "    <tr>\n",
       "      <td>76</td>\n",
       "      <td>기획</td>\n",
       "      <td>회원</td>\n",
       "      <td>여</td>\n",
       "      <td>25</td>\n",
       "      <td>0</td>\n",
       "      <td>1</td>\n",
       "      <td>18</td>\n",
       "      <td>NaN</td>\n",
       "    </tr>\n",
       "    <tr>\n",
       "      <td>77</td>\n",
       "      <td>디자인</td>\n",
       "      <td>운영진</td>\n",
       "      <td>남</td>\n",
       "      <td>24</td>\n",
       "      <td>0</td>\n",
       "      <td>1</td>\n",
       "      <td>28</td>\n",
       "      <td>NaN</td>\n",
       "    </tr>\n",
       "    <tr>\n",
       "      <td>78</td>\n",
       "      <td>개발</td>\n",
       "      <td>운영진</td>\n",
       "      <td>여</td>\n",
       "      <td>23</td>\n",
       "      <td>0</td>\n",
       "      <td>1</td>\n",
       "      <td>29</td>\n",
       "      <td>NaN</td>\n",
       "    </tr>\n",
       "    <tr>\n",
       "      <td>79</td>\n",
       "      <td>기획</td>\n",
       "      <td>운영진</td>\n",
       "      <td>여</td>\n",
       "      <td>23</td>\n",
       "      <td>1</td>\n",
       "      <td>2</td>\n",
       "      <td>723</td>\n",
       "      <td>강북</td>\n",
       "    </tr>\n",
       "    <tr>\n",
       "      <td>80</td>\n",
       "      <td>디자인</td>\n",
       "      <td>운영진</td>\n",
       "      <td>여</td>\n",
       "      <td>24</td>\n",
       "      <td>1</td>\n",
       "      <td>3</td>\n",
       "      <td>78</td>\n",
       "      <td>NaN</td>\n",
       "    </tr>\n",
       "  </tbody>\n",
       "</table>\n",
       "<p>80 rows × 8 columns</p>\n",
       "</div>"
      ],
      "text/plain": [
       "   학술제파트   직책 성별  나이  연애  스터디  카톡방   지역\n",
       "ID                                     \n",
       "1     개발  운영진  남  25   0    1  420   강북\n",
       "2     개발   회원  여  23   0    0   10   강남\n",
       "3    디자인   회원  여  21   0    2   22   강북\n",
       "4     개발   회원  남  24   0    1   31  NaN\n",
       "5     기획   회원  여  23   1    4   17  NaN\n",
       "..   ...  ... ..  ..  ..  ...  ...  ...\n",
       "76    기획   회원  여  25   0    1   18  NaN\n",
       "77   디자인  운영진  남  24   0    1   28  NaN\n",
       "78    개발  운영진  여  23   0    1   29  NaN\n",
       "79    기획  운영진  여  23   1    2  723   강북\n",
       "80   디자인  운영진  여  24   1    3   78  NaN\n",
       "\n",
       "[80 rows x 8 columns]"
      ]
     },
     "execution_count": 33,
     "metadata": {},
     "output_type": "execute_result"
    }
   ],
   "source": [
    "# data.set_index(\"ID\")\n",
    "data.set_index(\"ID\")"
   ]
  },
  {
   "cell_type": "markdown",
   "metadata": {},
   "source": [
    "### data[ ].value_counts()\n",
    "- 해당 열의 값 개수를 확인합니다"
   ]
  },
  {
   "cell_type": "code",
   "execution_count": 34,
   "metadata": {},
   "outputs": [
    {
     "data": {
      "text/plain": [
       "회원     56\n",
       "운영진    24\n",
       "Name: 직책, dtype: int64"
      ]
     },
     "execution_count": 34,
     "metadata": {},
     "output_type": "execute_result"
    }
   ],
   "source": [
    "# data[\"직책\"].value_counts()\n",
    "data[\"직책\"].value_counts()"
   ]
  },
  {
   "cell_type": "code",
   "execution_count": 35,
   "metadata": {},
   "outputs": [
    {
     "data": {
      "text/plain": [
       "개발     36\n",
       "기획     33\n",
       "디자인    11\n",
       "Name: 학술제파트, dtype: int64"
      ]
     },
     "execution_count": 35,
     "metadata": {},
     "output_type": "execute_result"
    }
   ],
   "source": [
    "# data[\"학술제파트\"].value_counts()\n",
    "data[\"학술제파트\"].value_counts()"
   ]
  },
  {
   "cell_type": "code",
   "execution_count": 36,
   "metadata": {},
   "outputs": [
    {
     "data": {
      "text/plain": [
       "여    60\n",
       "남    20\n",
       "Name: 성별, dtype: int64"
      ]
     },
     "execution_count": 36,
     "metadata": {},
     "output_type": "execute_result"
    }
   ],
   "source": [
    "# data[\"성별\"].value_counts()\n",
    "data[\"성별\"].value_counts()"
   ]
  },
  {
   "cell_type": "code",
   "execution_count": 37,
   "metadata": {},
   "outputs": [
    {
     "data": {
      "text/plain": [
       "0    63\n",
       "1    17\n",
       "Name: 연애, dtype: int64"
      ]
     },
     "execution_count": 37,
     "metadata": {},
     "output_type": "execute_result"
    }
   ],
   "source": [
    "# 연애 열의 값 개수를 확인해주세요\n",
    "data[\"연애\"].value_counts()"
   ]
  },
  {
   "cell_type": "code",
   "execution_count": 38,
   "metadata": {},
   "outputs": [
    {
     "data": {
      "text/plain": [
       "1    37\n",
       "2    17\n",
       "0    12\n",
       "4     6\n",
       "3     6\n",
       "5     2\n",
       "Name: 스터디, dtype: int64"
      ]
     },
     "execution_count": 38,
     "metadata": {},
     "output_type": "execute_result"
    }
   ],
   "source": [
    "# data[\"스터디\"].value_counts()\n",
    "data[\"스터디\"].value_counts()"
   ]
  },
  {
   "cell_type": "code",
   "execution_count": 323,
   "metadata": {},
   "outputs": [],
   "source": [
    "# data[\"카톡방\"].value_counts()\n"
   ]
  },
  {
   "cell_type": "markdown",
   "metadata": {},
   "source": [
    "### data.isnull()\n",
    "- boolean(true/false)형태로 반환해줌\n",
    "- data.isnull().sum() -> null값들의 개수를 모두 합하여 나타내줌"
   ]
  },
  {
   "cell_type": "code",
   "execution_count": 40,
   "metadata": {},
   "outputs": [
    {
     "data": {
      "text/plain": [
       "ID        0\n",
       "학술제파트     0\n",
       "직책        0\n",
       "성별        0\n",
       "나이        0\n",
       "연애        0\n",
       "스터디       0\n",
       "카톡방       0\n",
       "지역       73\n",
       "dtype: int64"
      ]
     },
     "execution_count": 40,
     "metadata": {},
     "output_type": "execute_result"
    }
   ],
   "source": [
    "# data.isnull().sum()\n",
    "data.isnull().sum()"
   ]
  },
  {
   "cell_type": "markdown",
   "metadata": {},
   "source": [
    "### data.drop()\n",
    "- drop(삭제할 열 이름, axis=?)\n",
    "- axis=0일 땐 행 삭제, axis=1일 땐 열 삭제"
   ]
  },
  {
   "cell_type": "code",
   "execution_count": 42,
   "metadata": {},
   "outputs": [
    {
     "data": {
      "text/html": [
       "<div>\n",
       "<style scoped>\n",
       "    .dataframe tbody tr th:only-of-type {\n",
       "        vertical-align: middle;\n",
       "    }\n",
       "\n",
       "    .dataframe tbody tr th {\n",
       "        vertical-align: top;\n",
       "    }\n",
       "\n",
       "    .dataframe thead th {\n",
       "        text-align: right;\n",
       "    }\n",
       "</style>\n",
       "<table border=\"1\" class=\"dataframe\">\n",
       "  <thead>\n",
       "    <tr style=\"text-align: right;\">\n",
       "      <th></th>\n",
       "      <th>ID</th>\n",
       "      <th>학술제파트</th>\n",
       "      <th>직책</th>\n",
       "      <th>성별</th>\n",
       "      <th>나이</th>\n",
       "      <th>연애</th>\n",
       "      <th>스터디</th>\n",
       "      <th>카톡방</th>\n",
       "    </tr>\n",
       "  </thead>\n",
       "  <tbody>\n",
       "    <tr>\n",
       "      <td>0</td>\n",
       "      <td>1</td>\n",
       "      <td>개발</td>\n",
       "      <td>운영진</td>\n",
       "      <td>남</td>\n",
       "      <td>25</td>\n",
       "      <td>0</td>\n",
       "      <td>1</td>\n",
       "      <td>420</td>\n",
       "    </tr>\n",
       "    <tr>\n",
       "      <td>1</td>\n",
       "      <td>2</td>\n",
       "      <td>개발</td>\n",
       "      <td>회원</td>\n",
       "      <td>여</td>\n",
       "      <td>23</td>\n",
       "      <td>0</td>\n",
       "      <td>0</td>\n",
       "      <td>10</td>\n",
       "    </tr>\n",
       "    <tr>\n",
       "      <td>2</td>\n",
       "      <td>3</td>\n",
       "      <td>디자인</td>\n",
       "      <td>회원</td>\n",
       "      <td>여</td>\n",
       "      <td>21</td>\n",
       "      <td>0</td>\n",
       "      <td>2</td>\n",
       "      <td>22</td>\n",
       "    </tr>\n",
       "    <tr>\n",
       "      <td>3</td>\n",
       "      <td>4</td>\n",
       "      <td>개발</td>\n",
       "      <td>회원</td>\n",
       "      <td>남</td>\n",
       "      <td>24</td>\n",
       "      <td>0</td>\n",
       "      <td>1</td>\n",
       "      <td>31</td>\n",
       "    </tr>\n",
       "    <tr>\n",
       "      <td>4</td>\n",
       "      <td>5</td>\n",
       "      <td>기획</td>\n",
       "      <td>회원</td>\n",
       "      <td>여</td>\n",
       "      <td>23</td>\n",
       "      <td>1</td>\n",
       "      <td>4</td>\n",
       "      <td>17</td>\n",
       "    </tr>\n",
       "    <tr>\n",
       "      <td>...</td>\n",
       "      <td>...</td>\n",
       "      <td>...</td>\n",
       "      <td>...</td>\n",
       "      <td>...</td>\n",
       "      <td>...</td>\n",
       "      <td>...</td>\n",
       "      <td>...</td>\n",
       "      <td>...</td>\n",
       "    </tr>\n",
       "    <tr>\n",
       "      <td>75</td>\n",
       "      <td>76</td>\n",
       "      <td>기획</td>\n",
       "      <td>회원</td>\n",
       "      <td>여</td>\n",
       "      <td>25</td>\n",
       "      <td>0</td>\n",
       "      <td>1</td>\n",
       "      <td>18</td>\n",
       "    </tr>\n",
       "    <tr>\n",
       "      <td>76</td>\n",
       "      <td>77</td>\n",
       "      <td>디자인</td>\n",
       "      <td>운영진</td>\n",
       "      <td>남</td>\n",
       "      <td>24</td>\n",
       "      <td>0</td>\n",
       "      <td>1</td>\n",
       "      <td>28</td>\n",
       "    </tr>\n",
       "    <tr>\n",
       "      <td>77</td>\n",
       "      <td>78</td>\n",
       "      <td>개발</td>\n",
       "      <td>운영진</td>\n",
       "      <td>여</td>\n",
       "      <td>23</td>\n",
       "      <td>0</td>\n",
       "      <td>1</td>\n",
       "      <td>29</td>\n",
       "    </tr>\n",
       "    <tr>\n",
       "      <td>78</td>\n",
       "      <td>79</td>\n",
       "      <td>기획</td>\n",
       "      <td>운영진</td>\n",
       "      <td>여</td>\n",
       "      <td>23</td>\n",
       "      <td>1</td>\n",
       "      <td>2</td>\n",
       "      <td>723</td>\n",
       "    </tr>\n",
       "    <tr>\n",
       "      <td>79</td>\n",
       "      <td>80</td>\n",
       "      <td>디자인</td>\n",
       "      <td>운영진</td>\n",
       "      <td>여</td>\n",
       "      <td>24</td>\n",
       "      <td>1</td>\n",
       "      <td>3</td>\n",
       "      <td>78</td>\n",
       "    </tr>\n",
       "  </tbody>\n",
       "</table>\n",
       "<p>80 rows × 8 columns</p>\n",
       "</div>"
      ],
      "text/plain": [
       "    ID 학술제파트   직책 성별  나이  연애  스터디  카톡방\n",
       "0    1    개발  운영진  남  25   0    1  420\n",
       "1    2    개발   회원  여  23   0    0   10\n",
       "2    3   디자인   회원  여  21   0    2   22\n",
       "3    4    개발   회원  남  24   0    1   31\n",
       "4    5    기획   회원  여  23   1    4   17\n",
       "..  ..   ...  ... ..  ..  ..  ...  ...\n",
       "75  76    기획   회원  여  25   0    1   18\n",
       "76  77   디자인  운영진  남  24   0    1   28\n",
       "77  78    개발  운영진  여  23   0    1   29\n",
       "78  79    기획  운영진  여  23   1    2  723\n",
       "79  80   디자인  운영진  여  24   1    3   78\n",
       "\n",
       "[80 rows x 8 columns]"
      ]
     },
     "execution_count": 42,
     "metadata": {},
     "output_type": "execute_result"
    }
   ],
   "source": [
    "# data.drop(\"지역\", axis=1)\n",
    "data.drop(\"지역\", axis=1)"
   ]
  },
  {
   "cell_type": "code",
   "execution_count": 326,
   "metadata": {},
   "outputs": [],
   "source": [
    "# data.head()\n"
   ]
  },
  {
   "cell_type": "markdown",
   "metadata": {},
   "source": [
    "### data.groupby()\n",
    "\n",
    "<img src=\"https://s3.amazonaws.com/files.dezyre.com/images/Tutorials/Split+Apply+Combine+Strategy.png\" width=\"700\" height=\"500\">\n",
    "\n",
    "- data.groupby(\"기준열\")[\"해당열\"]\n",
    "- data.groupby()[].함수()\n",
    "- 함수가 sum일땐 총 합계, mean()일땐 평균"
   ]
  },
  {
   "cell_type": "code",
   "execution_count": 44,
   "metadata": {},
   "outputs": [
    {
     "data": {
      "text/plain": [
       "직책\n",
       "운영진    13\n",
       "회원      4\n",
       "Name: 연애, dtype: int64"
      ]
     },
     "execution_count": 44,
     "metadata": {},
     "output_type": "execute_result"
    }
   ],
   "source": [
    "# data.groupby(\"직책\")[\"연애\"].sum()\n",
    "data.groupby(\"직책\")[\"연애\"].sum()"
   ]
  },
  {
   "cell_type": "markdown",
   "metadata": {},
   "source": [
    "### data.plot()\n",
    "- 그래프그리기\n",
    "- .plot() -> 기본값이 꺾은선 / kind=\"bar\"를 하면 막대그래프"
   ]
  },
  {
   "cell_type": "code",
   "execution_count": 45,
   "metadata": {},
   "outputs": [
    {
     "data": {
      "text/plain": [
       "<matplotlib.axes._subplots.AxesSubplot at 0x1939dd877b8>"
      ]
     },
     "execution_count": 45,
     "metadata": {},
     "output_type": "execute_result"
    },
    {
     "data": {
      "image/png": "[encoded data removed]",
      "text/plain": [
       "<Figure size 432x288 with 1 Axes>"
      ]
     },
     "metadata": {
      "needs_background": "light"
     },
     "output_type": "display_data"
    }
   ],
   "source": [
    "# data.groupby(\"직책\")[\"연애\"].sum().plot(kind=\"bar\")\n",
    "data.groupby(\"직책\")[\"연애\"].sum().plot(kind=\"bar\")"
   ]
  },
  {
   "cell_type": "markdown",
   "metadata": {},
   "source": [
    "- rot=0이라는 값을 주면 값을 0도로 회전하여 수평으로 나타내줌. 값을 조정하면서 각도 조정가능"
   ]
  },
  {
   "cell_type": "code",
   "execution_count": 46,
   "metadata": {},
   "outputs": [
    {
     "data": {
      "text/plain": [
       "<matplotlib.axes._subplots.AxesSubplot at 0x1939e08ecf8>"
      ]
     },
     "execution_count": 46,
     "metadata": {},
     "output_type": "execute_result"
    },
    {
     "data": {
      "image/png": "[encoded data removed]",
      "text/plain": [
       "<Figure size 432x288 with 1 Axes>"
      ]
     },
     "metadata": {
      "needs_background": "light"
     },
     "output_type": "display_data"
    }
   ],
   "source": [
    "# data.groupby(\"직책\")[\"연애\"].sum().plot(kind=\"bar\", rot=0)\n",
    "data.groupby(\"직책\")[\"연애\"].sum().plot(kind=\"bar\", rot=0)"
   ]
  },
  {
   "cell_type": "code",
   "execution_count": 47,
   "metadata": {},
   "outputs": [
    {
     "data": {
      "text/plain": [
       "<matplotlib.axes._subplots.AxesSubplot at 0x1939e0e49e8>"
      ]
     },
     "execution_count": 47,
     "metadata": {},
     "output_type": "execute_result"
    },
    {
     "data": {
      "image/png": "[encoded data removed]",
      "text/plain": [
       "<Figure size 432x288 with 1 Axes>"
      ]
     },
     "metadata": {
      "needs_background": "light"
     },
     "output_type": "display_data"
    }
   ],
   "source": [
    "# data.groupby(\"스터디\")[\"연애\"].sum().plot(kind=\"bar\", rot=0)\n",
    "data.groupby(\"스터디\")[\"연애\"].sum().plot(kind=\"bar\", rot=0)"
   ]
  },
  {
   "cell_type": "code",
   "execution_count": 331,
   "metadata": {},
   "outputs": [
    {
     "data": {
      "image/png": "[encoded data removed]",
      "text/plain": [
       "<Figure size 432x288 with 1 Axes>"
      ]
     },
     "metadata": {
      "needs_background": "light"
     },
     "output_type": "display_data"
    }
   ],
   "source": [
    "plt.scatter( data['카톡방'], data['연애'], label = \"data\")\n",
    "\n",
    "plt.legend(loc = \"best\")\n",
    "plt.xlabel('카톡방')\n",
    "plt.ylabel('연애')\n",
    "plt.show()"
   ]
  },
  {
   "cell_type": "markdown",
   "metadata": {},
   "source": [
    "# 변수 선택"
   ]
  },
  {
   "cell_type": "markdown",
   "metadata": {},
   "source": [
    "- 원래 문자변수도 encoding해야 되지만, 여기서는 숫자변수만 모델에 돌려보겠습니다.\n",
    "- 가설 : 나이, 스터디, 카톡방이 뭔가 연애에 영향을 많이 줄 것 같다"
   ]
  },
  {
   "cell_type": "code",
   "execution_count": 48,
   "metadata": {},
   "outputs": [],
   "source": [
    "# x_features = data[ ['나이','스터디','카톡방'] ]\n",
    "# y_label = data['연애'] \n",
    "x_features = data[ ['나이','스터디','카톡방'] ]\n",
    "y_label = data['연애']"
   ]
  },
  {
   "cell_type": "markdown",
   "metadata": {},
   "source": [
    "### sklearn 패키지 설치"
   ]
  },
  {
   "cell_type": "code",
   "execution_count": 50,
   "metadata": {},
   "outputs": [],
   "source": [
    "# import random\n",
    "# from sklearn.model_selection import train_test_split\n",
    "# from sklearn.tree import DecisionTreeClassifier\n",
    "# from sklearn.metrics import confusion_matrix, accuracy_score\n",
    "import random\n",
    "from sklearn.model_selection import train_test_split\n",
    "from sklearn.tree import DecisionTreeClassifier\n",
    "from sklearn.metrics import confusion_matrix, accuracy_score\n",
    "\n"
   ]
  },
  {
   "cell_type": "markdown",
   "metadata": {},
   "source": [
    "### train_test_split(학습변수, 예측변수, test_size, random_state)\n",
    "- test_size=0.3이면 train:test = 7:3으로 나누겠다는 뜻\n",
    "- random_state는 데이터를 random으로 뽑아온다는 뜻으로 숫자는 상관없음, 우리는 22기니까 22으로 통일!"
   ]
  },
  {
   "cell_type": "code",
   "execution_count": 52,
   "metadata": {},
   "outputs": [],
   "source": [
    "# x_train, x_test, y_train, y_test = train_test_split(x_features, y_label, test_size=0.3, random_state=22)\n",
    "x_train, x_test, y_train, y_test = train_test_split(x_features, y_label, test_size=0.3, random_state=22)"
   ]
  },
  {
   "cell_type": "markdown",
   "metadata": {},
   "source": [
    "### decisionTreeClassifier()\n",
    "- decision tree 분류 알고리즘을 사용"
   ]
  },
  {
   "cell_type": "code",
   "execution_count": 53,
   "metadata": {},
   "outputs": [],
   "source": [
    "# dt = DecisionTreeClassifier(random_state = 22)\n",
    "dt = DecisionTreeClassifier(random_state = 22)"
   ]
  },
  {
   "cell_type": "markdown",
   "metadata": {},
   "source": [
    "### model.fit()\n",
    "- 모델 학습"
   ]
  },
  {
   "cell_type": "code",
   "execution_count": 54,
   "metadata": {},
   "outputs": [
    {
     "data": {
      "text/plain": [
       "DecisionTreeClassifier(random_state=22)"
      ]
     },
     "execution_count": 54,
     "metadata": {},
     "output_type": "execute_result"
    }
   ],
   "source": [
    "# dt.fit(x_train, y_train)\n",
    "dt.fit(x_train, y_train)"
   ]
  },
  {
   "cell_type": "markdown",
   "metadata": {},
   "source": [
    "### model.predict()\n",
    "- 모델 예측"
   ]
  },
  {
   "cell_type": "code",
   "execution_count": 55,
   "metadata": {},
   "outputs": [
    {
     "data": {
      "text/plain": [
       "array([0, 0, 0, 0, 0, 0, 0, 1, 1, 0, 0, 0, 0, 0, 1, 0, 0, 1, 0, 0, 0, 0,\n",
       "       0, 0], dtype=int64)"
      ]
     },
     "execution_count": 55,
     "metadata": {},
     "output_type": "execute_result"
    }
   ],
   "source": [
    "# dt.predict(x_test)\n",
    "dt.predict(x_test)"
   ]
  },
  {
   "cell_type": "code",
   "execution_count": 56,
   "metadata": {},
   "outputs": [],
   "source": [
    "# y_pred = dt.predict(x_test)\n",
    "y_pred = dt.predict(x_test)"
   ]
  },
  {
   "cell_type": "markdown",
   "metadata": {},
   "source": [
    "### confusion_matrix(예측변수 테스트데이터, 훈련으로 예측한 데이터)\n",
    "- 1행1열 = 1이라고 예측했는데, 실제로도 1인 경우의 개수\n",
    "- 2행2열 = 0이라고 예측했는데, 실제로도 0인 경우의 개수\n",
    "- 1행2열 = 1이라고 예측했으나, 실제값은 0인 경우\n",
    "- 2행1열 = 0이라고 예측했으나, 실제값은 1인 경우"
   ]
  },
  {
   "cell_type": "code",
   "execution_count": 57,
   "metadata": {},
   "outputs": [
    {
     "data": {
      "text/plain": [
       "array([[19,  1],\n",
       "       [ 1,  3]], dtype=int64)"
      ]
     },
     "execution_count": 57,
     "metadata": {},
     "output_type": "execute_result"
    }
   ],
   "source": [
    "# confusion_matrix(y_test, y_pred) \n",
    "confusion_matrix(y_test, y_pred)"
   ]
  },
  {
   "cell_type": "markdown",
   "metadata": {},
   "source": [
    "### accuracy_score()\n",
    "- 정확도 = 맞춘개수/모든개수"
   ]
  },
  {
   "cell_type": "code",
   "execution_count": 58,
   "metadata": {},
   "outputs": [
    {
     "data": {
      "text/plain": [
       "0.9166666666666666"
      ]
     },
     "execution_count": 58,
     "metadata": {},
     "output_type": "execute_result"
    }
   ],
   "source": [
    "# accuracy_score(y_test, y_pred) \n",
    "accuracy_score(y_test, y_pred)"
   ]
  },
  {
   "cell_type": "markdown",
   "metadata": {},
   "source": [
    "### dt.feature_importances_\n",
    "- feature의 중요도를 나타내주는 함수\n",
    "- 아래 예시로는 나이, 스터디, 카톡방 순"
   ]
  },
  {
   "cell_type": "code",
   "execution_count": 59,
   "metadata": {},
   "outputs": [
    {
     "data": {
      "text/plain": [
       "array([0.        , 0.26303067, 0.73696933])"
      ]
     },
     "execution_count": 59,
     "metadata": {},
     "output_type": "execute_result"
    }
   ],
   "source": [
    "# dt.feature_importances_\n",
    "dt.feature_importances_"
   ]
  },
  {
   "cell_type": "code",
   "execution_count": 1,
   "metadata": {},
   "outputs": [
    {
     "data": {
      "image/png": "[encoded data removed]",
      "text/plain": [
       "<IPython.core.display.Image object>"
      ]
     },
     "execution_count": 1,
     "metadata": {},
     "output_type": "execute_result"
    }
   ],
   "source": [
    "from IPython.display import Image\n",
    "Image(\"image.png\")"
   ]
  },
  {
   "cell_type": "code",
   "execution_count": 345,
   "metadata": {},
   "outputs": [
    {
     "name": "stdout",
     "output_type": "stream",
     "text": [
      "나이 : 0.000\n",
      "스터디 : 0.263\n",
      "카톡방 : 0.737\n"
     ]
    },
    {
     "data": {
      "text/plain": [
       "<matplotlib.axes._subplots.AxesSubplot at 0x192b468b048>"
      ]
     },
     "execution_count": 345,
     "metadata": {},
     "output_type": "execute_result"
    },
    {
     "data": {
      "image/png": "[encoded data removed]",
      "text/plain": [
       "<Figure size 432x288 with 1 Axes>"
      ]
     },
     "metadata": {
      "needs_background": "light"
     },
     "output_type": "display_data"
    }
   ],
   "source": [
    "# 이건 위에 예시를 돕기 위한 코드입니다\n",
    "for name, value in zip(x_features.columns, dt.feature_importances_):\n",
    "    print(\"{0} : {1:.3f}\".format(name, value))\n",
    "sns.barplot(x=dt.feature_importances_, y = x_features.columns)"
   ]
  },
  {
   "cell_type": "markdown",
   "metadata": {},
   "source": [
    "### boxplot(data = 보고싶은 데이터, x=x값, y=y값)\n",
    "- 평균으로부터 얼마나 퍼져있는지 나타내줌(이상치까지)"
   ]
  },
  {
   "cell_type": "code",
   "execution_count": 60,
   "metadata": {},
   "outputs": [
    {
     "data": {
      "text/plain": [
       "<matplotlib.axes._subplots.AxesSubplot at 0x1939db2eac8>"
      ]
     },
     "execution_count": 60,
     "metadata": {},
     "output_type": "execute_result"
    },
    {
     "data": {
      "image/png": "[encoded data removed]",
      "text/plain": [
       "<Figure size 432x288 with 1 Axes>"
      ]
     },
     "metadata": {
      "needs_background": "light"
     },
     "output_type": "display_data"
    }
   ],
   "source": [
    "# sns.boxplot(data = data, x = '연애', y='나이')\n",
    "sns.boxplot(data = data, x = '연애', y='나이')"
   ]
  },
  {
   "cell_type": "code",
   "execution_count": 61,
   "metadata": {},
   "outputs": [],
   "source": [
    "# 나이에 맞는 연애 유무의 개수를 알아보는 코드\n",
    "love_0_age = data[data['연애'] == 0]['나이'].values\n",
    "love_1_age = data[data['연애'] == 1]['나이'].values"
   ]
  },
  {
   "cell_type": "code",
   "execution_count": 62,
   "metadata": {},
   "outputs": [
    {
     "data": {
      "text/plain": [
       "(63, 17)"
      ]
     },
     "execution_count": 62,
     "metadata": {},
     "output_type": "execute_result"
    }
   ],
   "source": [
    "# 0과 1의 개수\n",
    "len(love_0_age), len(love_1_age)"
   ]
  },
  {
   "cell_type": "code",
   "execution_count": 63,
   "metadata": {},
   "outputs": [],
   "source": [
    "from scipy import stats\n",
    "\n",
    "# t검정 코드\n",
    "# 원래 정규분포 여부, 독립성 여부 등등 부합해야 하지만 생략\n",
    "two_sample = stats.ttest_ind(love_0_age, love_1_age)"
   ]
  },
  {
   "cell_type": "code",
   "execution_count": 64,
   "metadata": {},
   "outputs": [
    {
     "name": "stdout",
     "output_type": "stream",
     "text": [
      "Ttest_indResult(statistic=-0.8373810665050481, pvalue=0.4049368622284938)\n"
     ]
    }
   ],
   "source": [
    "print(two_sample)"
   ]
  },
  {
   "cell_type": "code",
   "execution_count": 65,
   "metadata": {},
   "outputs": [
    {
     "name": "stdout",
     "output_type": "stream",
     "text": [
      "t검정 통계량 = -0.837, pvalue = 0.405\n"
     ]
    }
   ],
   "source": [
    "# t검정 통계량과 pvalue값을 시각적으로 보여주는 코드\n",
    "print('t검정 통계량 = %.3f, pvalue = %.3f'%(two_sample))\n"
   ]
  },
  {
   "cell_type": "markdown",
   "metadata": {},
   "source": [
    "### p-value > 0.05 귀무가설 (연애 x와 연애 o의 나이 평균은 같다)를 채택"
   ]
  },
  {
   "cell_type": "code",
   "execution_count": 66,
   "metadata": {},
   "outputs": [
    {
     "name": "stdout",
     "output_type": "stream",
     "text": [
      "연애 x : 23.142857142857142\n",
      "연애 o : 23.470588235294116\n"
     ]
    }
   ],
   "source": [
    "print('연애 x :', np.mean(love_0_age))\n",
    "print('연애 o :', np.mean(love_1_age))"
   ]
  },
  {
   "cell_type": "markdown",
   "metadata": {},
   "source": [
    "- 연애에 나이는 중요하지 않다라는 인사이트를 얻음\n",
    "- -> 스터디 카톡방만 feature로 설정해서 다시 모델링"
   ]
  },
  {
   "cell_type": "code",
   "execution_count": 67,
   "metadata": {},
   "outputs": [],
   "source": [
    "# model_features = data[['스터디','카톡방']]\n",
    "# model_label = data['연애']\n",
    "model_features = data[['스터디','카톡방']]\n",
    "model_label = data['연애']"
   ]
  },
  {
   "cell_type": "code",
   "execution_count": 68,
   "metadata": {},
   "outputs": [
    {
     "data": {
      "text/plain": [
       "DecisionTreeClassifier(random_state=22)"
      ]
     },
     "execution_count": 68,
     "metadata": {},
     "output_type": "execute_result"
    }
   ],
   "source": [
    "dt_clf = DecisionTreeClassifier(random_state = 22) \n",
    "dt_clf.fit(model_features, model_label)\n"
   ]
  },
  {
   "cell_type": "code",
   "execution_count": 72,
   "metadata": {},
   "outputs": [
    {
     "data": {
      "text/plain": [
       "(20, 7)"
      ]
     },
     "execution_count": 72,
     "metadata": {},
     "output_type": "execute_result"
    }
   ],
   "source": [
    "data_22 = pd.read_csv(\"data/kusitms22_love.csv\")\n",
    "data_22.shape"
   ]
  },
  {
   "cell_type": "code",
   "execution_count": 73,
   "metadata": {},
   "outputs": [],
   "source": [
    "# test_features = data_22[['스터디', '카톡방']]\n",
    "test_features = data_22[['스터디', '카톡방']]"
   ]
  },
  {
   "cell_type": "code",
   "execution_count": 74,
   "metadata": {},
   "outputs": [],
   "source": [
    "# data_22['연애'] = dt_clf.predict(test_features) \n",
    "data_22['연애'] = dt_clf.predict(test_features) "
   ]
  },
  {
   "cell_type": "code",
   "execution_count": 75,
   "metadata": {},
   "outputs": [
    {
     "data": {
      "text/html": [
       "<div>\n",
       "<style scoped>\n",
       "    .dataframe tbody tr th:only-of-type {\n",
       "        vertical-align: middle;\n",
       "    }\n",
       "\n",
       "    .dataframe tbody tr th {\n",
       "        vertical-align: top;\n",
       "    }\n",
       "\n",
       "    .dataframe thead th {\n",
       "        text-align: right;\n",
       "    }\n",
       "</style>\n",
       "<table border=\"1\" class=\"dataframe\">\n",
       "  <thead>\n",
       "    <tr style=\"text-align: right;\">\n",
       "      <th></th>\n",
       "      <th>ID</th>\n",
       "      <th>학술제파트</th>\n",
       "      <th>직책</th>\n",
       "      <th>성별</th>\n",
       "      <th>나이</th>\n",
       "      <th>스터디</th>\n",
       "      <th>카톡방</th>\n",
       "      <th>연애</th>\n",
       "    </tr>\n",
       "  </thead>\n",
       "  <tbody>\n",
       "    <tr>\n",
       "      <td>0</td>\n",
       "      <td>1</td>\n",
       "      <td>디자인</td>\n",
       "      <td>회원</td>\n",
       "      <td>여</td>\n",
       "      <td>21</td>\n",
       "      <td>0</td>\n",
       "      <td>17</td>\n",
       "      <td>0</td>\n",
       "    </tr>\n",
       "    <tr>\n",
       "      <td>1</td>\n",
       "      <td>2</td>\n",
       "      <td>개발</td>\n",
       "      <td>운영진</td>\n",
       "      <td>남</td>\n",
       "      <td>22</td>\n",
       "      <td>1</td>\n",
       "      <td>232</td>\n",
       "      <td>0</td>\n",
       "    </tr>\n",
       "    <tr>\n",
       "      <td>2</td>\n",
       "      <td>3</td>\n",
       "      <td>기획</td>\n",
       "      <td>회원</td>\n",
       "      <td>남</td>\n",
       "      <td>24</td>\n",
       "      <td>3</td>\n",
       "      <td>2</td>\n",
       "      <td>0</td>\n",
       "    </tr>\n",
       "    <tr>\n",
       "      <td>3</td>\n",
       "      <td>4</td>\n",
       "      <td>개발</td>\n",
       "      <td>회원</td>\n",
       "      <td>여</td>\n",
       "      <td>23</td>\n",
       "      <td>4</td>\n",
       "      <td>15</td>\n",
       "      <td>1</td>\n",
       "    </tr>\n",
       "    <tr>\n",
       "      <td>4</td>\n",
       "      <td>5</td>\n",
       "      <td>기획</td>\n",
       "      <td>회원</td>\n",
       "      <td>여</td>\n",
       "      <td>21</td>\n",
       "      <td>1</td>\n",
       "      <td>17</td>\n",
       "      <td>0</td>\n",
       "    </tr>\n",
       "    <tr>\n",
       "      <td>5</td>\n",
       "      <td>6</td>\n",
       "      <td>개발</td>\n",
       "      <td>운영진</td>\n",
       "      <td>여</td>\n",
       "      <td>23</td>\n",
       "      <td>1</td>\n",
       "      <td>210</td>\n",
       "      <td>0</td>\n",
       "    </tr>\n",
       "    <tr>\n",
       "      <td>6</td>\n",
       "      <td>7</td>\n",
       "      <td>기획</td>\n",
       "      <td>회원</td>\n",
       "      <td>여</td>\n",
       "      <td>24</td>\n",
       "      <td>0</td>\n",
       "      <td>31</td>\n",
       "      <td>0</td>\n",
       "    </tr>\n",
       "    <tr>\n",
       "      <td>7</td>\n",
       "      <td>8</td>\n",
       "      <td>개발</td>\n",
       "      <td>회원</td>\n",
       "      <td>여</td>\n",
       "      <td>22</td>\n",
       "      <td>0</td>\n",
       "      <td>12</td>\n",
       "      <td>0</td>\n",
       "    </tr>\n",
       "    <tr>\n",
       "      <td>8</td>\n",
       "      <td>9</td>\n",
       "      <td>디자인</td>\n",
       "      <td>회원</td>\n",
       "      <td>여</td>\n",
       "      <td>22</td>\n",
       "      <td>2</td>\n",
       "      <td>15</td>\n",
       "      <td>0</td>\n",
       "    </tr>\n",
       "    <tr>\n",
       "      <td>9</td>\n",
       "      <td>10</td>\n",
       "      <td>기획</td>\n",
       "      <td>회원</td>\n",
       "      <td>남</td>\n",
       "      <td>23</td>\n",
       "      <td>5</td>\n",
       "      <td>2</td>\n",
       "      <td>1</td>\n",
       "    </tr>\n",
       "    <tr>\n",
       "      <td>10</td>\n",
       "      <td>11</td>\n",
       "      <td>개발</td>\n",
       "      <td>회원</td>\n",
       "      <td>남</td>\n",
       "      <td>20</td>\n",
       "      <td>4</td>\n",
       "      <td>0</td>\n",
       "      <td>1</td>\n",
       "    </tr>\n",
       "    <tr>\n",
       "      <td>11</td>\n",
       "      <td>12</td>\n",
       "      <td>기획</td>\n",
       "      <td>회원</td>\n",
       "      <td>여</td>\n",
       "      <td>21</td>\n",
       "      <td>4</td>\n",
       "      <td>12</td>\n",
       "      <td>1</td>\n",
       "    </tr>\n",
       "    <tr>\n",
       "      <td>12</td>\n",
       "      <td>13</td>\n",
       "      <td>기획</td>\n",
       "      <td>운영진</td>\n",
       "      <td>여</td>\n",
       "      <td>26</td>\n",
       "      <td>1</td>\n",
       "      <td>182</td>\n",
       "      <td>0</td>\n",
       "    </tr>\n",
       "    <tr>\n",
       "      <td>13</td>\n",
       "      <td>14</td>\n",
       "      <td>개발</td>\n",
       "      <td>회원</td>\n",
       "      <td>여</td>\n",
       "      <td>27</td>\n",
       "      <td>1</td>\n",
       "      <td>29</td>\n",
       "      <td>0</td>\n",
       "    </tr>\n",
       "    <tr>\n",
       "      <td>14</td>\n",
       "      <td>15</td>\n",
       "      <td>개발</td>\n",
       "      <td>회원</td>\n",
       "      <td>여</td>\n",
       "      <td>22</td>\n",
       "      <td>5</td>\n",
       "      <td>357</td>\n",
       "      <td>1</td>\n",
       "    </tr>\n",
       "    <tr>\n",
       "      <td>15</td>\n",
       "      <td>16</td>\n",
       "      <td>개발</td>\n",
       "      <td>회원</td>\n",
       "      <td>여</td>\n",
       "      <td>24</td>\n",
       "      <td>2</td>\n",
       "      <td>25</td>\n",
       "      <td>0</td>\n",
       "    </tr>\n",
       "    <tr>\n",
       "      <td>16</td>\n",
       "      <td>17</td>\n",
       "      <td>기획</td>\n",
       "      <td>운영진</td>\n",
       "      <td>여</td>\n",
       "      <td>26</td>\n",
       "      <td>2</td>\n",
       "      <td>28</td>\n",
       "      <td>0</td>\n",
       "    </tr>\n",
       "    <tr>\n",
       "      <td>17</td>\n",
       "      <td>18</td>\n",
       "      <td>기획</td>\n",
       "      <td>회원</td>\n",
       "      <td>남</td>\n",
       "      <td>25</td>\n",
       "      <td>1</td>\n",
       "      <td>15</td>\n",
       "      <td>0</td>\n",
       "    </tr>\n",
       "    <tr>\n",
       "      <td>18</td>\n",
       "      <td>19</td>\n",
       "      <td>개발</td>\n",
       "      <td>회원</td>\n",
       "      <td>여</td>\n",
       "      <td>24</td>\n",
       "      <td>0</td>\n",
       "      <td>12</td>\n",
       "      <td>0</td>\n",
       "    </tr>\n",
       "    <tr>\n",
       "      <td>19</td>\n",
       "      <td>20</td>\n",
       "      <td>디자인</td>\n",
       "      <td>운영진</td>\n",
       "      <td>여</td>\n",
       "      <td>23</td>\n",
       "      <td>4</td>\n",
       "      <td>189</td>\n",
       "      <td>1</td>\n",
       "    </tr>\n",
       "  </tbody>\n",
       "</table>\n",
       "</div>"
      ],
      "text/plain": [
       "    ID 학술제파트   직책 성별  나이  스터디  카톡방  연애\n",
       "0    1   디자인   회원  여  21    0   17   0\n",
       "1    2    개발  운영진  남  22    1  232   0\n",
       "2    3    기획   회원  남  24    3    2   0\n",
       "3    4    개발   회원  여  23    4   15   1\n",
       "4    5    기획   회원  여  21    1   17   0\n",
       "5    6    개발  운영진  여  23    1  210   0\n",
       "6    7    기획   회원  여  24    0   31   0\n",
       "7    8    개발   회원  여  22    0   12   0\n",
       "8    9   디자인   회원  여  22    2   15   0\n",
       "9   10    기획   회원  남  23    5    2   1\n",
       "10  11    개발   회원  남  20    4    0   1\n",
       "11  12    기획   회원  여  21    4   12   1\n",
       "12  13    기획  운영진  여  26    1  182   0\n",
       "13  14    개발   회원  여  27    1   29   0\n",
       "14  15    개발   회원  여  22    5  357   1\n",
       "15  16    개발   회원  여  24    2   25   0\n",
       "16  17    기획  운영진  여  26    2   28   0\n",
       "17  18    기획   회원  남  25    1   15   0\n",
       "18  19    개발   회원  여  24    0   12   0\n",
       "19  20   디자인  운영진  여  23    4  189   1"
      ]
     },
     "execution_count": 75,
     "metadata": {},
     "output_type": "execute_result"
    }
   ],
   "source": [
    "# data_22\n",
    "data_22"
   ]
  },
  {
   "cell_type": "code",
   "execution_count": null,
   "metadata": {},
   "outputs": [],
   "source": []
  }
 ],
 "metadata": {
  "kernelspec": {
   "display_name": "Python 3",
   "language": "python",
   "name": "python3"
  },
  "language_info": {
   "codemirror_mode": {
    "name": "ipython",
    "version": 3
   },
   "file_extension": ".py",
   "mimetype": "text/x-python",
   "name": "python",
   "nbconvert_exporter": "python",
   "pygments_lexer": "ipython3",
   "version": "3.6.9"
  }
 },
 "nbformat": 4,
 "nbformat_minor": 2
}
