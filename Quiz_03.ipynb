{
 "cells": [
  {
   "cell_type": "markdown",
   "metadata": {},
   "source": [
    "# 1."
   ]
  },
  {
   "cell_type": "markdown",
   "metadata": {},
   "source": [
    "#### 1-1) pandas, numpy 패키지(라이브러리) 설치하기"
   ]
  },
  {
   "cell_type": "code",
   "execution_count": 4,
   "metadata": {},
   "outputs": [],
   "source": [
    "# pandas, numpy 패키지(라이브러리)를 불러와주세요.\n"
   ]
  },
  {
   "cell_type": "markdown",
   "metadata": {},
   "source": [
    "#### 1-2) users.data, rating.data를 불러와주세요(data -> movielens 폴더 안에 있습니다)"
   ]
  },
  {
   "cell_type": "code",
   "execution_count": 36,
   "metadata": {},
   "outputs": [],
   "source": [
    "# users.data를 불러와주세요.\n"
   ]
  },
  {
   "cell_type": "code",
   "execution_count": 37,
   "metadata": {},
   "outputs": [],
   "source": [
    "# ratings.data를 불러와주세요\n"
   ]
  },
  {
   "cell_type": "markdown",
   "metadata": {},
   "source": [
    "#### 1-3) 위 두 데이터를 inner_join의 방법을 활용하여 합쳐주세요."
   ]
  },
  {
   "cell_type": "code",
   "execution_count": 38,
   "metadata": {},
   "outputs": [],
   "source": [
    "# 위 두 데이터를 inner_join의 방법을 활용하여 합쳐주세요\n"
   ]
  },
  {
   "cell_type": "markdown",
   "metadata": {},
   "source": [
    "# 2."
   ]
  },
  {
   "cell_type": "markdown",
   "metadata": {},
   "source": [
    "- 아래 두 셀을 순서대로 실행해주세요."
   ]
  },
  {
   "cell_type": "code",
   "execution_count": 17,
   "metadata": {},
   "outputs": [],
   "source": [
    "# 같은 결과를 보기 위해 random seed값 22로 고정\n",
    "np.random.seed(22)"
   ]
  },
  {
   "cell_type": "code",
   "execution_count": 21,
   "metadata": {},
   "outputs": [],
   "source": [
    "# Set index multi column index\n",
    "num = np.repeat(['21기', '22기'], (6, 16))\n",
    "dic={1:'문과', 2:'이과'}\n",
    "major = [dic[x] for x in np.random.randint(1, 3, 22)]\n",
    "name = ['김지민', '신재욱', '양지현', '이상민', '이은정', '이해영',\n",
    "        '김근유', '김남준', '김서민', '김세은', '김현우', '문이선', \n",
    "        '박재민', '반서현', '신연아', '신희연', '윤정현', '이다예',\n",
    "        '이인학', '이지영', '이하영', '전종우']\n",
    "column = [[\"1학기\",\"1학기\",\"1학기\",\"2학기\",\"2학기\",\"2학기\"],[\"언어\",\"수리\",\"외국어\"]*2]"
   ]
  },
  {
   "cell_type": "markdown",
   "metadata": {},
   "source": [
    "#### 2-1) num, major, name을 index로 column을 columns로, value값은 1부터 100사이의 random값으로 지정하여 예시와 같은 data를 만들어주세요."
   ]
  },
  {
   "cell_type": "markdown",
   "metadata": {},
   "source": [
    "- random값 지정은 계층 색인 부분의 randint 참고"
   ]
  },
  {
   "cell_type": "code",
   "execution_count": 23,
   "metadata": {},
   "outputs": [
    {
     "data": {
      "text/html": [
       "<div>\n",
       "<style scoped>\n",
       "    .dataframe tbody tr th:only-of-type {\n",
       "        vertical-align: middle;\n",
       "    }\n",
       "\n",
       "    .dataframe tbody tr th {\n",
       "        vertical-align: top;\n",
       "    }\n",
       "\n",
       "    .dataframe thead tr th {\n",
       "        text-align: left;\n",
       "    }\n",
       "</style>\n",
       "<table border=\"1\" class=\"dataframe\">\n",
       "  <thead>\n",
       "    <tr>\n",
       "      <th></th>\n",
       "      <th></th>\n",
       "      <th></th>\n",
       "      <th colspan=\"3\" halign=\"left\">1학기</th>\n",
       "      <th colspan=\"3\" halign=\"left\">2학기</th>\n",
       "    </tr>\n",
       "    <tr>\n",
       "      <th></th>\n",
       "      <th></th>\n",
       "      <th></th>\n",
       "      <th>언어</th>\n",
       "      <th>수리</th>\n",
       "      <th>외국어</th>\n",
       "      <th>언어</th>\n",
       "      <th>수리</th>\n",
       "      <th>외국어</th>\n",
       "    </tr>\n",
       "  </thead>\n",
       "  <tbody>\n",
       "    <tr>\n",
       "      <td rowspan=\"6\" valign=\"top\">21기</td>\n",
       "      <td>문과</td>\n",
       "      <td>김지민</td>\n",
       "      <td>44</td>\n",
       "      <td>26</td>\n",
       "      <td>1</td>\n",
       "      <td>36</td>\n",
       "      <td>43</td>\n",
       "      <td>81</td>\n",
       "    </tr>\n",
       "    <tr>\n",
       "      <td rowspan=\"5\" valign=\"top\">이과</td>\n",
       "      <td>신재욱</td>\n",
       "      <td>32</td>\n",
       "      <td>67</td>\n",
       "      <td>75</td>\n",
       "      <td>7</td>\n",
       "      <td>26</td>\n",
       "      <td>87</td>\n",
       "    </tr>\n",
       "    <tr>\n",
       "      <td>양지현</td>\n",
       "      <td>14</td>\n",
       "      <td>25</td>\n",
       "      <td>39</td>\n",
       "      <td>92</td>\n",
       "      <td>38</td>\n",
       "      <td>84</td>\n",
       "    </tr>\n",
       "    <tr>\n",
       "      <td>이상민</td>\n",
       "      <td>83</td>\n",
       "      <td>88</td>\n",
       "      <td>17</td>\n",
       "      <td>39</td>\n",
       "      <td>9</td>\n",
       "      <td>39</td>\n",
       "    </tr>\n",
       "    <tr>\n",
       "      <td>이은정</td>\n",
       "      <td>80</td>\n",
       "      <td>87</td>\n",
       "      <td>77</td>\n",
       "      <td>93</td>\n",
       "      <td>96</td>\n",
       "      <td>71</td>\n",
       "    </tr>\n",
       "    <tr>\n",
       "      <td>이해영</td>\n",
       "      <td>38</td>\n",
       "      <td>22</td>\n",
       "      <td>94</td>\n",
       "      <td>14</td>\n",
       "      <td>60</td>\n",
       "      <td>45</td>\n",
       "    </tr>\n",
       "    <tr>\n",
       "      <td rowspan=\"16\" valign=\"top\">22기</td>\n",
       "      <td rowspan=\"2\" valign=\"top\">이과</td>\n",
       "      <td>김근유</td>\n",
       "      <td>52</td>\n",
       "      <td>55</td>\n",
       "      <td>99</td>\n",
       "      <td>88</td>\n",
       "      <td>43</td>\n",
       "      <td>48</td>\n",
       "    </tr>\n",
       "    <tr>\n",
       "      <td>김남준</td>\n",
       "      <td>94</td>\n",
       "      <td>12</td>\n",
       "      <td>4</td>\n",
       "      <td>99</td>\n",
       "      <td>46</td>\n",
       "      <td>61</td>\n",
       "    </tr>\n",
       "    <tr>\n",
       "      <td rowspan=\"2\" valign=\"top\">문과</td>\n",
       "      <td>김서민</td>\n",
       "      <td>60</td>\n",
       "      <td>19</td>\n",
       "      <td>10</td>\n",
       "      <td>41</td>\n",
       "      <td>49</td>\n",
       "      <td>75</td>\n",
       "    </tr>\n",
       "    <tr>\n",
       "      <td>김세은</td>\n",
       "      <td>22</td>\n",
       "      <td>73</td>\n",
       "      <td>56</td>\n",
       "      <td>40</td>\n",
       "      <td>24</td>\n",
       "      <td>83</td>\n",
       "    </tr>\n",
       "    <tr>\n",
       "      <td>이과</td>\n",
       "      <td>김현우</td>\n",
       "      <td>82</td>\n",
       "      <td>92</td>\n",
       "      <td>63</td>\n",
       "      <td>87</td>\n",
       "      <td>31</td>\n",
       "      <td>74</td>\n",
       "    </tr>\n",
       "    <tr>\n",
       "      <td rowspan=\"4\" valign=\"top\">문과</td>\n",
       "      <td>문이선</td>\n",
       "      <td>10</td>\n",
       "      <td>1</td>\n",
       "      <td>17</td>\n",
       "      <td>85</td>\n",
       "      <td>67</td>\n",
       "      <td>85</td>\n",
       "    </tr>\n",
       "    <tr>\n",
       "      <td>박재민</td>\n",
       "      <td>76</td>\n",
       "      <td>25</td>\n",
       "      <td>63</td>\n",
       "      <td>50</td>\n",
       "      <td>26</td>\n",
       "      <td>82</td>\n",
       "    </tr>\n",
       "    <tr>\n",
       "      <td>반서현</td>\n",
       "      <td>34</td>\n",
       "      <td>86</td>\n",
       "      <td>86</td>\n",
       "      <td>78</td>\n",
       "      <td>96</td>\n",
       "      <td>45</td>\n",
       "    </tr>\n",
       "    <tr>\n",
       "      <td>신연아</td>\n",
       "      <td>74</td>\n",
       "      <td>60</td>\n",
       "      <td>63</td>\n",
       "      <td>93</td>\n",
       "      <td>10</td>\n",
       "      <td>70</td>\n",
       "    </tr>\n",
       "    <tr>\n",
       "      <td>이과</td>\n",
       "      <td>신희연</td>\n",
       "      <td>18</td>\n",
       "      <td>50</td>\n",
       "      <td>3</td>\n",
       "      <td>68</td>\n",
       "      <td>92</td>\n",
       "      <td>79</td>\n",
       "    </tr>\n",
       "    <tr>\n",
       "      <td rowspan=\"3\" valign=\"top\">문과</td>\n",
       "      <td>윤정현</td>\n",
       "      <td>14</td>\n",
       "      <td>82</td>\n",
       "      <td>49</td>\n",
       "      <td>9</td>\n",
       "      <td>98</td>\n",
       "      <td>71</td>\n",
       "    </tr>\n",
       "    <tr>\n",
       "      <td>이다예</td>\n",
       "      <td>50</td>\n",
       "      <td>23</td>\n",
       "      <td>38</td>\n",
       "      <td>22</td>\n",
       "      <td>52</td>\n",
       "      <td>46</td>\n",
       "    </tr>\n",
       "    <tr>\n",
       "      <td>이인학</td>\n",
       "      <td>32</td>\n",
       "      <td>62</td>\n",
       "      <td>90</td>\n",
       "      <td>7</td>\n",
       "      <td>88</td>\n",
       "      <td>21</td>\n",
       "    </tr>\n",
       "    <tr>\n",
       "      <td rowspan=\"3\" valign=\"top\">이과</td>\n",
       "      <td>이지영</td>\n",
       "      <td>9</td>\n",
       "      <td>63</td>\n",
       "      <td>84</td>\n",
       "      <td>86</td>\n",
       "      <td>60</td>\n",
       "      <td>59</td>\n",
       "    </tr>\n",
       "    <tr>\n",
       "      <td>이하영</td>\n",
       "      <td>20</td>\n",
       "      <td>52</td>\n",
       "      <td>40</td>\n",
       "      <td>15</td>\n",
       "      <td>21</td>\n",
       "      <td>84</td>\n",
       "    </tr>\n",
       "    <tr>\n",
       "      <td>전종우</td>\n",
       "      <td>33</td>\n",
       "      <td>62</td>\n",
       "      <td>7</td>\n",
       "      <td>28</td>\n",
       "      <td>76</td>\n",
       "      <td>61</td>\n",
       "    </tr>\n",
       "  </tbody>\n",
       "</table>\n",
       "</div>"
      ],
      "text/plain": [
       "           1학기         2학기        \n",
       "            언어  수리 외국어  언어  수리 외국어\n",
       "21기 문과 김지민  44  26   1  36  43  81\n",
       "    이과 신재욱  32  67  75   7  26  87\n",
       "       양지현  14  25  39  92  38  84\n",
       "       이상민  83  88  17  39   9  39\n",
       "       이은정  80  87  77  93  96  71\n",
       "       이해영  38  22  94  14  60  45\n",
       "22기 이과 김근유  52  55  99  88  43  48\n",
       "       김남준  94  12   4  99  46  61\n",
       "    문과 김서민  60  19  10  41  49  75\n",
       "       김세은  22  73  56  40  24  83\n",
       "    이과 김현우  82  92  63  87  31  74\n",
       "    문과 문이선  10   1  17  85  67  85\n",
       "       박재민  76  25  63  50  26  82\n",
       "       반서현  34  86  86  78  96  45\n",
       "       신연아  74  60  63  93  10  70\n",
       "    이과 신희연  18  50   3  68  92  79\n",
       "    문과 윤정현  14  82  49   9  98  71\n",
       "       이다예  50  23  38  22  52  46\n",
       "       이인학  32  62  90   7  88  21\n",
       "    이과 이지영   9  63  84  86  60  59\n",
       "       이하영  20  52  40  15  21  84\n",
       "       전종우  33  62   7  28  76  61"
      ]
     },
     "execution_count": 23,
     "metadata": {},
     "output_type": "execute_result"
    }
   ],
   "source": [
    "# 출력 결과의 예시입니다. 코드는 아래에서 작성해주세요"
   ]
  },
  {
   "cell_type": "code",
   "execution_count": 39,
   "metadata": {},
   "outputs": [],
   "source": [
    "# 이 셀에서 코드를 작성해주세요\n"
   ]
  },
  {
   "cell_type": "markdown",
   "metadata": {},
   "source": [
    "#### 2-2) 본인의 1학기, 2학기 전체 성적을 출력해주세요"
   ]
  },
  {
   "cell_type": "code",
   "execution_count": 24,
   "metadata": {},
   "outputs": [
    {
     "data": {
      "text/html": [
       "<div>\n",
       "<style scoped>\n",
       "    .dataframe tbody tr th:only-of-type {\n",
       "        vertical-align: middle;\n",
       "    }\n",
       "\n",
       "    .dataframe tbody tr th {\n",
       "        vertical-align: top;\n",
       "    }\n",
       "\n",
       "    .dataframe thead tr th {\n",
       "        text-align: left;\n",
       "    }\n",
       "</style>\n",
       "<table border=\"1\" class=\"dataframe\">\n",
       "  <thead>\n",
       "    <tr>\n",
       "      <th></th>\n",
       "      <th></th>\n",
       "      <th colspan=\"3\" halign=\"left\">1학기</th>\n",
       "      <th colspan=\"3\" halign=\"left\">2학기</th>\n",
       "    </tr>\n",
       "    <tr>\n",
       "      <th></th>\n",
       "      <th></th>\n",
       "      <th>언어</th>\n",
       "      <th>수리</th>\n",
       "      <th>외국어</th>\n",
       "      <th>언어</th>\n",
       "      <th>수리</th>\n",
       "      <th>외국어</th>\n",
       "    </tr>\n",
       "  </thead>\n",
       "  <tbody>\n",
       "    <tr>\n",
       "      <td>21기</td>\n",
       "      <td>이과</td>\n",
       "      <td>83</td>\n",
       "      <td>88</td>\n",
       "      <td>17</td>\n",
       "      <td>39</td>\n",
       "      <td>9</td>\n",
       "      <td>39</td>\n",
       "    </tr>\n",
       "  </tbody>\n",
       "</table>\n",
       "</div>"
      ],
      "text/plain": [
       "       1학기         2학기       \n",
       "        언어  수리 외국어  언어 수리 외국어\n",
       "21기 이과  83  88  17  39  9  39"
      ]
     },
     "execution_count": 24,
     "metadata": {},
     "output_type": "execute_result"
    }
   ],
   "source": [
    "# 출력 결과의 예시입니다. 코드는 아래에서 작성해주세요."
   ]
  },
  {
   "cell_type": "code",
   "execution_count": 40,
   "metadata": {},
   "outputs": [],
   "source": [
    "# 이 셀에서 코드를 작성해주세요.\n"
   ]
  },
  {
   "cell_type": "markdown",
   "metadata": {},
   "source": [
    "#### 2-3) 21기 1학기 성적을 출력주세요"
   ]
  },
  {
   "cell_type": "code",
   "execution_count": 26,
   "metadata": {},
   "outputs": [
    {
     "name": "stderr",
     "output_type": "stream",
     "text": [
      "C:\\Users\\tkdal\\Anaconda3\\lib\\site-packages\\ipykernel_launcher.py:1: PerformanceWarning: indexing past lexsort depth may impact performance.\n",
      "  \"\"\"Entry point for launching an IPython kernel.\n"
     ]
    },
    {
     "data": {
      "text/html": [
       "<div>\n",
       "<style scoped>\n",
       "    .dataframe tbody tr th:only-of-type {\n",
       "        vertical-align: middle;\n",
       "    }\n",
       "\n",
       "    .dataframe tbody tr th {\n",
       "        vertical-align: top;\n",
       "    }\n",
       "\n",
       "    .dataframe thead th {\n",
       "        text-align: right;\n",
       "    }\n",
       "</style>\n",
       "<table border=\"1\" class=\"dataframe\">\n",
       "  <thead>\n",
       "    <tr style=\"text-align: right;\">\n",
       "      <th></th>\n",
       "      <th></th>\n",
       "      <th>언어</th>\n",
       "      <th>수리</th>\n",
       "      <th>외국어</th>\n",
       "    </tr>\n",
       "  </thead>\n",
       "  <tbody>\n",
       "    <tr>\n",
       "      <td>문과</td>\n",
       "      <td>김지민</td>\n",
       "      <td>44</td>\n",
       "      <td>26</td>\n",
       "      <td>1</td>\n",
       "    </tr>\n",
       "    <tr>\n",
       "      <td rowspan=\"5\" valign=\"top\">이과</td>\n",
       "      <td>신재욱</td>\n",
       "      <td>32</td>\n",
       "      <td>67</td>\n",
       "      <td>75</td>\n",
       "    </tr>\n",
       "    <tr>\n",
       "      <td>양지현</td>\n",
       "      <td>14</td>\n",
       "      <td>25</td>\n",
       "      <td>39</td>\n",
       "    </tr>\n",
       "    <tr>\n",
       "      <td>이상민</td>\n",
       "      <td>83</td>\n",
       "      <td>88</td>\n",
       "      <td>17</td>\n",
       "    </tr>\n",
       "    <tr>\n",
       "      <td>이은정</td>\n",
       "      <td>80</td>\n",
       "      <td>87</td>\n",
       "      <td>77</td>\n",
       "    </tr>\n",
       "    <tr>\n",
       "      <td>이해영</td>\n",
       "      <td>38</td>\n",
       "      <td>22</td>\n",
       "      <td>94</td>\n",
       "    </tr>\n",
       "  </tbody>\n",
       "</table>\n",
       "</div>"
      ],
      "text/plain": [
       "        언어  수리  외국어\n",
       "문과 김지민  44  26    1\n",
       "이과 신재욱  32  67   75\n",
       "   양지현  14  25   39\n",
       "   이상민  83  88   17\n",
       "   이은정  80  87   77\n",
       "   이해영  38  22   94"
      ]
     },
     "execution_count": 26,
     "metadata": {},
     "output_type": "execute_result"
    }
   ],
   "source": [
    "# 출력결과의 예시입니다. 코드는 아래에서 작성해주세요."
   ]
  },
  {
   "cell_type": "code",
   "execution_count": null,
   "metadata": {},
   "outputs": [],
   "source": [
    "# 이 셀에서 코드를 작성해주세요.\n"
   ]
  },
  {
   "cell_type": "markdown",
   "metadata": {},
   "source": [
    "#### 2-4) 이과의 1학기, 2학기 성적을 출력해주세요"
   ]
  },
  {
   "cell_type": "code",
   "execution_count": 28,
   "metadata": {},
   "outputs": [
    {
     "data": {
      "text/html": [
       "<div>\n",
       "<style scoped>\n",
       "    .dataframe tbody tr th:only-of-type {\n",
       "        vertical-align: middle;\n",
       "    }\n",
       "\n",
       "    .dataframe tbody tr th {\n",
       "        vertical-align: top;\n",
       "    }\n",
       "\n",
       "    .dataframe thead tr th {\n",
       "        text-align: left;\n",
       "    }\n",
       "</style>\n",
       "<table border=\"1\" class=\"dataframe\">\n",
       "  <thead>\n",
       "    <tr>\n",
       "      <th></th>\n",
       "      <th></th>\n",
       "      <th colspan=\"3\" halign=\"left\">1학기</th>\n",
       "      <th colspan=\"3\" halign=\"left\">2학기</th>\n",
       "    </tr>\n",
       "    <tr>\n",
       "      <th></th>\n",
       "      <th></th>\n",
       "      <th>언어</th>\n",
       "      <th>수리</th>\n",
       "      <th>외국어</th>\n",
       "      <th>언어</th>\n",
       "      <th>수리</th>\n",
       "      <th>외국어</th>\n",
       "    </tr>\n",
       "  </thead>\n",
       "  <tbody>\n",
       "    <tr>\n",
       "      <td rowspan=\"5\" valign=\"top\">21기</td>\n",
       "      <td>신재욱</td>\n",
       "      <td>32</td>\n",
       "      <td>67</td>\n",
       "      <td>75</td>\n",
       "      <td>7</td>\n",
       "      <td>26</td>\n",
       "      <td>87</td>\n",
       "    </tr>\n",
       "    <tr>\n",
       "      <td>양지현</td>\n",
       "      <td>14</td>\n",
       "      <td>25</td>\n",
       "      <td>39</td>\n",
       "      <td>92</td>\n",
       "      <td>38</td>\n",
       "      <td>84</td>\n",
       "    </tr>\n",
       "    <tr>\n",
       "      <td>이상민</td>\n",
       "      <td>83</td>\n",
       "      <td>88</td>\n",
       "      <td>17</td>\n",
       "      <td>39</td>\n",
       "      <td>9</td>\n",
       "      <td>39</td>\n",
       "    </tr>\n",
       "    <tr>\n",
       "      <td>이은정</td>\n",
       "      <td>80</td>\n",
       "      <td>87</td>\n",
       "      <td>77</td>\n",
       "      <td>93</td>\n",
       "      <td>96</td>\n",
       "      <td>71</td>\n",
       "    </tr>\n",
       "    <tr>\n",
       "      <td>이해영</td>\n",
       "      <td>38</td>\n",
       "      <td>22</td>\n",
       "      <td>94</td>\n",
       "      <td>14</td>\n",
       "      <td>60</td>\n",
       "      <td>45</td>\n",
       "    </tr>\n",
       "    <tr>\n",
       "      <td rowspan=\"7\" valign=\"top\">22기</td>\n",
       "      <td>김근유</td>\n",
       "      <td>52</td>\n",
       "      <td>55</td>\n",
       "      <td>99</td>\n",
       "      <td>88</td>\n",
       "      <td>43</td>\n",
       "      <td>48</td>\n",
       "    </tr>\n",
       "    <tr>\n",
       "      <td>김남준</td>\n",
       "      <td>94</td>\n",
       "      <td>12</td>\n",
       "      <td>4</td>\n",
       "      <td>99</td>\n",
       "      <td>46</td>\n",
       "      <td>61</td>\n",
       "    </tr>\n",
       "    <tr>\n",
       "      <td>김현우</td>\n",
       "      <td>82</td>\n",
       "      <td>92</td>\n",
       "      <td>63</td>\n",
       "      <td>87</td>\n",
       "      <td>31</td>\n",
       "      <td>74</td>\n",
       "    </tr>\n",
       "    <tr>\n",
       "      <td>신희연</td>\n",
       "      <td>18</td>\n",
       "      <td>50</td>\n",
       "      <td>3</td>\n",
       "      <td>68</td>\n",
       "      <td>92</td>\n",
       "      <td>79</td>\n",
       "    </tr>\n",
       "    <tr>\n",
       "      <td>이지영</td>\n",
       "      <td>9</td>\n",
       "      <td>63</td>\n",
       "      <td>84</td>\n",
       "      <td>86</td>\n",
       "      <td>60</td>\n",
       "      <td>59</td>\n",
       "    </tr>\n",
       "    <tr>\n",
       "      <td>이하영</td>\n",
       "      <td>20</td>\n",
       "      <td>52</td>\n",
       "      <td>40</td>\n",
       "      <td>15</td>\n",
       "      <td>21</td>\n",
       "      <td>84</td>\n",
       "    </tr>\n",
       "    <tr>\n",
       "      <td>전종우</td>\n",
       "      <td>33</td>\n",
       "      <td>62</td>\n",
       "      <td>7</td>\n",
       "      <td>28</td>\n",
       "      <td>76</td>\n",
       "      <td>61</td>\n",
       "    </tr>\n",
       "  </tbody>\n",
       "</table>\n",
       "</div>"
      ],
      "text/plain": [
       "        1학기         2학기        \n",
       "         언어  수리 외국어  언어  수리 외국어\n",
       "21기 신재욱  32  67  75   7  26  87\n",
       "    양지현  14  25  39  92  38  84\n",
       "    이상민  83  88  17  39   9  39\n",
       "    이은정  80  87  77  93  96  71\n",
       "    이해영  38  22  94  14  60  45\n",
       "22기 김근유  52  55  99  88  43  48\n",
       "    김남준  94  12   4  99  46  61\n",
       "    김현우  82  92  63  87  31  74\n",
       "    신희연  18  50   3  68  92  79\n",
       "    이지영   9  63  84  86  60  59\n",
       "    이하영  20  52  40  15  21  84\n",
       "    전종우  33  62   7  28  76  61"
      ]
     },
     "execution_count": 28,
     "metadata": {},
     "output_type": "execute_result"
    }
   ],
   "source": [
    "# 출력결과의 예시입니다. 코드는 아래에서 작성해주세요."
   ]
  },
  {
   "cell_type": "code",
   "execution_count": 41,
   "metadata": {},
   "outputs": [],
   "source": [
    "# 이 셀에서 코드를 작성해주세요.\n"
   ]
  },
  {
   "cell_type": "markdown",
   "metadata": {},
   "source": [
    "# 3."
   ]
  },
  {
   "cell_type": "markdown",
   "metadata": {},
   "source": [
    "#### 3-1) PatientInfo csv 파일 불러오기(data 폴더 안에 있습니다)"
   ]
  },
  {
   "cell_type": "code",
   "execution_count": null,
   "metadata": {},
   "outputs": [],
   "source": []
  },
  {
   "cell_type": "markdown",
   "metadata": {},
   "source": [
    "#### 3-2) patient_info에서 birth_year를 이용하여 age column에 정확한 나이(숫자)로 바꿔주세요"
   ]
  },
  {
   "cell_type": "code",
   "execution_count": 32,
   "metadata": {},
   "outputs": [],
   "source": []
  },
  {
   "cell_type": "markdown",
   "metadata": {},
   "source": [
    "#### 3-3) 서울과 제주도의 확진환자 평균을 구해주세요"
   ]
  },
  {
   "cell_type": "code",
   "execution_count": 35,
   "metadata": {},
   "outputs": [
    {
     "data": {
      "text/html": [
       "<div>\n",
       "<style scoped>\n",
       "    .dataframe tbody tr th:only-of-type {\n",
       "        vertical-align: middle;\n",
       "    }\n",
       "\n",
       "    .dataframe tbody tr th {\n",
       "        vertical-align: top;\n",
       "    }\n",
       "\n",
       "    .dataframe thead th {\n",
       "        text-align: right;\n",
       "    }\n",
       "</style>\n",
       "<table border=\"1\" class=\"dataframe\">\n",
       "  <thead>\n",
       "    <tr style=\"text-align: right;\">\n",
       "      <th></th>\n",
       "      <th></th>\n",
       "      <th>age</th>\n",
       "    </tr>\n",
       "    <tr>\n",
       "      <th>province</th>\n",
       "      <th>sex</th>\n",
       "      <th></th>\n",
       "    </tr>\n",
       "  </thead>\n",
       "  <tbody>\n",
       "    <tr>\n",
       "      <td rowspan=\"2\" valign=\"top\">Jeju-do</td>\n",
       "      <td>female</td>\n",
       "      <td>36.000000</td>\n",
       "    </tr>\n",
       "    <tr>\n",
       "      <td>male</td>\n",
       "      <td>35.000000</td>\n",
       "    </tr>\n",
       "    <tr>\n",
       "      <td rowspan=\"2\" valign=\"top\">Seoul</td>\n",
       "      <td>female</td>\n",
       "      <td>45.400000</td>\n",
       "    </tr>\n",
       "    <tr>\n",
       "      <td>male</td>\n",
       "      <td>43.090278</td>\n",
       "    </tr>\n",
       "  </tbody>\n",
       "</table>\n",
       "</div>"
      ],
      "text/plain": [
       "                       age\n",
       "province sex              \n",
       "Jeju-do  female  36.000000\n",
       "         male    35.000000\n",
       "Seoul    female  45.400000\n",
       "         male    43.090278"
      ]
     },
     "execution_count": 35,
     "metadata": {},
     "output_type": "execute_result"
    }
   ],
   "source": [
    "# 출력 결과의 예시입니다. 코드는 아래에서 작성해주세요."
   ]
  },
  {
   "cell_type": "code",
   "execution_count": null,
   "metadata": {},
   "outputs": [],
   "source": [
    "# 이 셀에서 코드를 작성해주세요.\n"
   ]
  }
 ],
 "metadata": {
  "kernelspec": {
   "display_name": "Python 3",
   "language": "python",
   "name": "python3"
  },
  "language_info": {
   "codemirror_mode": {
    "name": "ipython",
    "version": 3
   },
   "file_extension": ".py",
   "mimetype": "text/x-python",
   "name": "python",
   "nbconvert_exporter": "python",
   "pygments_lexer": "ipython3",
   "version": "3.6.9"
  }
 },
 "nbformat": 4,
 "nbformat_minor": 2
}
