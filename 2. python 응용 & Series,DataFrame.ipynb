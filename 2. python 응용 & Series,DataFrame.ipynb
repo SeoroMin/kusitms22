{
 "cells": [
  {
   "cell_type": "markdown",
   "metadata": {},
   "source": [
    "# 2주차 스터디"
   ]
  },
  {
   "cell_type": "markdown",
   "metadata": {},
   "source": [
    "2주차 수업에서는 python의 응용 핵심문법들을 공부하면서 필수 스킬(?)들을 익혀보겠습니다. 그리고 데이터 분석에서 쓰이는 자료형태인 Series와 DataFrame에 대해 알아보겠습니다.<br>\n",
    "\n",
    "2주차부터는 살짝 어려워집니다:)\n",
    "\n",
    "#### 2주차 스터디의 목차\n",
    "- 중첩 for문\n",
    "- list comprehension\n",
    "- dictionary 응용\n",
    "- series\n",
    "- dataframe"
   ]
  },
  {
   "cell_type": "markdown",
   "metadata": {},
   "source": [
    "# 중첩 for문\n",
    "\n",
    "for문(반복문)이 하나 일 때는 for i in range(): 의 형태로 나타낼 수 있었습니다. 하지만 반복하는 변수가 여러 개 일 때는 중첩(다중) for문을 쓰게 됩니다. 중첩 for문은 아래와 같은 형태로 나타낼 수 있습니다.\n",
    "\n",
    "\n",
    "\n",
    "```python\n",
    "for i in range(5):\n",
    "    for j in range(4):\n",
    "        print(i, j)\n",
    "```\n",
    "\n",
    "\n",
    "```python\n",
    "for i in range(5):\n",
    "    print(i+1,\"번째 반복문\",\"i:\",i)\n",
    "    for j in range(4):\n",
    "        print(\"j:\",j)\n",
    "```"
   ]
  },
  {
   "cell_type": "code",
   "execution_count": 485,
   "metadata": {},
   "outputs": [],
   "source": [
    "# 중첩 for문 익혀보기\n"
   ]
  },
  {
   "cell_type": "code",
   "execution_count": null,
   "metadata": {},
   "outputs": [],
   "source": []
  },
  {
   "cell_type": "markdown",
   "metadata": {},
   "source": [
    "```python\n",
    "for i in range(5):\n",
    "    for j in range(4):\n",
    "        print(i + j, end = \" \")\n",
    "    print()\n",
    "```"
   ]
  },
  {
   "cell_type": "code",
   "execution_count": 486,
   "metadata": {},
   "outputs": [],
   "source": [
    "# 2차원 배열 만들기\n"
   ]
  },
  {
   "cell_type": "markdown",
   "metadata": {},
   "source": [
    "# list comprehension(내포)"
   ]
  },
  {
   "cell_type": "markdown",
   "metadata": {},
   "source": [
    "소프트웨어는 적은 자원으로 높은 효율을 낼 경우 최적화가 잘 되었다고 합니다. 최적화의 척도는 보통, 메모리를 적게 사용하거나 실행시간이 적은 경우를 말합니다. 나중에 데이터 분석을 할 때도 수 많은 데이터들을 처리하고 연산하게 되는데, 메모리 공간의 사용과 실행속도는 매우 중요하겠죠? 또한 어느 코드를 짜든 직관적인 코드와 빠른 실행속도는 도움이 됩니다.\n",
    "\n",
    "앞서 말한 해결방안으로 python의 list comprehension은 for문과 if문을 한 라인에 작성하여 코드를 직관적으로 만들고, 실행속도를 향상시키는 기법입니다."
   ]
  },
  {
   "cell_type": "markdown",
   "metadata": {},
   "source": [
    "#### list comprehension 적용 X 코드"
   ]
  },
  {
   "cell_type": "markdown",
   "metadata": {},
   "source": [
    "```python\n",
    "num = [1, 2, 3, 4, 5]\n",
    "double_num = []\n",
    "for i in num:\n",
    "    double_num.append(2*i)\n",
    "double_num\n",
    "```"
   ]
  },
  {
   "cell_type": "code",
   "execution_count": null,
   "metadata": {},
   "outputs": [],
   "source": []
  },
  {
   "cell_type": "markdown",
   "metadata": {},
   "source": [
    "```python\n",
    "num = [1, 2, 3, 4, 5]\n",
    "square_num = []\n",
    "for i in num:\n",
    "    square_num.append(i*i)\n",
    "square_num\n",
    "```"
   ]
  },
  {
   "cell_type": "code",
   "execution_count": null,
   "metadata": {},
   "outputs": [],
   "source": []
  },
  {
   "cell_type": "markdown",
   "metadata": {},
   "source": [
    "#### list comprehension 적용 O 코드"
   ]
  },
  {
   "cell_type": "markdown",
   "metadata": {},
   "source": [
    "- 형태 : 리스트 명 = [표현식 for 변수 in 반복 대상]"
   ]
  },
  {
   "cell_type": "markdown",
   "metadata": {},
   "source": [
    "```python\n",
    "num = [1, 2, 3, 4, 5]\n",
    "double_num = [2*i for i in num]\n",
    "double_num\n",
    "```"
   ]
  },
  {
   "cell_type": "code",
   "execution_count": null,
   "metadata": {},
   "outputs": [],
   "source": []
  },
  {
   "cell_type": "markdown",
   "metadata": {},
   "source": [
    "```\n",
    "square_num = [i*i for i in num]\n",
    "square_num\n",
    "```"
   ]
  },
  {
   "cell_type": "code",
   "execution_count": null,
   "metadata": {},
   "outputs": [],
   "source": []
  },
  {
   "cell_type": "markdown",
   "metadata": {},
   "source": [
    "### list comprehension에 조건(if) 추가하기"
   ]
  },
  {
   "cell_type": "markdown",
   "metadata": {},
   "source": [
    "#### list comprehension 적용 X 코드"
   ]
  },
  {
   "cell_type": "markdown",
   "metadata": {},
   "source": [
    "```python\n",
    "num = [1, 2, 3, 4, 5]\n",
    "double_odd_num = []\n",
    "for i in num:\n",
    "    if (i % 2 == 1):\n",
    "        double_odd_num.append(2*i)\n",
    "double_odd_num\n",
    "```"
   ]
  },
  {
   "cell_type": "code",
   "execution_count": null,
   "metadata": {},
   "outputs": [],
   "source": []
  },
  {
   "cell_type": "markdown",
   "metadata": {},
   "source": [
    "#### list comprehension 적용 O 코드"
   ]
  },
  {
   "cell_type": "markdown",
   "metadata": {},
   "source": [
    "- 형태 : 리스트 명 = [표현식 for 변수 in 반복 대상 if 조건문]"
   ]
  },
  {
   "cell_type": "markdown",
   "metadata": {},
   "source": [
    "```python\n",
    "num = [1, 2, 3, 4, 5]\n",
    "double_odd_num = [2*i for i in num if (i% 2 == 1)]\n",
    "double_odd_num\n",
    "```"
   ]
  },
  {
   "cell_type": "code",
   "execution_count": null,
   "metadata": {},
   "outputs": [],
   "source": []
  },
  {
   "cell_type": "markdown",
   "metadata": {},
   "source": [
    "# dictionary 응용"
   ]
  },
  {
   "cell_type": "markdown",
   "metadata": {},
   "source": [
    "저번 시간에 dictionary의 기초에 대해 배웠습니다.<br> 이번 시간은 dictionary에서 많이 쓰이는 함수와, for문과 같이 연계하는 법을 배워보겠습니다."
   ]
  },
  {
   "cell_type": "markdown",
   "metadata": {},
   "source": [
    "#### dictionary 함수"
   ]
  },
  {
   "cell_type": "code",
   "execution_count": 487,
   "metadata": {},
   "outputs": [],
   "source": [
    "# dic = {\"name\":\"이상민\", \"school\":\"경희대\", \"age\":24}\n"
   ]
  },
  {
   "cell_type": "code",
   "execution_count": 488,
   "metadata": {},
   "outputs": [],
   "source": [
    "# dic.keys()\n"
   ]
  },
  {
   "cell_type": "code",
   "execution_count": 489,
   "metadata": {},
   "outputs": [],
   "source": [
    "# dic.values()\n"
   ]
  },
  {
   "cell_type": "code",
   "execution_count": 490,
   "metadata": {},
   "outputs": [],
   "source": [
    "# dic.items()\n"
   ]
  },
  {
   "cell_type": "markdown",
   "metadata": {},
   "source": [
    "#### dictionary key, value 탐색하기"
   ]
  },
  {
   "cell_type": "markdown",
   "metadata": {},
   "source": [
    "- key 탐색"
   ]
  },
  {
   "cell_type": "markdown",
   "metadata": {},
   "source": [
    "```python\n",
    "for i in dic.keys():\n",
    "    print(i)\n",
    "```"
   ]
  },
  {
   "cell_type": "code",
   "execution_count": null,
   "metadata": {},
   "outputs": [],
   "source": []
  },
  {
   "cell_type": "markdown",
   "metadata": {},
   "source": [
    "- value 탐색"
   ]
  },
  {
   "cell_type": "markdown",
   "metadata": {},
   "source": [
    "```python\n",
    "for i in dic.keys():\n",
    "    print(dic[i])\n",
    "```\n",
    "\n",
    "```python\n",
    "for i in dic.values():\n",
    "    print(i)\n",
    "```"
   ]
  },
  {
   "cell_type": "code",
   "execution_count": null,
   "metadata": {},
   "outputs": [],
   "source": []
  },
  {
   "cell_type": "code",
   "execution_count": null,
   "metadata": {},
   "outputs": [],
   "source": []
  },
  {
   "cell_type": "markdown",
   "metadata": {},
   "source": [
    "- key, value 동시 탐색"
   ]
  },
  {
   "cell_type": "code",
   "execution_count": null,
   "metadata": {},
   "outputs": [],
   "source": []
  },
  {
   "cell_type": "markdown",
   "metadata": {},
   "source": [
    "- 정렬하기"
   ]
  },
  {
   "cell_type": "code",
   "execution_count": 491,
   "metadata": {},
   "outputs": [],
   "source": [
    "# dic={'a':2, 'b':3, 'c':1, 'd':7, 'e':5}\n"
   ]
  },
  {
   "cell_type": "code",
   "execution_count": 492,
   "metadata": {},
   "outputs": [],
   "source": [
    "# sorted(a, key = lambda x : 정렬 기준)\n",
    "\n",
    "# sorted(dic.items(), key=lambda x:x[0])\n",
    "# sorted(dic.items(), key=lambda x:x[1])"
   ]
  },
  {
   "cell_type": "markdown",
   "metadata": {},
   "source": [
    "# Series"
   ]
  },
  {
   "cell_type": "markdown",
   "metadata": {},
   "source": [
    "데이터 분석을 할 때, 많이 보게 되는 데이터 구조가 있습니다. 바로 Series와 DataFrame입니다.<br>\n",
    "\n",
    "앞서 배운 list와 dictionary는 1행(가로행)으로 배열되어 있어 사람이 데이터를 보고 파악하기 힘듭니다. 그래서 행과 열이라는 형태로 나타내기 위해 Series와 DataFrame이 만들어졌습니다.<br>\n",
    "\n",
    "먼저 Series에 대해 알아보겠습니다. Series를 이해하기 위한 가장 좋은 예시는 excel시트의 열 하나를 떠올리는 겁니다. 하지만 excel과 달리 Series는 행의 이름(index)와 열의 이름(column)을 원하는 대로 입력할 수 있습니다."
   ]
  },
  {
   "cell_type": "markdown",
   "metadata": {},
   "source": [
    "#### 패키지 불러오기"
   ]
  },
  {
   "cell_type": "markdown",
   "metadata": {},
   "source": [
    "- import 패키지이름 as 축약"
   ]
  },
  {
   "cell_type": "code",
   "execution_count": 112,
   "metadata": {},
   "outputs": [],
   "source": [
    "# 아래 두 개는 데이터 분석할 때, 습관처럼 입력\n",
    "import numpy as np\n",
    "import pandas as pd"
   ]
  },
  {
   "cell_type": "code",
   "execution_count": null,
   "metadata": {},
   "outputs": [],
   "source": []
  },
  {
   "cell_type": "markdown",
   "metadata": {},
   "source": [
    "#### Series 생성하기\n",
    "\n",
    "#### 1) list\n",
    "- Series([data value], index=[data index])\n",
    "\n",
    "#### 2) dictionary\n",
    "- Series({data index : data value})"
   ]
  },
  {
   "cell_type": "code",
   "execution_count": 493,
   "metadata": {},
   "outputs": [],
   "source": [
    "# data1 = pd.Series([3,5,1,2])\n"
   ]
  },
  {
   "cell_type": "code",
   "execution_count": null,
   "metadata": {},
   "outputs": [],
   "source": []
  },
  {
   "cell_type": "code",
   "execution_count": 494,
   "metadata": {},
   "outputs": [],
   "source": [
    "# 사전 타입의 데이터로 Series 생성\n",
    "# data2 = pd.Series({'a':3, 'b':15, 'c':5, 'd':35})\n"
   ]
  },
  {
   "cell_type": "code",
   "execution_count": 495,
   "metadata": {},
   "outputs": [],
   "source": [
    "# 값은 모든 데이터 타입 가능\n",
    "# data3 = pd.Series(['big data', 30, [1,2,3]])\n"
   ]
  },
  {
   "cell_type": "code",
   "execution_count": 496,
   "metadata": {},
   "outputs": [],
   "source": [
    "# Series 생성할 때 index 같이 생성\n",
    "# data4 = pd.Series([3,15,5,35], index=['a','b','c','d'])\n"
   ]
  },
  {
   "cell_type": "markdown",
   "metadata": {},
   "source": [
    "#### Series 필수 함수"
   ]
  },
  {
   "cell_type": "code",
   "execution_count": 497,
   "metadata": {},
   "outputs": [],
   "source": [
    "# data2\n"
   ]
  },
  {
   "cell_type": "code",
   "execution_count": 498,
   "metadata": {},
   "outputs": [],
   "source": [
    "# type(data2) : data의 타입 확인 \n"
   ]
  },
  {
   "cell_type": "code",
   "execution_count": 499,
   "metadata": {},
   "outputs": [],
   "source": [
    "# dtypes : data 형태 반환\n",
    "# data2.dtypes\n"
   ]
  },
  {
   "cell_type": "code",
   "execution_count": 500,
   "metadata": {},
   "outputs": [],
   "source": [
    "# size : 크기 반환\n",
    "# data2.size\n"
   ]
  },
  {
   "cell_type": "code",
   "execution_count": 501,
   "metadata": {},
   "outputs": [],
   "source": [
    "# Series.index : series index\n",
    "# data2.index -> index를 뽑아내고 싶으면\n",
    "# data2.index = ['1', '2', '3','4']\n"
   ]
  },
  {
   "cell_type": "code",
   "execution_count": 502,
   "metadata": {},
   "outputs": [],
   "source": [
    "# list('ABCDE')\n"
   ]
  },
  {
   "cell_type": "code",
   "execution_count": 503,
   "metadata": {},
   "outputs": [],
   "source": [
    "# data4 = pd.Series([10, -2, 3.5, 4.0, 8.0], index=list('ABCDE'))\n"
   ]
  },
  {
   "cell_type": "code",
   "execution_count": 504,
   "metadata": {},
   "outputs": [],
   "source": [
    "# values : 값 반환\n",
    "# data4.values\n"
   ]
  },
  {
   "cell_type": "markdown",
   "metadata": {},
   "source": [
    "- 보통 수학과 관련된 함수에는 ()가 붙는다"
   ]
  },
  {
   "cell_type": "code",
   "execution_count": 505,
   "metadata": {},
   "outputs": [],
   "source": [
    "# abs() : 절댓값\n"
   ]
  },
  {
   "cell_type": "code",
   "execution_count": 506,
   "metadata": {},
   "outputs": [],
   "source": [
    "# max() : 최댓값\n"
   ]
  },
  {
   "cell_type": "code",
   "execution_count": 507,
   "metadata": {},
   "outputs": [],
   "source": [
    "# min() : 최솟값\n"
   ]
  },
  {
   "cell_type": "code",
   "execution_count": 508,
   "metadata": {},
   "outputs": [],
   "source": [
    "# mean() : 평균\n"
   ]
  },
  {
   "cell_type": "code",
   "execution_count": 509,
   "metadata": {},
   "outputs": [],
   "source": [
    "# append()\n",
    "# data4.append(pd.Series({'F':2}))\n"
   ]
  },
  {
   "cell_type": "code",
   "execution_count": 510,
   "metadata": {},
   "outputs": [],
   "source": [
    "# add() # 모든 요소에 더하기\n"
   ]
  },
  {
   "cell_type": "code",
   "execution_count": 511,
   "metadata": {},
   "outputs": [],
   "source": [
    "# describe()\n"
   ]
  },
  {
   "cell_type": "markdown",
   "metadata": {},
   "source": [
    "#### Series 데이터 접근하기"
   ]
  },
  {
   "cell_type": "code",
   "execution_count": null,
   "metadata": {},
   "outputs": [],
   "source": []
  },
  {
   "cell_type": "code",
   "execution_count": 512,
   "metadata": {},
   "outputs": [],
   "source": [
    "# index 숫자로 접근\n",
    "# python index는 0부터 시작\n",
    "# data4[2]"
   ]
  },
  {
   "cell_type": "code",
   "execution_count": 513,
   "metadata": {},
   "outputs": [],
   "source": [
    "# index label로 Series 접근\n",
    "# data4['C']"
   ]
  },
  {
   "cell_type": "code",
   "execution_count": 514,
   "metadata": {},
   "outputs": [],
   "source": [
    "# 숫자인덱스가 1,3,5인 항목 조회\n",
    "# data4[ [0,2,4] ]"
   ]
  },
  {
   "cell_type": "markdown",
   "metadata": {},
   "source": [
    "#### Series 응용"
   ]
  },
  {
   "cell_type": "code",
   "execution_count": 515,
   "metadata": {},
   "outputs": [],
   "source": [
    "# list('abcdefghij')\n"
   ]
  },
  {
   "cell_type": "code",
   "execution_count": 516,
   "metadata": {},
   "outputs": [],
   "source": [
    "# data5 = pd.Series([10,20,30,40,50,60,70,80,90,100], index=list('abcdefghij'))\n"
   ]
  },
  {
   "cell_type": "code",
   "execution_count": 517,
   "metadata": {},
   "outputs": [],
   "source": [
    "# data5 = pd.Series([x for x in range(10,101,10)], index=list('abcdefghij'))\n"
   ]
  },
  {
   "cell_type": "code",
   "execution_count": 518,
   "metadata": {},
   "outputs": [],
   "source": [
    "# 'a','c','f' 만 조회\n",
    "# data5[ ['a','c','f'] ]"
   ]
  },
  {
   "cell_type": "code",
   "execution_count": 519,
   "metadata": {},
   "outputs": [],
   "source": [
    "# 숫자 인덱스가 2,3,4,5인 항목 선택\n",
    "# data5[ [2,3,4,5] ]\n",
    "# data5[2:6]\n"
   ]
  },
  {
   "cell_type": "code",
   "execution_count": 520,
   "metadata": {},
   "outputs": [],
   "source": [
    "# 맨 앞에 있는 5개의 항목 선택\n",
    "# data5[ :5 ]"
   ]
  },
  {
   "cell_type": "code",
   "execution_count": 521,
   "metadata": {},
   "outputs": [],
   "source": [
    "# 뒤에서 2번째 항목 선택\n",
    "# data5[-2]\n",
    "# data5[-2:-1]"
   ]
  },
  {
   "cell_type": "code",
   "execution_count": 522,
   "metadata": {},
   "outputs": [],
   "source": [
    "# 가장 뒤에 있는 3개의 항목 선택\n",
    "# data5[-3:]"
   ]
  },
  {
   "cell_type": "code",
   "execution_count": 523,
   "metadata": {},
   "outputs": [],
   "source": [
    "# 뒤에서 3번째, 2번째 불러오기\n",
    "# data5[-3:-1]"
   ]
  },
  {
   "cell_type": "code",
   "execution_count": 524,
   "metadata": {},
   "outputs": [],
   "source": [
    "# index\n",
    "# 반환형이 list\n",
    "# data5.index[:2]"
   ]
  },
  {
   "cell_type": "code",
   "execution_count": 525,
   "metadata": {},
   "outputs": [],
   "source": [
    "# 인덱스 라벨이 'c'부터 'g'까지 항목 선택\n",
    "# data5['c':'g']"
   ]
  },
  {
   "cell_type": "code",
   "execution_count": 526,
   "metadata": {},
   "outputs": [],
   "source": [
    "# 데이터 값이 70이상인 데이터만 불러오기\n",
    "# data5 >= 70\n",
    "# data5[data5 >= 70]\n"
   ]
  },
  {
   "cell_type": "code",
   "execution_count": 527,
   "metadata": {},
   "outputs": [],
   "source": [
    "# 값이 30보다 크거나 같고, 70보다 작은 항목만 선택\n",
    "# data5[(data5>=30) & (data5 < 70)]"
   ]
  },
  {
   "cell_type": "code",
   "execution_count": 528,
   "metadata": {},
   "outputs": [],
   "source": [
    "# data6 = pd.Series([10, -2, 3.5, 4.0, 8.0], index=list('ABCDE'))\n"
   ]
  },
  {
   "cell_type": "code",
   "execution_count": 529,
   "metadata": {},
   "outputs": [],
   "source": [
    "# loc(ation)\n",
    "# data6.loc['C']"
   ]
  },
  {
   "cell_type": "code",
   "execution_count": 530,
   "metadata": {},
   "outputs": [],
   "source": [
    "# i(ndex)loc\n",
    "# data6.iloc[2]"
   ]
  },
  {
   "cell_type": "markdown",
   "metadata": {},
   "source": [
    "# DataFrame"
   ]
  },
  {
   "cell_type": "markdown",
   "metadata": {},
   "source": [
    "Series가 열 한개라면, DataFrame은 여러 열을 모아놓은 것을 말한다."
   ]
  },
  {
   "cell_type": "markdown",
   "metadata": {},
   "source": [
    "## 데이터프레임 생성\n",
    "### 생성자 인자\n",
    "- 1) data : dataFrame에 저장할 데이터\n",
    "- 2) index : 행(row) 이름, 기본값 = 0부터 1씩 증가하는 정수\n",
    "- 3) columns : 열(column) 이름, 기본값 = 0부터 1씩 증가하는 정수\n",
    "- 4) dtype : 데이터 형태(type), 만약 지정하지 않으면 파이썬이 자동으로 값의 형태를 보고 결정\n",
    "- 5) copy : 입력 데이터를 복사할지 지정. 디폴트는 False 임. (복사할 거 아니면 메모리 관리 차원에서 디폴트인 False 설정 사용하면 됨)"
   ]
  },
  {
   "cell_type": "code",
   "execution_count": 531,
   "metadata": {},
   "outputs": [],
   "source": [
    "# 1. 2차원 데이터 생성\n",
    "# data = pd.DataFrame([ [1, 'kim', 26], [2, 'lee', 27] ])\n"
   ]
  },
  {
   "cell_type": "code",
   "execution_count": 532,
   "metadata": {},
   "outputs": [],
   "source": [
    "# row index 설정\n",
    "# data.index = ['A', 'B']\n"
   ]
  },
  {
   "cell_type": "code",
   "execution_count": 533,
   "metadata": {},
   "outputs": [],
   "source": [
    "# column index 설정\n",
    "# data.columns = ['순서', '이름', '나이']\n"
   ]
  },
  {
   "cell_type": "markdown",
   "metadata": {},
   "source": [
    "```python\n",
    "pd.DataFrame(data=[ [1, 'kim', 26], [2, 'lee', 27] ],\n",
    "                     index=['A','B'],\n",
    "                     columns=['order','name','age'])\n",
    "```"
   ]
  },
  {
   "cell_type": "code",
   "execution_count": 534,
   "metadata": {},
   "outputs": [],
   "source": [
    "# 1,2,3 한꺼번에 하기\n"
   ]
  },
  {
   "cell_type": "markdown",
   "metadata": {},
   "source": [
    "```python\n",
    "population_dic = {'서울':[1053.5, 1023, 987],\n",
    "                  '경기':[1023, 1067, 1123],\n",
    "                  '충청':[512, 489, 487],\n",
    "                  '경상':[897, 872, 811],\n",
    "                  '전라':[451, 421, 399] }\n",
    "population_dic\n",
    "```"
   ]
  },
  {
   "cell_type": "code",
   "execution_count": 535,
   "metadata": {},
   "outputs": [],
   "source": [
    "# 사전 타입 데이터를 이용하여 데이터 프레임 생성하기\n"
   ]
  },
  {
   "cell_type": "code",
   "execution_count": 536,
   "metadata": {},
   "outputs": [],
   "source": [
    "# data2 = pd.DataFrame(population_dic)\n"
   ]
  },
  {
   "cell_type": "code",
   "execution_count": 537,
   "metadata": {},
   "outputs": [],
   "source": [
    "# row index를 2015, 2016, 2017로 만들기\n",
    "# data2.index = [x for x in range(2015, 2018)]\n"
   ]
  },
  {
   "cell_type": "markdown",
   "metadata": {},
   "source": [
    "## DataFrame 속성 조회하기 (속성을 조회할 때에는 ()를 사용하지 않으니 유의하기 바람.)"
   ]
  },
  {
   "cell_type": "code",
   "execution_count": null,
   "metadata": {},
   "outputs": [],
   "source": []
  },
  {
   "cell_type": "code",
   "execution_count": 538,
   "metadata": {},
   "outputs": [],
   "source": [
    "# T (Transpose) : 행과 열을 바꾸기.\n",
    "# data2.T\n"
   ]
  },
  {
   "cell_type": "code",
   "execution_count": 539,
   "metadata": {},
   "outputs": [],
   "source": [
    "# axes : 행과 열 이름을 리스트로 반환\n",
    "# data2.axes\n"
   ]
  },
  {
   "cell_type": "code",
   "execution_count": 540,
   "metadata": {},
   "outputs": [],
   "source": [
    "# dtypes : 데이터 형태 반환\n",
    "# data2.dtypes\n"
   ]
  },
  {
   "cell_type": "code",
   "execution_count": 541,
   "metadata": {},
   "outputs": [],
   "source": [
    "# 참고\n",
    "# float64 -> int64 data type 변경\n",
    "# data2['서울'] = data2['서울'].astype('int64')\n"
   ]
  },
  {
   "cell_type": "code",
   "execution_count": 542,
   "metadata": {},
   "outputs": [],
   "source": [
    "# shape : 행과 열의 개수(차원)을 튜플로 반환\n",
    "# shape[0]행, shape[1]열\n"
   ]
  },
  {
   "cell_type": "code",
   "execution_count": 543,
   "metadata": {},
   "outputs": [],
   "source": [
    "# size : DataFrame의 원소의 개수를 반환\n"
   ]
  },
  {
   "cell_type": "code",
   "execution_count": 544,
   "metadata": {},
   "outputs": [],
   "source": [
    "# index : 데이터프레임의 인덱스를 리스트로 반환\n"
   ]
  },
  {
   "cell_type": "code",
   "execution_count": 545,
   "metadata": {},
   "outputs": [],
   "source": [
    "# columns : 데이터프레임의 컬럼을 리스트로 반환\n"
   ]
  },
  {
   "cell_type": "code",
   "execution_count": 546,
   "metadata": {},
   "outputs": [],
   "source": [
    "# values : 데이터프레임의 값들을 반환\n"
   ]
  },
  {
   "cell_type": "markdown",
   "metadata": {},
   "source": [
    "#### DataFrame 값 접근하기"
   ]
  },
  {
   "cell_type": "markdown",
   "metadata": {},
   "source": [
    "- 행 접근"
   ]
  },
  {
   "cell_type": "code",
   "execution_count": 547,
   "metadata": {},
   "outputs": [],
   "source": [
    "# 숫자 인덱스 하나 쓰면 접근X\n",
    "# data2[2]"
   ]
  },
  {
   "cell_type": "code",
   "execution_count": 548,
   "metadata": {},
   "outputs": [],
   "source": [
    "# index slicing은 가능\n",
    "# data2[:2]"
   ]
  },
  {
   "cell_type": "markdown",
   "metadata": {},
   "source": [
    "```python\n",
    "df = pd.DataFrame( {'Class' : ['loT', 'Network', 'Economy', 'Big Data', 'Cloud'],\n",
    "                      'Year' : [ 2018, 2017, 2018, 2018, 2019],\n",
    "                      'Price' :[100, 125, 132, 312, 250],\n",
    "                      'Location' : ['Korea', 'Korea', 'Korea', 'US', 'France']},\n",
    "                      index = ['C01', 'C02', 'C03', 'C04', 'C05'])\n",
    "\n",
    "```"
   ]
  },
  {
   "cell_type": "code",
   "execution_count": 571,
   "metadata": {},
   "outputs": [],
   "source": [
    "df = pd.DataFrame( {'Class' : ['loT', 'Network', 'Economy', 'Big Data', 'Cloud'],\n",
    "                      'Year' : [ 2018, 2017, 2018, 2018, 2019],\n",
    "                      'Price' :[100, 125, 132, 312, 250],\n",
    "                      'Location' : ['Korea', 'Korea', 'Korea', 'US', 'France']},\n",
    "                      index = ['C01', 'C02', 'C03', 'C04', 'C05'])"
   ]
  },
  {
   "cell_type": "code",
   "execution_count": 549,
   "metadata": {},
   "outputs": [],
   "source": [
    "# index label 하나로 접근 x\n",
    "# df['CO1']"
   ]
  },
  {
   "cell_type": "markdown",
   "metadata": {},
   "source": [
    "- 열 접근"
   ]
  },
  {
   "cell_type": "code",
   "execution_count": 550,
   "metadata": {},
   "outputs": [],
   "source": [
    "# 열로 접근하고 싶으면 column명을 직접 입력\n",
    "# Price 정보만 조회하기\n",
    "# df['Price']"
   ]
  },
  {
   "cell_type": "code",
   "execution_count": 551,
   "metadata": {},
   "outputs": [],
   "source": [
    "# Class와 Year 컬럼만 조회\n",
    "# 여러 개의 컬럼들을 조회하기 위해서는 컬럼명들을 리스트로 선언해야 함.\n",
    "# df[['Class','Year']]"
   ]
  },
  {
   "cell_type": "markdown",
   "metadata": {},
   "source": [
    "#### loc를 통한 접근\n",
    "loc는 특정 name을 지정해줘야함"
   ]
  },
  {
   "cell_type": "markdown",
   "metadata": {},
   "source": [
    "- 행 접근"
   ]
  },
  {
   "cell_type": "code",
   "execution_count": 552,
   "metadata": {},
   "outputs": [],
   "source": [
    "# 행을 row로 접근하여 조회하기\n",
    "# row index가 'C04'인 경우만 조회하기\n",
    "# df.loc['C01']"
   ]
  },
  {
   "cell_type": "code",
   "execution_count": 553,
   "metadata": {},
   "outputs": [],
   "source": [
    "# row label로 slicing (start index와 end index 모두 포함)\n",
    "# :로 접근\n",
    "# df.loc['C01':'C03']"
   ]
  },
  {
   "cell_type": "code",
   "execution_count": 554,
   "metadata": {},
   "outputs": [],
   "source": [
    "# C01, C03 추출\n",
    "#loc를 생략하면 KeyError 발생\n",
    "# df.loc[['C01','C03']]"
   ]
  },
  {
   "cell_type": "markdown",
   "metadata": {},
   "source": [
    "- 열 접근"
   ]
  },
  {
   "cell_type": "code",
   "execution_count": 555,
   "metadata": {},
   "outputs": [],
   "source": [
    "# Price 정보만 조회하기\n",
    "# df.loc[:,'Price'] # = df['Price']"
   ]
  },
  {
   "cell_type": "code",
   "execution_count": 556,
   "metadata": {},
   "outputs": [],
   "source": [
    "# Class와 Year 컬럼만 조회\n",
    "# df.loc[:,['Class','Year']] # df[['Class','Year']]"
   ]
  },
  {
   "cell_type": "code",
   "execution_count": 557,
   "metadata": {},
   "outputs": [],
   "source": [
    "# 특정 컬럼과 로우를 동시에 인덱싱하기\n",
    "# C02, C03 강의의 Class와 Year, Price 정보만 조회\n",
    "# df.loc[ ['C02', 'C03'], ['Class','Year','Price']]"
   ]
  },
  {
   "cell_type": "markdown",
   "metadata": {},
   "source": [
    "#### iloc를 통한 접근\n",
    "i는 index를 의미하며 숫자를 통해 접근"
   ]
  },
  {
   "cell_type": "markdown",
   "metadata": {},
   "source": [
    "- 행 접근"
   ]
  },
  {
   "cell_type": "code",
   "execution_count": null,
   "metadata": {},
   "outputs": [],
   "source": []
  },
  {
   "cell_type": "code",
   "execution_count": 558,
   "metadata": {},
   "outputs": [],
   "source": [
    "# 행을 숫자 index로 접근하여 조회하기 (iloc)\n",
    "# df.iloc[2]\n"
   ]
  },
  {
   "cell_type": "code",
   "execution_count": 559,
   "metadata": {},
   "outputs": [],
   "source": [
    "# row index로 slicing (start index와 end index 모두 포함)\n",
    "# df.iloc[:2]"
   ]
  },
  {
   "cell_type": "markdown",
   "metadata": {},
   "source": [
    "- 열 접근"
   ]
  },
  {
   "cell_type": "code",
   "execution_count": 560,
   "metadata": {},
   "outputs": [],
   "source": [
    "# Class와 Year, Price 정보만 조회\n",
    "# df.iloc[:, :3]"
   ]
  },
  {
   "cell_type": "code",
   "execution_count": 561,
   "metadata": {},
   "outputs": [],
   "source": [
    "# C02, C03 강의의 Class와 Year, Price 정보만 조회\n",
    "# df.iloc[1:3, :3]"
   ]
  },
  {
   "cell_type": "markdown",
   "metadata": {},
   "source": [
    "#### 조건 indexing"
   ]
  },
  {
   "cell_type": "code",
   "execution_count": 562,
   "metadata": {},
   "outputs": [],
   "source": [
    "# Price의 값이 200보다 큰 경우만 조회하기\n",
    "# df[df['Price']>200]\n"
   ]
  },
  {
   "cell_type": "code",
   "execution_count": 563,
   "metadata": {},
   "outputs": [],
   "source": [
    "# 아래 결과들이 출력되도록 코드를 완성하시오.\n",
    "# 실습 1. 'Location' 컬럼만 조회\n",
    "\n",
    "# 그냥 접근\n",
    "# df['Location']\n",
    "\n",
    "# loc를 통해 접근\n",
    "# df.loc[:,'Location']\n",
    "\n",
    "# iloc를 통해 접근\n",
    "# df.iloc[:,3:]"
   ]
  },
  {
   "cell_type": "code",
   "execution_count": 564,
   "metadata": {},
   "outputs": [],
   "source": [
    "# 실습 2. 'Class'와 'Price' 컬럼만 조회\n",
    "\n",
    "# 그냥 접근\n",
    "# df[['Class','Price']]\n",
    "\n",
    "# loc를 통해 접근\n",
    "# df.loc[:,['Class','Price']]\n",
    "\n",
    "# iloc를 통해 접근\n",
    "# df.iloc[:,[0,2]] #행 접근할 때 많이 쓰임"
   ]
  },
  {
   "cell_type": "code",
   "execution_count": 589,
   "metadata": {},
   "outputs": [
    {
     "data": {
      "text/html": [
       "<div>\n",
       "<style scoped>\n",
       "    .dataframe tbody tr th:only-of-type {\n",
       "        vertical-align: middle;\n",
       "    }\n",
       "\n",
       "    .dataframe tbody tr th {\n",
       "        vertical-align: top;\n",
       "    }\n",
       "\n",
       "    .dataframe thead th {\n",
       "        text-align: right;\n",
       "    }\n",
       "</style>\n",
       "<table border=\"1\" class=\"dataframe\">\n",
       "  <thead>\n",
       "    <tr style=\"text-align: right;\">\n",
       "      <th></th>\n",
       "      <th>Class</th>\n",
       "      <th>Price</th>\n",
       "    </tr>\n",
       "  </thead>\n",
       "  <tbody>\n",
       "    <tr>\n",
       "      <td>C01</td>\n",
       "      <td>loT</td>\n",
       "      <td>100</td>\n",
       "    </tr>\n",
       "    <tr>\n",
       "      <td>C02</td>\n",
       "      <td>Network</td>\n",
       "      <td>125</td>\n",
       "    </tr>\n",
       "    <tr>\n",
       "      <td>C03</td>\n",
       "      <td>Economy</td>\n",
       "      <td>132</td>\n",
       "    </tr>\n",
       "    <tr>\n",
       "      <td>C04</td>\n",
       "      <td>Big Data</td>\n",
       "      <td>312</td>\n",
       "    </tr>\n",
       "    <tr>\n",
       "      <td>C05</td>\n",
       "      <td>Cloud</td>\n",
       "      <td>250</td>\n",
       "    </tr>\n",
       "  </tbody>\n",
       "</table>\n",
       "</div>"
      ],
      "text/plain": [
       "        Class  Price\n",
       "C01       loT    100\n",
       "C02   Network    125\n",
       "C03   Economy    132\n",
       "C04  Big Data    312\n",
       "C05     Cloud    250"
      ]
     },
     "execution_count": 589,
     "metadata": {},
     "output_type": "execute_result"
    }
   ],
   "source": [
    "# 실습 3. C01과 C03 강의의 모든 컬럼 조회\n",
    "\n",
    "# 그냥 접근\n",
    "df[ ['Class','Price'] ]\n",
    "\n",
    "# loc를 통해 접근\n",
    "# df.loc[['C01','C03'],:]\n",
    "\n",
    "# iloc를 통해 접근\n",
    "#df.iloc[[0,2],:]"
   ]
  },
  {
   "cell_type": "code",
   "execution_count": 310,
   "metadata": {},
   "outputs": [],
   "source": [
    "# 실습 4. C01~C03 강의의 Class와 Price만 조회\n",
    "\n",
    "\n",
    "# loc를 통해 접근\n",
    "# df.loc['C01':'C03',['Class','Price']]\n",
    "\n",
    "# iloc를 통해 접근\n",
    "# df.iloc[:3,[0,2]]"
   ]
  },
  {
   "cell_type": "code",
   "execution_count": 311,
   "metadata": {},
   "outputs": [],
   "source": [
    "# 실습 5. Year가 2018이고, Price가 200 미만인 강의만 조회\n",
    "# df[(df.Year == 2018) & (df.Price<200)]"
   ]
  },
  {
   "cell_type": "markdown",
   "metadata": {},
   "source": [
    "#### 데이터프레임에 새로운 컬럼 추가하기"
   ]
  },
  {
   "cell_type": "code",
   "execution_count": 565,
   "metadata": {},
   "outputs": [],
   "source": [
    "# numStudent 컬럼 추가하고, 값을 10으로 저장\n",
    "# df['numStudent'] = 10\n"
   ]
  },
  {
   "cell_type": "code",
   "execution_count": 566,
   "metadata": {},
   "outputs": [],
   "source": [
    "# numStudent 의 값을 15, 30, 26, 32, 50으로 변경\n",
    "# df['numStudent'] = [15,30,26,32,50]\n"
   ]
  },
  {
   "cell_type": "code",
   "execution_count": 567,
   "metadata": {},
   "outputs": [],
   "source": [
    "# Price과 numStudent의 값을 곱한 값을 'Income'라는 새 컬럼으로 추가\n",
    "# df['income'] = df['Price'] * df['numStudent']\n"
   ]
  },
  {
   "cell_type": "markdown",
   "metadata": {},
   "source": [
    "#### 데이터프레임 로우, 컬럼 삭제"
   ]
  },
  {
   "cell_type": "markdown",
   "metadata": {},
   "source": [
    "drop(['지우고자 하는 인덱스명', axis=1])<br>\n",
    "원본변경x <br>\n",
    "axis=0 이면 로우 삭제, axis=1 컬럼 삭제<br>\n",
    "axis는 축"
   ]
  },
  {
   "cell_type": "code",
   "execution_count": 568,
   "metadata": {},
   "outputs": [],
   "source": [
    "# df.drop(['numStudent'],axis=1)\n"
   ]
  },
  {
   "cell_type": "code",
   "execution_count": 570,
   "metadata": {},
   "outputs": [],
   "source": [
    "# 'Income' 컬럼 삭제\n"
   ]
  },
  {
   "cell_type": "code",
   "execution_count": 483,
   "metadata": {},
   "outputs": [],
   "source": [
    "# inplace=True option 부여\n"
   ]
  }
 ],
 "metadata": {
  "kernelspec": {
   "display_name": "Python 3",
   "language": "python",
   "name": "python3"
  },
  "language_info": {
   "codemirror_mode": {
    "name": "ipython",
    "version": 3
   },
   "file_extension": ".py",
   "mimetype": "text/x-python",
   "name": "python",
   "nbconvert_exporter": "python",
   "pygments_lexer": "ipython3",
   "version": "3.6.9"
  }
 },
 "nbformat": 4,
 "nbformat_minor": 2
}
